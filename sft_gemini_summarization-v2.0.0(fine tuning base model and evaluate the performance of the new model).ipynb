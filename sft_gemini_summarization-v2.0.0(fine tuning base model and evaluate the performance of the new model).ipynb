{
 "cells": [
  {
   "cell_type": "code",
   "execution_count": null,
   "metadata": {
    "id": "i3oNB_qC4X2Y"
   },
   "outputs": [],
   "source": [
    "# Copyright 2024 Google LLC\n",
    "#\n",
    "# Licensed under the Apache License, Version 2.0 (the \"License\");\n",
    "# you may not use this file except in compliance with the License.\n",
    "# You may obtain a copy of the License at\n",
    "#\n",
    "#     https://www.apache.org/licenses/LICENSE-2.0\n",
    "#\n",
    "# Unless required by applicable law or agreed to in writing, software\n",
    "# distributed under the License is distributed on an \"AS IS\" BASIS,\n",
    "# WITHOUT WARRANTIES OR CONDITIONS OF ANY KIND, either express or implied.\n",
    "# See the License for the specific language governing permissions and\n",
    "# limitations under the License."
   ]
  },
  {
   "cell_type": "markdown",
   "metadata": {
    "id": "c4-kxwz23nzr"
   },
   "source": [
    "# Supervised Fine Tuning with Gemini 2.0 Flash for Article Summarization\n",
    "\n",
    "<table align=\"left\">\n",
    "  <td style=\"text-align: center\">\n",
    "    <a href=\"https://colab.research.google.com/github/GoogleCloudPlatform/generative-ai/blob/main/gemini/tuning/sft_gemini_summarization.ipynb\">\n",
    "      <img src=\"https://cloud.google.com/ml-engine/images/colab-logo-32px.png\" alt=\"Google Colaboratory logo\"><br> Open in Colab\n",
    "    </a>\n",
    "  </td>\n",
    "  <td style=\"text-align: center\">\n",
    "    <a href=\"https://console.cloud.google.com/vertex-ai/colab/import/https:%2F%2Fraw.githubusercontent.com%2FGoogleCloudPlatform%2Fgenerative-ai%2Fmain%2Fgemini%2Ftuning%2Fsft_gemini_summarization.ipynb\">\n",
    "      <img width=\"32px\" src=\"https://lh3.googleusercontent.com/JmcxdQi-qOpctIvWKgPtrzZdJJK-J3sWE1RsfjZNwshCFgE_9fULcNpuXYTilIR2hjwN\" alt=\"Google Cloud Colab Enterprise logo\"><br> Open in Colab Enterprise\n",
    "    </a>\n",
    "  </td>    \n",
    "  <td style=\"text-align: center\">\n",
    "    <a href=\"https://console.cloud.google.com/vertex-ai/workbench/deploy-notebook?download_url=https://raw.githubusercontent.com/GoogleCloudPlatform/generative-ai/main/gemini/tuning/sft_gemini_summarization.ipynb\">\n",
    "      <img src=\"https://lh3.googleusercontent.com/UiNooY4LUgW_oTvpsNhPpQzsstV5W8F7rYgxgGBD85cWJoLmrOzhVs_ksK_vgx40SHs7jCqkTkCk=e14-rj-sc0xffffff-h130-w32\" alt=\"Vertex AI logo\"><br> Open in Workbench\n",
    "    </a>\n",
    "  </td>\n",
    "  <td style=\"text-align: center\">\n",
    "    <a href=\"https://github.com/GoogleCloudPlatform/generative-ai/blob/main/gemini/tuning/sft_gemini_summarization.ipynb\">\n",
    "      <img src=\"https://cloud.google.com/ml-engine/images/github-logo-32px.png\" alt=\"GitHub logo\"><br> View on GitHub\n",
    "    </a>\n",
    "  </td>\n",
    "</table>\n",
    "\n",
    "<div style=\"clear: both;\"></div>\n",
    "\n",
    "<b>Share to:</b>\n",
    "\n",
    "<a href=\"https://www.linkedin.com/sharing/share-offsite/?url=https%3A//github.com/GoogleCloudPlatform/generative-ai/blob/main/gemini/tuning/sft_gemini_summarization.ipynb\" target=\"_blank\">\n",
    "  <img width=\"20px\" src=\"https://upload.wikimedia.org/wikipedia/commons/8/81/LinkedIn_icon.svg\" alt=\"LinkedIn logo\">\n",
    "</a>\n",
    "\n",
    "<a href=\"https://bsky.app/intent/compose?text=https%3A//github.com/GoogleCloudPlatform/generative-ai/blob/main/gemini/tuning/sft_gemini_summarization.ipynb\" target=\"_blank\">\n",
    "  <img width=\"20px\" src=\"https://upload.wikimedia.org/wikipedia/commons/7/7a/Bluesky_Logo.svg\" alt=\"Bluesky logo\">\n",
    "</a>\n",
    "\n",
    "<a href=\"https://twitter.com/intent/tweet?url=https%3A//github.com/GoogleCloudPlatform/generative-ai/blob/main/gemini/tuning/sft_gemini_summarization.ipynb\" target=\"_blank\">\n",
    "  <img width=\"20px\" src=\"https://upload.wikimedia.org/wikipedia/commons/5/5a/X_icon_2.svg\" alt=\"X logo\">\n",
    "</a>\n",
    "\n",
    "<a href=\"https://reddit.com/submit?url=https%3A//github.com/GoogleCloudPlatform/generative-ai/blob/main/gemini/tuning/sft_gemini_summarization.ipynb\" target=\"_blank\">\n",
    "  <img width=\"20px\" src=\"https://redditinc.com/hubfs/Reddit%20Inc/Brand/Reddit_Logo.png\" alt=\"Reddit logo\">\n",
    "</a>\n",
    "\n",
    "<a href=\"https://www.facebook.com/sharer/sharer.php?u=https%3A//github.com/GoogleCloudPlatform/generative-ai/blob/main/gemini/tuning/sft_gemini_summarization.ipynb\" target=\"_blank\">\n",
    "  <img width=\"20px\" src=\"https://upload.wikimedia.org/wikipedia/commons/5/51/Facebook_f_logo_%282019%29.svg\" alt=\"Facebook logo\">\n",
    "</a>            "
   ]
  },
  {
   "cell_type": "markdown",
   "metadata": {
    "id": "pO98gUu-4eTJ"
   },
   "source": [
    "| Author(s) |\n",
    "| --- |\n",
    "| [Deepak Moonat](https://github.com/dmoonat) |\n",
    "| [Safiuddin Khaja](https://github.com/Safikh) |"
   ]
  },
  {
   "cell_type": "markdown",
   "metadata": {
    "id": "PN72vQp6DWck"
   },
   "source": [
    "## Overview\n",
    "\n",
    "**Gemini** is a family of generative AI models developed by Google DeepMind that is designed for multimodal use cases. The Gemini API gives you access to the various Gemini models, such as Gemini 2.0 Pro/Flash, Gemini 2.0/Flash, Gemini/Flash and more.\n",
    "\n",
    "This notebook demonstrates how to fine-tune the Gemini 2.0 Flash generative model using the Vertex AI Supervised Tuning feature. Supervised Tuning allows you to use your own training data to further refine the base model's capabilities towards your specific tasks.\n",
    "\n",
    "Supervised Tuning uses labeled examples to tune a model. Each example demonstrates the output you want from your text model during inference.\n",
    "\n",
    "First, ensure your training data is of high quality, well-labeled, and directly relevant to the target task. This is crucial as low-quality data can adversely affect the performance and introduce bias in the fine-tuned model.\n",
    "- Training: Experiment with different configurations to optimize the model's performance on the target task.\n",
    "- Evaluation:\n",
    "  - Metric: Choose appropriate evaluation metrics that accurately reflect the success of the fine-tuned model for your specific task\n",
    "  - Evaluation Set: Use a separate set of data to evaluate the model's performance\n",
    "\n",
    "\n",
    "Refer to public [documentation](https://cloud.google.com/vertex-ai/generative-ai/docs/models/gemini-supervised-tuning) for more details.\n",
    "\n",
    "\n",
    "<hr/>\n",
    "\n",
    "Before running this notebook, ensure you have:\n",
    "\n",
    "- A Google Cloud project: Provide your project ID in the `PROJECT_ID` variable.\n",
    "\n",
    "- Authenticated your Colab environment: Run the authentication code block at the beginning.\n",
    "\n",
    "- Prepared training data (Test with your own data or use the one in the notebook): Data should be formatted in JSONL with prompts and corresponding completions."
   ]
  },
  {
   "cell_type": "markdown",
   "metadata": {
    "id": "77ppk4eke7G4"
   },
   "source": [
    "### Objective\n",
    "\n",
    "In this tutorial, you will learn how to use `Vertex AI` to tune a `Gemini 2.0 Flash` model.\n",
    "\n",
    "\n",
    "This tutorial uses the following Google Cloud ML services:\n",
    "\n",
    "- `Vertex AI`\n",
    "\n",
    "\n",
    "The steps performed include:\n",
    "\n",
    "- Prepare and load the dataset\n",
    "- Load the `gemini-2.0-flash-001` model\n",
    "- Evaluate the model before tuning\n",
    "- Tune the model.\n",
    "  - This will automatically create a Vertex AI endpoint and deploy the model to it\n",
    "- Make a prediction using tuned model\n",
    "- Evaluate the model after tuning"
   ]
  },
  {
   "cell_type": "markdown",
   "metadata": {
    "id": "PVRaH5wqfIy3"
   },
   "source": [
    "### Costs\n",
    "\n",
    "This tutorial uses billable components of Google Cloud:\n",
    "\n",
    "* Vertex AI\n",
    "* Cloud Storage\n",
    "\n",
    "Learn about [Vertex AI\n",
    "pricing](https://cloud.google.com/vertex-ai/pricing), [Cloud Storage\n",
    "pricing](https://cloud.google.com/storage/pricing), and use the [Pricing\n",
    "Calculator](https://cloud.google.com/products/calculator/)\n",
    "to generate a cost estimate based on your projected usage."
   ]
  },
  {
   "cell_type": "markdown",
   "metadata": {
    "id": "sfQYl84Cu_xL"
   },
   "source": [
    "## Wikilingua Dataset"
   ]
  },
  {
   "cell_type": "markdown",
   "metadata": {
    "id": "SxAXgV2FvBPz"
   },
   "source": [
    "The dataset includes article and summary pairs from WikiHow. It consists of  article-summary pairs in multiple languages. Refer to the following [github repository](https://github.com/esdurmus/Wikilingua) for more details.\n",
    "\n",
    "For this notebook, we have picked `english` language dataset."
   ]
  },
  {
   "cell_type": "markdown",
   "metadata": {
    "id": "KTHBNpb-BBdc"
   },
   "source": [
    "### Dataset Citation\n",
    "\n",
    "```\n",
    "@inproceedings{ladhak-wiki-2020,\n",
    "    title={WikiLingua: A New Benchmark Dataset for Multilingual Abstractive Summarization},\n",
    "    author={Faisal Ladhak, Esin Durmus, Claire Cardie and Kathleen McKeown},\n",
    "    booktitle={Findings of EMNLP, 2020},\n",
    "    year={2020}\n",
    "}\n",
    "```"
   ]
  },
  {
   "cell_type": "markdown",
   "metadata": {
    "id": "llEFILYz2aye"
   },
   "source": [
    "## Getting Started"
   ]
  },
  {
   "cell_type": "markdown",
   "metadata": {
    "id": "oo2rh4cC2e1r"
   },
   "source": [
    "### Install Gen AI SDK and other required packages"
   ]
  },
  {
   "cell_type": "markdown",
   "metadata": {
    "id": "0d8bad6906dc"
   },
   "source": [
    "The new Google Gen AI SDK provides a unified interface to Gemini through both the Gemini Developer API and the Gemini API on Vertex AI. With a few exceptions, code that runs on one platform will run on both. This means that you can prototype an application using the Developer API and then migrate the application to Vertex AI without rewriting your code.\n"
   ]
  },
  {
   "cell_type": "code",
   "execution_count": 1,
   "metadata": {
    "id": "l_ok3vdw2cyf",
    "tags": []
   },
   "outputs": [
    {
     "name": "stdout",
     "output_type": "stream",
     "text": [
      "\u001b[33m  DEPRECATION: Building 'rouge_score' using the legacy setup.py bdist_wheel mechanism, which will be removed in a future version. pip 25.3 will enforce this behaviour change. A possible replacement is to use the standardized build interface by setting the `--use-pep517` option, (possibly combined with `--no-build-isolation`), or adding a `pyproject.toml` file to the source tree of 'rouge_score'. Discussion can be found at https://github.com/pypa/pip/issues/6334\u001b[0m\u001b[33m\n",
      "\u001b[0m\u001b[33m  WARNING: The script nltk is installed in '/home/jupyter/.local/bin' which is not on PATH.\n",
      "  Consider adding this directory to PATH or, if you prefer to suppress this warning, use --no-warn-script-location.\u001b[0m\u001b[33m\n",
      "\u001b[0m\u001b[33m  WARNING: The script tb-gcp-uploader is installed in '/home/jupyter/.local/bin' which is not on PATH.\n",
      "  Consider adding this directory to PATH or, if you prefer to suppress this warning, use --no-warn-script-location.\u001b[0m\u001b[33m\n",
      "\u001b[0mNote: you may need to restart the kernel to use updated packages.\n"
     ]
    }
   ],
   "source": [
    "%pip install --upgrade --user --quiet google-genai google-cloud-aiplatform rouge_score plotly jsonlines"
   ]
  },
  {
   "cell_type": "markdown",
   "metadata": {
    "id": "6in46hzz3At9"
   },
   "source": [
    "### Restart runtime\n",
    "\n",
    "To use the newly installed packages, you must restart the runtime.\n"
   ]
  },
  {
   "cell_type": "code",
   "execution_count": 2,
   "metadata": {
    "id": "haJlKcSY3EsE",
    "tags": []
   },
   "outputs": [
    {
     "data": {
      "text/plain": [
       "{'status': 'ok', 'restart': True}"
      ]
     },
     "execution_count": 2,
     "metadata": {},
     "output_type": "execute_result"
    }
   ],
   "source": [
    "# Restart kernel after installs so that your environment can access the new packages\n",
    "import IPython\n",
    "\n",
    "app = IPython.Application.instance()\n",
    "app.kernel.do_shutdown(True)"
   ]
  },
  {
   "cell_type": "markdown",
   "metadata": {
    "id": "iTOjupCM3TDb"
   },
   "source": [
    "<div class=\"alert alert-block alert-warning\">\n",
    "<b>⚠️ The kernel is going to restart. Please wait until it is finished before continuing to the next step. ⚠️</b>\n",
    "</div>"
   ]
  },
  {
   "cell_type": "markdown",
   "metadata": {
    "id": "F0HMlz-MD9Yt"
   },
   "source": [
    "## Step0: Authenticate your notebook environment (Colab only)\n",
    "\n",
    "If you are running this notebook on Google Colab, run the cell below to authenticate your environment."
   ]
  },
  {
   "cell_type": "code",
   "execution_count": 1,
   "metadata": {
    "id": "86VNaqlgD9rK",
    "tags": []
   },
   "outputs": [],
   "source": [
    "import sys\n",
    "\n",
    "if \"google.colab\" in sys.modules:\n",
    "    from google.colab import auth\n",
    "\n",
    "    auth.authenticate_user()"
   ]
  },
  {
   "cell_type": "markdown",
   "metadata": {
    "id": "yKRPFNzWJLVY"
   },
   "source": [
    "- If you are running this notebook in a local development environment:\n",
    "  - Install the [Google Cloud SDK](https://cloud.google.com/sdk).\n",
    "  - Obtain authentication credentials. Create local credentials by running the following command and following the oauth2 flow (read more about the command [here](https://cloud.google.com/sdk/gcloud/reference/beta/auth/application-default/login)):\n",
    "\n",
    "    ```bash\n",
    "    gcloud auth application-default login\n",
    "    ```"
   ]
  },
  {
   "cell_type": "markdown",
   "metadata": {
    "id": "k8CI-TcqD06L"
   },
   "source": [
    "## Step1: Import libraries"
   ]
  },
  {
   "cell_type": "code",
   "execution_count": 2,
   "metadata": {
    "id": "rerpHL_eEG8D",
    "tags": []
   },
   "outputs": [],
   "source": [
    "import time\n",
    "\n",
    "from google import genai\n",
    "\n",
    "# For extracting vertex experiment details.\n",
    "from google.cloud import aiplatform\n",
    "from google.cloud.aiplatform.metadata import context\n",
    "from google.cloud.aiplatform.metadata import utils as metadata_utils\n",
    "from google.genai import types\n",
    "\n",
    "# For data handling.\n",
    "import jsonlines\n",
    "import pandas as pd\n",
    "\n",
    "# For visualization.\n",
    "import plotly.graph_objects as go\n",
    "from plotly.subplots import make_subplots\n",
    "\n",
    "# For evaluation metric computation.\n",
    "from rouge_score import rouge_scorer\n",
    "from tqdm import tqdm\n",
    "\n",
    "# For fine tuning Gemini model.\n",
    "import vertexai"
   ]
  },
  {
   "cell_type": "markdown",
   "metadata": {
    "id": "FBY9nK3qEJLk"
   },
   "source": [
    "## Step2: Set Google Cloud project information and initialize Vertex AI and Gen AI SDK\n",
    "\n",
    "To get started using Vertex AI, you must have an existing Google Cloud project and [enable the Vertex AI API](https://console.cloud.google.com/flows/enableapi?apiid=aiplatform.googleapis.com).\n",
    "\n",
    "Learn more about [setting up a project and a development environment](https://cloud.google.com/vertex-ai/docs/start/cloud-environment).\n"
   ]
  },
  {
   "cell_type": "code",
   "execution_count": 3,
   "metadata": {
    "id": "VpzmI1K61Tn2",
    "tags": []
   },
   "outputs": [],
   "source": [
    "PROJECT_ID = \"qwiklabs-gcp-01-59e4f9e0e409\"  # @param {type:\"string\"}\n",
    "REGION = \"us-east1\"  # @param {type:\"string\"}"
   ]
  },
  {
   "cell_type": "code",
   "execution_count": 4,
   "metadata": {
    "id": "7MZmIZvlQUhy",
    "tags": []
   },
   "outputs": [],
   "source": [
    "vertexai.init(project=PROJECT_ID, location=REGION)\n",
    "\n",
    "client = genai.Client(vertexai=True, project=PROJECT_ID, location=REGION)"
   ]
  },
  {
   "cell_type": "markdown",
   "metadata": {
    "id": "JUEloBlsCPFr"
   },
   "source": [
    "## Step3: Create a dataset in the required format\n",
    "\n",
    "The dataset used to tune a foundation model needs to include examples that align with the task that you want the model to perform. Structure your training dataset in a text-to-text format. Each record, or row, in the dataset contains the input text (also referred to as the prompt) which is paired with its expected output from the model. Supervised tuning uses the dataset to teach the model to mimic a behavior, or task, you need by giving it hundreds of examples that illustrate that behavior.\n",
    "\n",
    "Your dataset size depends on the task, and follows the recommendation mentioned in the `Overview` section. The more examples you provide in your dataset, the better the results.\n",
    "\n",
    "### Dataset format\n",
    "\n",
    "Training data should be structured within a JSONL file located at a Google Cloud Storage (GCS) URI. Each line (or row) of the JSONL file must adhere to a specific schema: It should contain a `contents` array, with objects inside defining a `role` (either \"user\" for user input or \"model\" for model output) and `parts`, containing the input data. For example, a valid data row would look like this:\n",
    "\n",
    "\n",
    "```\n",
    "{\n",
    "   \"contents\":[\n",
    "      {\n",
    "         \"role\":\"user\",  # This indicate input content\n",
    "         \"parts\":[\n",
    "            {\n",
    "               \"text\":\"How are you?\"\n",
    "            }\n",
    "         ]\n",
    "      },\n",
    "      {\n",
    "         \"role\":\"model\", # This indicate target content\n",
    "         \"parts\":[ # text only\n",
    "            {\n",
    "               \"text\":\"I am good, thank you!\"\n",
    "            }\n",
    "         ]\n",
    "      }\n",
    "      #  ... repeat \"user\", \"model\" for multi turns.\n",
    "   ]\n",
    "}\n",
    "```\n",
    "\n",
    "\n",
    "Refer to the public [documentation](https://cloud.google.com/vertex-ai/generative-ai/docs/models/gemini-supervised-tuning-prepare#about-datasets) for more details."
   ]
  },
  {
   "cell_type": "markdown",
   "metadata": {
    "id": "TglfI3tQr2oZ"
   },
   "source": [
    "To run a tuning job, you need to upload one or more datasets to a Cloud Storage bucket. You can either create a new Cloud Storage bucket or use an existing one to store dataset files. The region of the bucket doesn't matter, but we recommend that you use a bucket that's in the same Google Cloud project where you plan to tune your model."
   ]
  },
  {
   "cell_type": "markdown",
   "metadata": {
    "id": "OsNdYgnaITuz"
   },
   "source": [
    "### Step3 [a]: Create a Cloud Storage bucket\n",
    "\n",
    "Create a storage bucket to store intermediate artifacts such as datasets.\n"
   ]
  },
  {
   "cell_type": "code",
   "execution_count": 5,
   "metadata": {
    "id": "WveeKANmITK5",
    "tags": []
   },
   "outputs": [],
   "source": [
    "# Provide a bucket name\n",
    "BUCKET_NAME = \"qwiklabs-gcp-01-59e4f9e0e409\"  # @param {type:\"string\"}\n",
    "BUCKET_URI = f\"gs://{BUCKET_NAME}\""
   ]
  },
  {
   "cell_type": "markdown",
   "metadata": {
    "id": "lBSGTEiyJfSR"
   },
   "source": [
    "Only if your bucket doesn't already exist: Run the following cell to create your Cloud Storage bucket.\n"
   ]
  },
  {
   "cell_type": "code",
   "execution_count": 6,
   "metadata": {
    "id": "GQSJ3LJkJhLm",
    "tags": []
   },
   "outputs": [],
   "source": [
    "#!gsutil mb -l {LOCATION} -p {PROJECT_ID} {BUCKET_URI}"
   ]
  },
  {
   "cell_type": "markdown",
   "metadata": {
    "id": "7YGurtXHJy_y"
   },
   "source": [
    "### Step3 [b]: Upload tuning data to Cloud Storage"
   ]
  },
  {
   "cell_type": "markdown",
   "metadata": {
    "id": "ip8rErN2r3ah"
   },
   "source": [
    "- Data used in this notebook is present in the public Google Cloud Storage(GCS) bucket.\n",
    "- It's in Gemini finetuning dataset format"
   ]
  },
  {
   "cell_type": "code",
   "execution_count": 7,
   "metadata": {
    "id": "aV_GZg_LaNmV",
    "tags": []
   },
   "outputs": [
    {
     "name": "stdout",
     "output_type": "stream",
     "text": [
      "gs://github-repo/generative-ai/gemini/tuning/summarization/wikilingua/\n",
      "gs://github-repo/generative-ai/gemini/tuning/summarization/wikilingua/sft_test_samples.csv\n",
      "gs://github-repo/generative-ai/gemini/tuning/summarization/wikilingua/sft_train_samples.jsonl\n",
      "gs://github-repo/generative-ai/gemini/tuning/summarization/wikilingua/sft_val_samples.jsonl\n"
     ]
    }
   ],
   "source": [
    "!gsutil ls gs://github-repo/generative-ai/gemini/tuning/summarization/wikilingua"
   ]
  },
  {
   "cell_type": "code",
   "execution_count": 8,
   "metadata": {
    "id": "b-EQ4FcExIfp",
    "tags": []
   },
   "outputs": [
    {
     "name": "stdout",
     "output_type": "stream",
     "text": [
      "Copying gs://github-repo/generative-ai/gemini/tuning/summarization/wikilingua/sft_test_samples.csv...\n",
      "Copying gs://github-repo/generative-ai/gemini/tuning/summarization/wikilingua/sft_train_samples.jsonl...\n",
      "Copying gs://github-repo/generative-ai/gemini/tuning/summarization/wikilingua/sft_val_samples.jsonl...\n",
      "/ [3 files][  1.6 MiB/  1.6 MiB]                                                \n",
      "Operation completed over 3 objects/1.6 MiB.                                      \n"
     ]
    }
   ],
   "source": [
    "!gsutil cp gs://github-repo/generative-ai/gemini/tuning/summarization/wikilingua/* ."
   ]
  },
  {
   "cell_type": "markdown",
   "metadata": {
    "id": "6wmBkAUoyzdJ"
   },
   "source": [
    "#### Convert Gemini tuning dataset to Gemini 2.0 tuning dataset format"
   ]
  },
  {
   "cell_type": "code",
   "execution_count": 9,
   "metadata": {
    "id": "7bhtxKbha_wS",
    "tags": []
   },
   "outputs": [],
   "source": [
    "def save_jsonlines(file, instances):\n",
    "    \"\"\"\n",
    "    Saves a list of json instances to a jsonlines file.\n",
    "    \"\"\"\n",
    "    with jsonlines.open(file, mode=\"w\") as writer:\n",
    "        writer.write_all(instances)"
   ]
  },
  {
   "cell_type": "code",
   "execution_count": 10,
   "metadata": {
    "id": "-3xbpRnSyxH9",
    "tags": []
   },
   "outputs": [],
   "source": [
    "def create_tuning_samples(file_path):\n",
    "    \"\"\"\n",
    "    Creates tuning samples from a file.\n",
    "    \"\"\"\n",
    "    with jsonlines.open(file_path) as reader:\n",
    "        instances = []\n",
    "        for obj in reader:\n",
    "            instance = []\n",
    "            for content in obj[\"messages\"]:\n",
    "                instance.append(\n",
    "                    {\"role\": content[\"role\"], \"parts\": [{\"text\": content[\"content\"]}]}\n",
    "                )\n",
    "            instances.append({\"contents\": instance})\n",
    "    return instances"
   ]
  },
  {
   "cell_type": "code",
   "execution_count": 11,
   "metadata": {
    "id": "orHUpTagyw-z",
    "tags": []
   },
   "outputs": [
    {
     "data": {
      "text/plain": [
       "500"
      ]
     },
     "execution_count": 11,
     "metadata": {},
     "output_type": "execute_result"
    }
   ],
   "source": [
    "train_file = \"sft_train_samples.jsonl\"\n",
    "train_instances = create_tuning_samples(train_file)\n",
    "len(train_instances)"
   ]
  },
  {
   "cell_type": "code",
   "execution_count": 12,
   "metadata": {
    "id": "U3m05gAM1mlp",
    "tags": []
   },
   "outputs": [],
   "source": [
    "# save the training instances to jsonl file\n",
    "save_jsonlines(train_file, train_instances)"
   ]
  },
  {
   "cell_type": "code",
   "execution_count": 13,
   "metadata": {
    "id": "xZICW6uU1T3Z",
    "tags": []
   },
   "outputs": [
    {
     "data": {
      "text/plain": [
       "100"
      ]
     },
     "execution_count": 13,
     "metadata": {},
     "output_type": "execute_result"
    }
   ],
   "source": [
    "val_file = \"sft_val_samples.jsonl\"\n",
    "val_instances = create_tuning_samples(val_file)\n",
    "len(val_instances)"
   ]
  },
  {
   "cell_type": "code",
   "execution_count": 14,
   "metadata": {
    "id": "n1s7adZH1CCe",
    "tags": []
   },
   "outputs": [],
   "source": [
    "# save the validation instances to jsonl file\n",
    "save_jsonlines(val_file, val_instances)"
   ]
  },
  {
   "cell_type": "code",
   "execution_count": 15,
   "metadata": {
    "id": "AVL2gfP-J5SL",
    "tags": []
   },
   "outputs": [
    {
     "name": "stdout",
     "output_type": "stream",
     "text": [
      "Copying file://sft_train_samples.jsonl [Content-Type=application/octet-stream]...\n",
      "/ [1 files][  1.2 MiB/  1.2 MiB]                                                \n",
      "Operation completed over 1 objects/1.2 MiB.                                      \n",
      "Copying file://sft_val_samples.jsonl [Content-Type=application/octet-stream]...\n",
      "/ [1 files][231.8 KiB/231.8 KiB]                                                \n",
      "Operation completed over 1 objects/231.8 KiB.                                    \n"
     ]
    }
   ],
   "source": [
    "# Copy the tuning and evaluation data to your bucket.\n",
    "!gsutil cp {train_file} {BUCKET_URI}/train/\n",
    "!gsutil cp {val_file} {BUCKET_URI}/val/"
   ]
  },
  {
   "cell_type": "markdown",
   "metadata": {
    "id": "kV5X6_DsIXPm"
   },
   "source": [
    "### Step3 [c]: Test dataset\n",
    "\n",
    "- It contains document text(`input_text`) and corresponding reference summary(`output_text`), which will be compared with the model generated summary"
   ]
  },
  {
   "cell_type": "code",
   "execution_count": 16,
   "metadata": {
    "id": "wtxPI3GPIckU",
    "tags": []
   },
   "outputs": [
    {
     "data": {
      "text/html": [
       "<div>\n",
       "<style scoped>\n",
       "    .dataframe tbody tr th:only-of-type {\n",
       "        vertical-align: middle;\n",
       "    }\n",
       "\n",
       "    .dataframe tbody tr th {\n",
       "        vertical-align: top;\n",
       "    }\n",
       "\n",
       "    .dataframe thead th {\n",
       "        text-align: right;\n",
       "    }\n",
       "</style>\n",
       "<table border=\"1\" class=\"dataframe\">\n",
       "  <thead>\n",
       "    <tr style=\"text-align: right;\">\n",
       "      <th></th>\n",
       "      <th>input_text</th>\n",
       "      <th>output_text</th>\n",
       "    </tr>\n",
       "  </thead>\n",
       "  <tbody>\n",
       "    <tr>\n",
       "      <th>0</th>\n",
       "      <td>Hold your arm out flat in front of you with yo...</td>\n",
       "      <td>Squeeze a line of lotion onto the tops of both...</td>\n",
       "    </tr>\n",
       "    <tr>\n",
       "      <th>1</th>\n",
       "      <td>As you continue playing, surviving becomes pai...</td>\n",
       "      <td>Make a Crock Pot for better food. Create an Al...</td>\n",
       "    </tr>\n",
       "    <tr>\n",
       "      <th>2</th>\n",
       "      <td>Go to https://www.4kdownload.com/products/prod...</td>\n",
       "      <td>Download the 4K Video Downloader setup file. I...</td>\n",
       "    </tr>\n",
       "    <tr>\n",
       "      <th>3</th>\n",
       "      <td>You should know that vaginoplasty can treat a ...</td>\n",
       "      <td>Consider the health of your bladder. Find a so...</td>\n",
       "    </tr>\n",
       "    <tr>\n",
       "      <th>4</th>\n",
       "      <td>If you want to gather data on the frequency of...</td>\n",
       "      <td>Gather data to be graphed. Choose your range b...</td>\n",
       "    </tr>\n",
       "  </tbody>\n",
       "</table>\n",
       "</div>"
      ],
      "text/plain": [
       "                                          input_text  \\\n",
       "0  Hold your arm out flat in front of you with yo...   \n",
       "1  As you continue playing, surviving becomes pai...   \n",
       "2  Go to https://www.4kdownload.com/products/prod...   \n",
       "3  You should know that vaginoplasty can treat a ...   \n",
       "4  If you want to gather data on the frequency of...   \n",
       "\n",
       "                                         output_text  \n",
       "0  Squeeze a line of lotion onto the tops of both...  \n",
       "1  Make a Crock Pot for better food. Create an Al...  \n",
       "2  Download the 4K Video Downloader setup file. I...  \n",
       "3  Consider the health of your bladder. Find a so...  \n",
       "4  Gather data to be graphed. Choose your range b...  "
      ]
     },
     "execution_count": 16,
     "metadata": {},
     "output_type": "execute_result"
    }
   ],
   "source": [
    "# Load the test dataset using pandas as it's in the csv format.\n",
    "testing_data_path = \"sft_test_samples.csv\"\n",
    "test_data = pd.read_csv(testing_data_path)\n",
    "test_data.head()"
   ]
  },
  {
   "cell_type": "code",
   "execution_count": 17,
   "metadata": {
    "id": "bRBtYfN_PPaP",
    "tags": []
   },
   "outputs": [
    {
     "data": {
      "text/plain": [
       "'Hold your arm out flat in front of you with your elbow bent. The top of your forearm should form a level surface. Apply a line of lotion from the back of your hand up your arm almost to the crease of your elbow. Squeeze lotion onto both forearms.  Do not rub the lotion into your arms, rather let it sit on your arm in the line you squeezed. You can use as much or as little lotion as you feel is necessary to cover your back completely. Bend your elbows and reach both of your arms behind you, placing the lotion covered forearms against your back. Depending on how flexible you are, this may hurt a little. It might be easier to place one arm behind your back at a time. If you have shoulder pain or are not very flexible, this method may not work well for you. Rub your forearms and the backs of your hands up and down your back like windshield wipers covering as much of your back as you can. You can use your left arm first to cover your left side and then place your right arm behind and use it to cover the right side of your back. Repeat this process as necessary if you don’t feel like you got enough lotion on your back.\\n\\nProvide a summary of the article in two or three sentences:\\n\\n'"
      ]
     },
     "execution_count": 17,
     "metadata": {},
     "output_type": "execute_result"
    }
   ],
   "source": [
    "test_data.loc[0, \"input_text\"]"
   ]
  },
  {
   "cell_type": "code",
   "execution_count": 18,
   "metadata": {
    "id": "tTt7qjSeSHRW",
    "tags": []
   },
   "outputs": [
    {
     "data": {
      "text/plain": [
       "count    100.000000\n",
       "mean     186.230000\n",
       "std       92.788655\n",
       "min       28.000000\n",
       "25%      127.250000\n",
       "50%      171.000000\n",
       "75%      227.000000\n",
       "max      577.000000\n",
       "Name: output_text, dtype: float64"
      ]
     },
     "execution_count": 18,
     "metadata": {},
     "output_type": "execute_result"
    }
   ],
   "source": [
    "# Article summary stats\n",
    "stats = test_data[\"output_text\"].apply(len).describe()\n",
    "stats"
   ]
  },
  {
   "cell_type": "code",
   "execution_count": 19,
   "metadata": {
    "id": "WKptd49cdjSi",
    "tags": []
   },
   "outputs": [
    {
     "name": "stdout",
     "output_type": "stream",
     "text": [
      "Total `100.0` test records\n",
      "Average length is `186.23` and max is `577.0` characters\n",
      "\n",
      "Considering 1 token = 4 chars\n",
      "\n",
      "Set max_token_length = stats['max']/4 = 144.25 ~ 145 characters\n",
      "\n",
      "Let's keep output tokens upto `145`\n"
     ]
    }
   ],
   "source": [
    "print(f\"Total `{stats['count']}` test records\")\n",
    "print(f\"Average length is `{stats['mean']}` and max is `{stats['max']}` characters\")\n",
    "print(\"\\nConsidering 1 token = 4 chars\")\n",
    "\n",
    "# Get ceil value of the tokens required.\n",
    "tokens = (stats[\"max\"] / 4).__ceil__()\n",
    "print(\n",
    "    f\"\\nSet max_token_length = stats['max']/4 = {stats['max']/4} ~ {tokens} characters\"\n",
    ")\n",
    "print(f\"\\nLet's keep output tokens upto `{tokens}`\")"
   ]
  },
  {
   "cell_type": "code",
   "execution_count": 20,
   "metadata": {
    "id": "idM1p_UNvA7w",
    "tags": []
   },
   "outputs": [],
   "source": [
    "# Maximum number of tokens that can be generated in the response by the LLM.\n",
    "# Experiment with this number to get optimal output.\n",
    "max_output_tokens = tokens"
   ]
  },
  {
   "cell_type": "markdown",
   "metadata": {
    "id": "DhjmRffOOPAS"
   },
   "source": [
    "## Step4: Initialize the model"
   ]
  },
  {
   "cell_type": "markdown",
   "metadata": {
    "id": "UhhD1VWDsLat"
   },
   "source": [
    "The following Gemini text model supports supervised tuning:\n",
    "\n",
    "* `gemini-2.0-flash-001`"
   ]
  },
  {
   "cell_type": "code",
   "execution_count": 21,
   "metadata": {
    "id": "jL-zRl5_OVZW",
    "tags": []
   },
   "outputs": [],
   "source": [
    "base_model = \"gemini-2.0-flash-001\""
   ]
  },
  {
   "cell_type": "markdown",
   "metadata": {
    "id": "ieJe8yGlOtFD"
   },
   "source": [
    "## Step5: Test the Gemini model"
   ]
  },
  {
   "cell_type": "markdown",
   "metadata": {
    "id": "F8DFUzRnHMi8"
   },
   "source": [
    "### Generation config\n",
    "\n",
    "- Each call that you send to a model includes parameter values that control how the model generates a response. The model can generate different results for different parameter values\n",
    "- <strong>Experiment</strong> with different parameter values to get the best values for the task\n",
    "\n",
    "Refer to the following [link](https://cloud.google.com/vertex-ai/generative-ai/docs/learn/prompts/adjust-parameter-values) for understanding different parameters"
   ]
  },
  {
   "cell_type": "markdown",
   "metadata": {
    "id": "6hbaeT8AcniS"
   },
   "source": [
    "**Prompt** is a natural language request submitted to a language model to receive a response back\n",
    "\n",
    "Some best practices include\n",
    "  - Clearly communicate what content or information is most important\n",
    "  - Structure the prompt:\n",
    "    - Defining the role if using one. For example, You are an experienced UX designer at a top tech company\n",
    "    - Include context and input data\n",
    "    - Provide the instructions to the model\n",
    "    - Add example(s) if you are using them\n",
    "\n",
    "Refer to the following [link](https://cloud.google.com/vertex-ai/generative-ai/docs/learn/prompts/prompt-design-strategies) for prompt design strategies."
   ]
  },
  {
   "cell_type": "markdown",
   "metadata": {
    "id": "hZUcvQr0rAWA"
   },
   "source": [
    "Wikilingua data contains the following task prompt at the end of the article, `Provide a summary of the article in two or three sentences:`"
   ]
  },
  {
   "cell_type": "code",
   "execution_count": 22,
   "metadata": {
    "id": "iu6OuIhFOv4C",
    "tags": []
   },
   "outputs": [
    {
     "name": "stdout",
     "output_type": "stream",
     "text": [
      "This article describes a method for applying lotion to your back using your forearms as applicators. It involves squeezing lotion onto your forearms and then using them to rub the lotion across your back in a windshield wiper motion. The method acknowledges potential limitations for individuals with shoulder pain or limited flexibility.\n",
      "\n"
     ]
    }
   ],
   "source": [
    "test_doc = test_data.loc[0, \"input_text\"]\n",
    "\n",
    "prompt = f\"\"\"\n",
    "{test_doc}\n",
    "\"\"\"\n",
    "\n",
    "config = {\n",
    "    \"temperature\": 0.1,\n",
    "    \"max_output_tokens\": max_output_tokens,\n",
    "}\n",
    "\n",
    "response = client.models.generate_content(\n",
    "    model=base_model,\n",
    "    contents=prompt,\n",
    "    config=config,\n",
    ").text\n",
    "print(response)"
   ]
  },
  {
   "cell_type": "code",
   "execution_count": 23,
   "metadata": {
    "id": "8YvlMfmIQqK8",
    "tags": []
   },
   "outputs": [
    {
     "data": {
      "text/plain": [
       "'Squeeze a line of lotion onto the tops of both forearms and the backs of your hands. Place your arms behind your back. Move your arms in a windshield wiper motion.'"
      ]
     },
     "execution_count": 23,
     "metadata": {},
     "output_type": "execute_result"
    }
   ],
   "source": [
    "# Ground truth\n",
    "test_data.loc[0, \"output_text\"]"
   ]
  },
  {
   "cell_type": "markdown",
   "metadata": {
    "id": "jGPUKZlcP69-"
   },
   "source": [
    "## Step6: Evaluation before model tuning"
   ]
  },
  {
   "cell_type": "markdown",
   "metadata": {
    "id": "1yayTQdd9oE5"
   },
   "source": [
    "- Evaluate the Gemini model on the test dataset before tuning it on the training dataset."
   ]
  },
  {
   "cell_type": "code",
   "execution_count": 24,
   "metadata": {
    "id": "610J64SpQ5TE",
    "tags": []
   },
   "outputs": [
    {
     "data": {
      "text/plain": [
       "100"
      ]
     },
     "execution_count": 24,
     "metadata": {},
     "output_type": "execute_result"
    }
   ],
   "source": [
    "# Convert the pandas dataframe to records (list of dictionaries).\n",
    "corpus = test_data.to_dict(orient=\"records\")\n",
    "# Check number of records.\n",
    "len(corpus)"
   ]
  },
  {
   "cell_type": "markdown",
   "metadata": {
    "id": "KkKldH90MY4v"
   },
   "source": [
    "### Evaluation metric\n",
    "\n",
    "The type of metrics used for evaluation depends on the task that you are evaluating. The following table shows the supported tasks and the metrics used to evaluate each task:"
   ]
  },
  {
   "cell_type": "markdown",
   "metadata": {
    "id": "t6oLtUEWMHVu"
   },
   "source": [
    "| Task             | Metric(s)                     |\n",
    "|-----------------|---------------------------------|\n",
    "| Classification   | Micro-F1, Macro-F1, Per class F1 |\n",
    "| Summarization    | ROUGE-L                         |\n",
    "| Question Answering | Exact Match                     |\n",
    "| Text Generation  | BLEU, ROUGE-L                   |\n",
    "\n",
    "\n",
    "<br/>\n",
    "\n",
    "Refer to this [documentation](https://cloud.google.com/vertex-ai/generative-ai/docs/models/evaluate-models) for metric based evaluation."
   ]
  },
  {
   "cell_type": "markdown",
   "metadata": {
    "id": "iKNk3zG4CNSS"
   },
   "source": [
    "- **Recall-Oriented Understudy for Gisting Evaluation (ROUGE)**: A metric used to evaluate the quality of automatic summaries of text. It works by comparing a generated summary to a set of reference summaries created by humans."
   ]
  },
  {
   "cell_type": "markdown",
   "metadata": {
    "id": "5XP9VOaTd3z8"
   },
   "source": [
    "Now you can take the candidate and reference to evaluate the performance. In this case, ROUGE will give you:\n",
    "\n",
    "- `rouge-1`, which measures unigram overlap\n",
    "- `rouge-2`, which measures bigram overlap\n",
    "- `rouge-l`, which measures the longest common subsequence"
   ]
  },
  {
   "cell_type": "markdown",
   "metadata": {
    "id": "I2CrcvvzFfBL"
   },
   "source": [
    "#### *Recall vs. Precision*\n",
    "\n",
    "**Recall**, meaning it prioritizes how much of the information in the reference summaries is captured in the generated summary.\n",
    "\n",
    "**Precision**, which measures how much of the generated summary is relevant to the original text."
   ]
  },
  {
   "cell_type": "markdown",
   "metadata": {
    "id": "uU6K4YdaGGyp"
   },
   "source": [
    "<strong>Alternate Evaluation method</strong>: Check out the [AutoSxS](https://cloud.google.com/vertex-ai/generative-ai/docs/models/side-by-side-eval) evaluation for automatic evaluation of the task.\n"
   ]
  },
  {
   "cell_type": "code",
   "execution_count": 25,
   "metadata": {
    "id": "p3YZAOZcQWtW",
    "tags": []
   },
   "outputs": [],
   "source": [
    "# Create rouge_scorer object for evaluation\n",
    "scorer = rouge_scorer.RougeScorer([\"rouge1\", \"rouge2\", \"rougeL\"], use_stemmer=True)"
   ]
  },
  {
   "cell_type": "code",
   "execution_count": 26,
   "metadata": {
    "id": "N8Y06N_b_EP5",
    "tags": []
   },
   "outputs": [],
   "source": [
    "def run_evaluation(model, corpus: list[dict]) -> pd.DataFrame:\n",
    "    \"\"\"Runs evaluation for the given model and data.\n",
    "\n",
    "    Args:\n",
    "      model: The generation model.\n",
    "      corpus: The test data.\n",
    "\n",
    "    Returns:\n",
    "      A pandas DataFrame containing the evaluation results.\n",
    "    \"\"\"\n",
    "    records = []\n",
    "    for item in tqdm(corpus):\n",
    "        document = item.get(\"input_text\")\n",
    "        summary = item.get(\"output_text\")\n",
    "\n",
    "        # Catch any exception that occur during model evaluation.\n",
    "        try:\n",
    "            response = client.models.generate_content(\n",
    "                model=model,\n",
    "                contents=document,\n",
    "                config=config,\n",
    "            )\n",
    "\n",
    "            # Check if response is generated by the model, if response is empty then continue to next item.\n",
    "            if not (\n",
    "                response\n",
    "                and response.candidates\n",
    "                and response.candidates[0].content.parts\n",
    "            ):\n",
    "                print(\n",
    "                    f\"\\nModel has blocked the response for the document.\\n Response: {response}\\n Document: {document}\"\n",
    "                )\n",
    "                continue\n",
    "\n",
    "            # Calculates the ROUGE score for a given reference and generated summary.\n",
    "            scores = scorer.score(target=summary, prediction=response.text)\n",
    "\n",
    "            # Append the results to the records list\n",
    "            records.append(\n",
    "                {\n",
    "                    \"document\": document,\n",
    "                    \"summary\": summary,\n",
    "                    \"generated_summary\": response.text,\n",
    "                    \"scores\": scores,\n",
    "                    \"rouge1_precision\": scores.get(\"rouge1\").precision,\n",
    "                    \"rouge1_recall\": scores.get(\"rouge1\").recall,\n",
    "                    \"rouge1_fmeasure\": scores.get(\"rouge1\").fmeasure,\n",
    "                    \"rouge2_precision\": scores.get(\"rouge2\").precision,\n",
    "                    \"rouge2_recall\": scores.get(\"rouge2\").recall,\n",
    "                    \"rouge2_fmeasure\": scores.get(\"rouge2\").fmeasure,\n",
    "                    \"rougeL_precision\": scores.get(\"rougeL\").precision,\n",
    "                    \"rougeL_recall\": scores.get(\"rougeL\").recall,\n",
    "                    \"rougeL_fmeasure\": scores.get(\"rougeL\").fmeasure,\n",
    "                }\n",
    "            )\n",
    "        except AttributeError as attr_err:\n",
    "            print(\"Attribute Error:\", attr_err)\n",
    "            continue\n",
    "        except Exception as err:\n",
    "            print(\"Error:\", err)\n",
    "            continue\n",
    "    return pd.DataFrame(records)"
   ]
  },
  {
   "cell_type": "code",
   "execution_count": 27,
   "metadata": {
    "id": "4afTSo5cpM73",
    "tags": []
   },
   "outputs": [],
   "source": [
    "# Batch of test data.\n",
    "corpus_batch = corpus[:100]"
   ]
  },
  {
   "cell_type": "markdown",
   "metadata": {
    "id": "oM10zigp7kTZ"
   },
   "source": [
    "<div class=\"alert alert-block alert-warning\">\n",
    "<b>⚠️ It will take ~5 mins for the evaluation run on the provided batch. ⚠️</b>\n",
    "</div>"
   ]
  },
  {
   "cell_type": "code",
   "execution_count": 28,
   "metadata": {
    "id": "aO8JhIg1pYkE",
    "tags": []
   },
   "outputs": [
    {
     "name": "stderr",
     "output_type": "stream",
     "text": [
      "100%|██████████| 100/100 [01:17<00:00,  1.29it/s]\n"
     ]
    }
   ],
   "source": [
    "# Run evaluation using loaded model and test data corpus\n",
    "evaluation_df = run_evaluation(base_model, corpus_batch)"
   ]
  },
  {
   "cell_type": "code",
   "execution_count": 29,
   "metadata": {
    "id": "H4VUFeb9tRBP",
    "tags": []
   },
   "outputs": [
    {
     "data": {
      "text/html": [
       "<div>\n",
       "<style scoped>\n",
       "    .dataframe tbody tr th:only-of-type {\n",
       "        vertical-align: middle;\n",
       "    }\n",
       "\n",
       "    .dataframe tbody tr th {\n",
       "        vertical-align: top;\n",
       "    }\n",
       "\n",
       "    .dataframe thead th {\n",
       "        text-align: right;\n",
       "    }\n",
       "</style>\n",
       "<table border=\"1\" class=\"dataframe\">\n",
       "  <thead>\n",
       "    <tr style=\"text-align: right;\">\n",
       "      <th></th>\n",
       "      <th>document</th>\n",
       "      <th>summary</th>\n",
       "      <th>generated_summary</th>\n",
       "      <th>scores</th>\n",
       "      <th>rouge1_precision</th>\n",
       "      <th>rouge1_recall</th>\n",
       "      <th>rouge1_fmeasure</th>\n",
       "      <th>rouge2_precision</th>\n",
       "      <th>rouge2_recall</th>\n",
       "      <th>rouge2_fmeasure</th>\n",
       "      <th>rougeL_precision</th>\n",
       "      <th>rougeL_recall</th>\n",
       "      <th>rougeL_fmeasure</th>\n",
       "    </tr>\n",
       "  </thead>\n",
       "  <tbody>\n",
       "    <tr>\n",
       "      <th>0</th>\n",
       "      <td>Hold your arm out flat in front of you with yo...</td>\n",
       "      <td>Squeeze a line of lotion onto the tops of both...</td>\n",
       "      <td>This article describes a method for applying l...</td>\n",
       "      <td>{'rouge1': (0.375, 0.5806451612903226, 0.45569...</td>\n",
       "      <td>0.375000</td>\n",
       "      <td>0.580645</td>\n",
       "      <td>0.455696</td>\n",
       "      <td>0.148936</td>\n",
       "      <td>0.233333</td>\n",
       "      <td>0.181818</td>\n",
       "      <td>0.270833</td>\n",
       "      <td>0.419355</td>\n",
       "      <td>0.329114</td>\n",
       "    </tr>\n",
       "    <tr>\n",
       "      <th>1</th>\n",
       "      <td>As you continue playing, surviving becomes pai...</td>\n",
       "      <td>Make a Crock Pot for better food. Create an Al...</td>\n",
       "      <td>To survive longer in the game, players need to...</td>\n",
       "      <td>{'rouge1': (0.25, 0.7222222222222222, 0.371428...</td>\n",
       "      <td>0.250000</td>\n",
       "      <td>0.722222</td>\n",
       "      <td>0.371429</td>\n",
       "      <td>0.156863</td>\n",
       "      <td>0.470588</td>\n",
       "      <td>0.235294</td>\n",
       "      <td>0.230769</td>\n",
       "      <td>0.666667</td>\n",
       "      <td>0.342857</td>\n",
       "    </tr>\n",
       "    <tr>\n",
       "      <th>2</th>\n",
       "      <td>Go to https://www.4kdownload.com/products/prod...</td>\n",
       "      <td>Download the 4K Video Downloader setup file. I...</td>\n",
       "      <td>This article provides step-by-step instruction...</td>\n",
       "      <td>{'rouge1': (0.4186046511627907, 0.305084745762...</td>\n",
       "      <td>0.418605</td>\n",
       "      <td>0.305085</td>\n",
       "      <td>0.352941</td>\n",
       "      <td>0.095238</td>\n",
       "      <td>0.068966</td>\n",
       "      <td>0.080000</td>\n",
       "      <td>0.325581</td>\n",
       "      <td>0.237288</td>\n",
       "      <td>0.274510</td>\n",
       "    </tr>\n",
       "    <tr>\n",
       "      <th>3</th>\n",
       "      <td>You should know that vaginoplasty can treat a ...</td>\n",
       "      <td>Consider the health of your bladder. Find a so...</td>\n",
       "      <td>Vaginoplasty can be a solution for a prolapsed...</td>\n",
       "      <td>{'rouge1': (0.13846153846153847, 0.32142857142...</td>\n",
       "      <td>0.138462</td>\n",
       "      <td>0.321429</td>\n",
       "      <td>0.193548</td>\n",
       "      <td>0.062500</td>\n",
       "      <td>0.148148</td>\n",
       "      <td>0.087912</td>\n",
       "      <td>0.107692</td>\n",
       "      <td>0.250000</td>\n",
       "      <td>0.150538</td>\n",
       "    </tr>\n",
       "    <tr>\n",
       "      <th>4</th>\n",
       "      <td>If you want to gather data on the frequency of...</td>\n",
       "      <td>Gather data to be graphed. Choose your range b...</td>\n",
       "      <td>Histograms are useful for visualizing the freq...</td>\n",
       "      <td>{'rouge1': (0.2777777777777778, 0.652173913043...</td>\n",
       "      <td>0.277778</td>\n",
       "      <td>0.652174</td>\n",
       "      <td>0.389610</td>\n",
       "      <td>0.075472</td>\n",
       "      <td>0.181818</td>\n",
       "      <td>0.106667</td>\n",
       "      <td>0.203704</td>\n",
       "      <td>0.478261</td>\n",
       "      <td>0.285714</td>\n",
       "    </tr>\n",
       "  </tbody>\n",
       "</table>\n",
       "</div>"
      ],
      "text/plain": [
       "                                            document  \\\n",
       "0  Hold your arm out flat in front of you with yo...   \n",
       "1  As you continue playing, surviving becomes pai...   \n",
       "2  Go to https://www.4kdownload.com/products/prod...   \n",
       "3  You should know that vaginoplasty can treat a ...   \n",
       "4  If you want to gather data on the frequency of...   \n",
       "\n",
       "                                             summary  \\\n",
       "0  Squeeze a line of lotion onto the tops of both...   \n",
       "1  Make a Crock Pot for better food. Create an Al...   \n",
       "2  Download the 4K Video Downloader setup file. I...   \n",
       "3  Consider the health of your bladder. Find a so...   \n",
       "4  Gather data to be graphed. Choose your range b...   \n",
       "\n",
       "                                   generated_summary  \\\n",
       "0  This article describes a method for applying l...   \n",
       "1  To survive longer in the game, players need to...   \n",
       "2  This article provides step-by-step instruction...   \n",
       "3  Vaginoplasty can be a solution for a prolapsed...   \n",
       "4  Histograms are useful for visualizing the freq...   \n",
       "\n",
       "                                              scores  rouge1_precision  \\\n",
       "0  {'rouge1': (0.375, 0.5806451612903226, 0.45569...          0.375000   \n",
       "1  {'rouge1': (0.25, 0.7222222222222222, 0.371428...          0.250000   \n",
       "2  {'rouge1': (0.4186046511627907, 0.305084745762...          0.418605   \n",
       "3  {'rouge1': (0.13846153846153847, 0.32142857142...          0.138462   \n",
       "4  {'rouge1': (0.2777777777777778, 0.652173913043...          0.277778   \n",
       "\n",
       "   rouge1_recall  rouge1_fmeasure  rouge2_precision  rouge2_recall  \\\n",
       "0       0.580645         0.455696          0.148936       0.233333   \n",
       "1       0.722222         0.371429          0.156863       0.470588   \n",
       "2       0.305085         0.352941          0.095238       0.068966   \n",
       "3       0.321429         0.193548          0.062500       0.148148   \n",
       "4       0.652174         0.389610          0.075472       0.181818   \n",
       "\n",
       "   rouge2_fmeasure  rougeL_precision  rougeL_recall  rougeL_fmeasure  \n",
       "0         0.181818          0.270833       0.419355         0.329114  \n",
       "1         0.235294          0.230769       0.666667         0.342857  \n",
       "2         0.080000          0.325581       0.237288         0.274510  \n",
       "3         0.087912          0.107692       0.250000         0.150538  \n",
       "4         0.106667          0.203704       0.478261         0.285714  "
      ]
     },
     "execution_count": 29,
     "metadata": {},
     "output_type": "execute_result"
    }
   ],
   "source": [
    "evaluation_df.head()"
   ]
  },
  {
   "cell_type": "code",
   "execution_count": 30,
   "metadata": {
    "id": "18m75w6m0R10",
    "tags": []
   },
   "outputs": [],
   "source": [
    "evaluation_df_stats = evaluation_df.dropna().describe()"
   ]
  },
  {
   "cell_type": "code",
   "execution_count": 31,
   "metadata": {
    "id": "dYokPWqdUIMv",
    "tags": []
   },
   "outputs": [
    {
     "data": {
      "text/html": [
       "<div>\n",
       "<style scoped>\n",
       "    .dataframe tbody tr th:only-of-type {\n",
       "        vertical-align: middle;\n",
       "    }\n",
       "\n",
       "    .dataframe tbody tr th {\n",
       "        vertical-align: top;\n",
       "    }\n",
       "\n",
       "    .dataframe thead th {\n",
       "        text-align: right;\n",
       "    }\n",
       "</style>\n",
       "<table border=\"1\" class=\"dataframe\">\n",
       "  <thead>\n",
       "    <tr style=\"text-align: right;\">\n",
       "      <th></th>\n",
       "      <th>rouge1_precision</th>\n",
       "      <th>rouge1_recall</th>\n",
       "      <th>rouge1_fmeasure</th>\n",
       "      <th>rouge2_precision</th>\n",
       "      <th>rouge2_recall</th>\n",
       "      <th>rouge2_fmeasure</th>\n",
       "      <th>rougeL_precision</th>\n",
       "      <th>rougeL_recall</th>\n",
       "      <th>rougeL_fmeasure</th>\n",
       "    </tr>\n",
       "  </thead>\n",
       "  <tbody>\n",
       "    <tr>\n",
       "      <th>count</th>\n",
       "      <td>100.000000</td>\n",
       "      <td>100.000000</td>\n",
       "      <td>100.000000</td>\n",
       "      <td>100.000000</td>\n",
       "      <td>100.000000</td>\n",
       "      <td>100.000000</td>\n",
       "      <td>100.000000</td>\n",
       "      <td>100.000000</td>\n",
       "      <td>100.000000</td>\n",
       "    </tr>\n",
       "    <tr>\n",
       "      <th>mean</th>\n",
       "      <td>0.227384</td>\n",
       "      <td>0.418382</td>\n",
       "      <td>0.275644</td>\n",
       "      <td>0.050908</td>\n",
       "      <td>0.095891</td>\n",
       "      <td>0.062164</td>\n",
       "      <td>0.150187</td>\n",
       "      <td>0.286326</td>\n",
       "      <td>0.183794</td>\n",
       "    </tr>\n",
       "    <tr>\n",
       "      <th>std</th>\n",
       "      <td>0.104273</td>\n",
       "      <td>0.156174</td>\n",
       "      <td>0.097421</td>\n",
       "      <td>0.044986</td>\n",
       "      <td>0.093820</td>\n",
       "      <td>0.054285</td>\n",
       "      <td>0.069176</td>\n",
       "      <td>0.132011</td>\n",
       "      <td>0.070518</td>\n",
       "    </tr>\n",
       "    <tr>\n",
       "      <th>min</th>\n",
       "      <td>0.020000</td>\n",
       "      <td>0.104167</td>\n",
       "      <td>0.037736</td>\n",
       "      <td>0.000000</td>\n",
       "      <td>0.000000</td>\n",
       "      <td>0.000000</td>\n",
       "      <td>0.020000</td>\n",
       "      <td>0.062500</td>\n",
       "      <td>0.037736</td>\n",
       "    </tr>\n",
       "    <tr>\n",
       "      <th>25%</th>\n",
       "      <td>0.156710</td>\n",
       "      <td>0.317584</td>\n",
       "      <td>0.202174</td>\n",
       "      <td>0.015811</td>\n",
       "      <td>0.026316</td>\n",
       "      <td>0.019950</td>\n",
       "      <td>0.095013</td>\n",
       "      <td>0.197619</td>\n",
       "      <td>0.139247</td>\n",
       "    </tr>\n",
       "    <tr>\n",
       "      <th>50%</th>\n",
       "      <td>0.202740</td>\n",
       "      <td>0.409091</td>\n",
       "      <td>0.256022</td>\n",
       "      <td>0.040000</td>\n",
       "      <td>0.074074</td>\n",
       "      <td>0.055175</td>\n",
       "      <td>0.139767</td>\n",
       "      <td>0.268762</td>\n",
       "      <td>0.170529</td>\n",
       "    </tr>\n",
       "    <tr>\n",
       "      <th>75%</th>\n",
       "      <td>0.301087</td>\n",
       "      <td>0.538981</td>\n",
       "      <td>0.352941</td>\n",
       "      <td>0.076135</td>\n",
       "      <td>0.131610</td>\n",
       "      <td>0.093174</td>\n",
       "      <td>0.195759</td>\n",
       "      <td>0.375845</td>\n",
       "      <td>0.229323</td>\n",
       "    </tr>\n",
       "    <tr>\n",
       "      <th>max</th>\n",
       "      <td>0.553191</td>\n",
       "      <td>0.857143</td>\n",
       "      <td>0.456522</td>\n",
       "      <td>0.178571</td>\n",
       "      <td>0.470588</td>\n",
       "      <td>0.235294</td>\n",
       "      <td>0.325581</td>\n",
       "      <td>0.714286</td>\n",
       "      <td>0.342857</td>\n",
       "    </tr>\n",
       "  </tbody>\n",
       "</table>\n",
       "</div>"
      ],
      "text/plain": [
       "       rouge1_precision  rouge1_recall  rouge1_fmeasure  rouge2_precision  \\\n",
       "count        100.000000     100.000000       100.000000        100.000000   \n",
       "mean           0.227384       0.418382         0.275644          0.050908   \n",
       "std            0.104273       0.156174         0.097421          0.044986   \n",
       "min            0.020000       0.104167         0.037736          0.000000   \n",
       "25%            0.156710       0.317584         0.202174          0.015811   \n",
       "50%            0.202740       0.409091         0.256022          0.040000   \n",
       "75%            0.301087       0.538981         0.352941          0.076135   \n",
       "max            0.553191       0.857143         0.456522          0.178571   \n",
       "\n",
       "       rouge2_recall  rouge2_fmeasure  rougeL_precision  rougeL_recall  \\\n",
       "count     100.000000       100.000000        100.000000     100.000000   \n",
       "mean        0.095891         0.062164          0.150187       0.286326   \n",
       "std         0.093820         0.054285          0.069176       0.132011   \n",
       "min         0.000000         0.000000          0.020000       0.062500   \n",
       "25%         0.026316         0.019950          0.095013       0.197619   \n",
       "50%         0.074074         0.055175          0.139767       0.268762   \n",
       "75%         0.131610         0.093174          0.195759       0.375845   \n",
       "max         0.470588         0.235294          0.325581       0.714286   \n",
       "\n",
       "       rougeL_fmeasure  \n",
       "count       100.000000  \n",
       "mean          0.183794  \n",
       "std           0.070518  \n",
       "min           0.037736  \n",
       "25%           0.139247  \n",
       "50%           0.170529  \n",
       "75%           0.229323  \n",
       "max           0.342857  "
      ]
     },
     "execution_count": 31,
     "metadata": {},
     "output_type": "execute_result"
    }
   ],
   "source": [
    "# Statistics of the evaluation dataframe.\n",
    "evaluation_df_stats"
   ]
  },
  {
   "cell_type": "code",
   "execution_count": 32,
   "metadata": {
    "id": "4fdVjY_JWcmq",
    "tags": []
   },
   "outputs": [
    {
     "name": "stdout",
     "output_type": "stream",
     "text": [
      "Mean rougeL_precision is 0.1501867857234463\n"
     ]
    }
   ],
   "source": [
    "print(\"Mean rougeL_precision is\", evaluation_df_stats.rougeL_precision[\"mean\"])"
   ]
  },
  {
   "cell_type": "markdown",
   "metadata": {
    "id": "IgMb3E0YEqL2"
   },
   "source": [
    "## Step7: Fine-tune the model\n",
    "\n",
    " - `source_model`: Specifies the base Gemini model version you want to fine-tune.\n",
    " - `train_dataset`: Path to your training data in JSONL format.\n",
    "\n",
    "  *Optional parameters*\n",
    " - `validation_dataset`: If provided, this data is used to evaluate the model during tuning.\n",
    " - `tuned_model_display_name`: Display name for the tuned model.\n",
    " - `epochs`: The number of training epochs to run.\n",
    " - `learning_rate_multiplier`: A value to scale the learning rate during training.\n",
    " - `adapter_size` : Gemini 2.0 Pro supports Adapter length [1, 2, 4, 8], default value is 4."
   ]
  },
  {
   "cell_type": "markdown",
   "metadata": {
    "id": "4e81137766c6"
   },
   "source": [
    "**Note: The default hyperparameter settings are optimized for optimal performance based on rigorous testing and are recommended for initial use. Users may customize these parameters to address specific performance requirements.**"
   ]
  },
  {
   "cell_type": "code",
   "execution_count": 33,
   "metadata": {
    "id": "vQM2vDBZ27b_",
    "tags": []
   },
   "outputs": [
    {
     "name": "stderr",
     "output_type": "stream",
     "text": [
      "/var/tmp/ipykernel_3391/2623409050.py:12: ExperimentalWarning: The SDK's tuning implementation is experimental, and may change in future versions.\n",
      "  sft_tuning_job = client.tunings.tune(\n"
     ]
    },
    {
     "data": {
      "text/html": [
       "\n",
       "        \n",
       "    <link rel=\"stylesheet\" href=\"https://fonts.googleapis.com/icon?family=Material+Icons\">\n",
       "    <style>\n",
       "      .view-vertex-resource,\n",
       "      .view-vertex-resource:hover,\n",
       "      .view-vertex-resource:visited {\n",
       "        position: relative;\n",
       "        display: inline-flex;\n",
       "        flex-direction: row;\n",
       "        height: 32px;\n",
       "        padding: 0 12px;\n",
       "          margin: 4px 18px;\n",
       "        gap: 4px;\n",
       "        border-radius: 4px;\n",
       "\n",
       "        align-items: center;\n",
       "        justify-content: center;\n",
       "        background-color: rgb(255, 255, 255);\n",
       "        color: rgb(51, 103, 214);\n",
       "\n",
       "        font-family: Roboto,\"Helvetica Neue\",sans-serif;\n",
       "        font-size: 13px;\n",
       "        font-weight: 500;\n",
       "        text-transform: uppercase;\n",
       "        text-decoration: none !important;\n",
       "\n",
       "        transition: box-shadow 280ms cubic-bezier(0.4, 0, 0.2, 1) 0s;\n",
       "        box-shadow: 0px 3px 1px -2px rgba(0,0,0,0.2), 0px 2px 2px 0px rgba(0,0,0,0.14), 0px 1px 5px 0px rgba(0,0,0,0.12);\n",
       "      }\n",
       "      .view-vertex-resource:active {\n",
       "        box-shadow: 0px 5px 5px -3px rgba(0,0,0,0.2),0px 8px 10px 1px rgba(0,0,0,0.14),0px 3px 14px 2px rgba(0,0,0,0.12);\n",
       "      }\n",
       "      .view-vertex-resource:active .view-vertex-ripple::before {\n",
       "        position: absolute;\n",
       "        top: 0;\n",
       "        bottom: 0;\n",
       "        left: 0;\n",
       "        right: 0;\n",
       "        border-radius: 4px;\n",
       "        pointer-events: none;\n",
       "\n",
       "        content: '';\n",
       "        background-color: rgb(51, 103, 214);\n",
       "        opacity: 0.12;\n",
       "      }\n",
       "      .view-vertex-icon {\n",
       "        font-size: 18px;\n",
       "      }\n",
       "    </style>\n",
       "  \n",
       "        <a class=\"view-vertex-resource\" id=\"view-vertex-resource-44848bca-fe1a-49ad-9859-a7bbf990ade8\" href=\"#view-view-vertex-resource-44848bca-fe1a-49ad-9859-a7bbf990ade8\">\n",
       "          <span class=\"material-icons view-vertex-icon\">tune</span>\n",
       "          <span>View Tuning Job</span>\n",
       "        </a>\n",
       "        \n",
       "        <script>\n",
       "          (function () {\n",
       "            const link = document.getElementById('view-vertex-resource-44848bca-fe1a-49ad-9859-a7bbf990ade8');\n",
       "            link.addEventListener('click', (e) => {\n",
       "              if (window.google?.colab?.openUrl) {\n",
       "                window.google.colab.openUrl('https://console.cloud.google.com/vertex-ai/generative/language/locations/us-east1/tuning/tuningJob/9019202485742469120?project=255877566607');\n",
       "              } else {\n",
       "                window.open('https://console.cloud.google.com/vertex-ai/generative/language/locations/us-east1/tuning/tuningJob/9019202485742469120?project=255877566607', '_blank');\n",
       "              }\n",
       "              e.stopPropagation();\n",
       "              e.preventDefault();\n",
       "            });\n",
       "          })();\n",
       "        </script>\n",
       "    "
      ],
      "text/plain": [
       "<IPython.core.display.HTML object>"
      ]
     },
     "metadata": {},
     "output_type": "display_data"
    }
   ],
   "source": [
    "tuned_model_display_name = \"[DISPLAY NAME FOR TUNED MODEL]\"  # @param {type:\"string\"}\n",
    "\n",
    "training_dataset = {\n",
    "    \"gcs_uri\": f\"{BUCKET_URI}/train/sft_train_samples.jsonl\",\n",
    "}\n",
    "\n",
    "validation_dataset = types.TuningValidationDataset(\n",
    "    gcs_uri=f\"{BUCKET_URI}/val/sft_val_samples.jsonl\"\n",
    ")\n",
    "\n",
    "# Tune a model using `tune` method.\n",
    "sft_tuning_job = client.tunings.tune(\n",
    "    base_model=base_model,\n",
    "    training_dataset=training_dataset,\n",
    "    config=types.CreateTuningJobConfig(\n",
    "        tuned_model_display_name=tuned_model_display_name,\n",
    "        validation_dataset=validation_dataset,\n",
    "    ),\n",
    ")"
   ]
  },
  {
   "cell_type": "code",
   "execution_count": 34,
   "metadata": {
    "id": "yLlAgVjCNqXg",
    "tags": []
   },
   "outputs": [
    {
     "data": {
      "text/plain": [
       "TuningJob(\n",
       "  base_model='gemini-2.0-flash-001',\n",
       "  create_time=datetime.datetime(2025, 7, 17, 5, 36, 27, 852922, tzinfo=TzInfo(UTC)),\n",
       "  name='projects/255877566607/locations/us-east1/tuningJobs/9019202485742469120',\n",
       "  start_time=datetime.datetime(2025, 7, 17, 5, 37, 37, 577474, tzinfo=TzInfo(UTC)),\n",
       "  state=<JobState.JOB_STATE_RUNNING: 'JOB_STATE_RUNNING'>,\n",
       "  supervised_tuning_spec=SupervisedTuningSpec(\n",
       "    training_dataset_uri='gs://qwiklabs-gcp-01-59e4f9e0e409/train/sft_train_samples.jsonl',\n",
       "    validation_dataset_uri='gs://qwiklabs-gcp-01-59e4f9e0e409/val/sft_val_samples.jsonl'\n",
       "  ),\n",
       "  tuned_model_display_name='[DISPLAY NAME FOR TUNED MODEL]',\n",
       "  update_time=datetime.datetime(2025, 7, 17, 5, 37, 39, 840953, tzinfo=TzInfo(UTC))\n",
       ")"
      ]
     },
     "execution_count": 34,
     "metadata": {},
     "output_type": "execute_result"
    }
   ],
   "source": [
    "# Get the tuning job info.\n",
    "tuning_job = client.tunings.get(name=sft_tuning_job.name)\n",
    "tuning_job"
   ]
  },
  {
   "cell_type": "markdown",
   "metadata": {
    "id": "22QZ035C8GJ3"
   },
   "source": [
    "**Note: Tuning time depends on several factors, such as training data size, number of epochs, learning rate multiplier, etc.**"
   ]
  },
  {
   "cell_type": "markdown",
   "metadata": {
    "id": "NN1KX-_WyKeu"
   },
   "source": [
    "<div class=\"alert alert-block alert-warning\">\n",
    "<b>⚠️ It will take ~25 mins for the model tuning job to complete on the provided dataset and set configurations/hyperparameters. ⚠️</b>\n",
    "</div>"
   ]
  },
  {
   "cell_type": "code",
   "execution_count": 35,
   "metadata": {
    "id": "2ma3P6tZ6suI",
    "tags": []
   },
   "outputs": [
    {
     "name": "stdout",
     "output_type": "stream",
     "text": [
      "............"
     ]
    },
    {
     "data": {
      "text/html": [
       "\n",
       "        \n",
       "    <link rel=\"stylesheet\" href=\"https://fonts.googleapis.com/icon?family=Material+Icons\">\n",
       "    <style>\n",
       "      .view-vertex-resource,\n",
       "      .view-vertex-resource:hover,\n",
       "      .view-vertex-resource:visited {\n",
       "        position: relative;\n",
       "        display: inline-flex;\n",
       "        flex-direction: row;\n",
       "        height: 32px;\n",
       "        padding: 0 12px;\n",
       "          margin: 4px 18px;\n",
       "        gap: 4px;\n",
       "        border-radius: 4px;\n",
       "\n",
       "        align-items: center;\n",
       "        justify-content: center;\n",
       "        background-color: rgb(255, 255, 255);\n",
       "        color: rgb(51, 103, 214);\n",
       "\n",
       "        font-family: Roboto,\"Helvetica Neue\",sans-serif;\n",
       "        font-size: 13px;\n",
       "        font-weight: 500;\n",
       "        text-transform: uppercase;\n",
       "        text-decoration: none !important;\n",
       "\n",
       "        transition: box-shadow 280ms cubic-bezier(0.4, 0, 0.2, 1) 0s;\n",
       "        box-shadow: 0px 3px 1px -2px rgba(0,0,0,0.2), 0px 2px 2px 0px rgba(0,0,0,0.14), 0px 1px 5px 0px rgba(0,0,0,0.12);\n",
       "      }\n",
       "      .view-vertex-resource:active {\n",
       "        box-shadow: 0px 5px 5px -3px rgba(0,0,0,0.2),0px 8px 10px 1px rgba(0,0,0,0.14),0px 3px 14px 2px rgba(0,0,0,0.12);\n",
       "      }\n",
       "      .view-vertex-resource:active .view-vertex-ripple::before {\n",
       "        position: absolute;\n",
       "        top: 0;\n",
       "        bottom: 0;\n",
       "        left: 0;\n",
       "        right: 0;\n",
       "        border-radius: 4px;\n",
       "        pointer-events: none;\n",
       "\n",
       "        content: '';\n",
       "        background-color: rgb(51, 103, 214);\n",
       "        opacity: 0.12;\n",
       "      }\n",
       "      .view-vertex-icon {\n",
       "        font-size: 18px;\n",
       "      }\n",
       "    </style>\n",
       "  \n",
       "        <a class=\"view-vertex-resource\" id=\"view-vertex-resource-8d2d6b86-1681-461f-aa72-7406ba1e534d\" href=\"#view-view-vertex-resource-8d2d6b86-1681-461f-aa72-7406ba1e534d\">\n",
       "          <span class=\"material-icons view-vertex-icon\">science</span>\n",
       "          <span>View Experiment</span>\n",
       "        </a>\n",
       "        \n",
       "        <script>\n",
       "          (function () {\n",
       "            const link = document.getElementById('view-vertex-resource-8d2d6b86-1681-461f-aa72-7406ba1e534d');\n",
       "            link.addEventListener('click', (e) => {\n",
       "              if (window.google?.colab?.openUrl) {\n",
       "                window.google.colab.openUrl('https://console.cloud.google.com/vertex-ai/experiments/locations/us-east1/experiments/tuning-experiment-20250716224106872845/runs?project=qwiklabs-gcp-01-59e4f9e0e409');\n",
       "              } else {\n",
       "                window.open('https://console.cloud.google.com/vertex-ai/experiments/locations/us-east1/experiments/tuning-experiment-20250716224106872845/runs?project=qwiklabs-gcp-01-59e4f9e0e409', '_blank');\n",
       "              }\n",
       "              e.stopPropagation();\n",
       "              e.preventDefault();\n",
       "            });\n",
       "          })();\n",
       "        </script>\n",
       "    "
      ],
      "text/plain": [
       "<IPython.core.display.HTML object>"
      ]
     },
     "metadata": {},
     "output_type": "display_data"
    },
    {
     "name": "stdout",
     "output_type": "stream",
     "text": [
      "............................................................................................................................\n",
      "CPU times: user 1.38 s, sys: 161 ms, total: 1.54 s\n",
      "Wall time: 23min 9s\n"
     ]
    }
   ],
   "source": [
    "%%time\n",
    "# Wait for job completion\n",
    "\n",
    "running_states = [\n",
    "    \"JOB_STATE_PENDING\",\n",
    "    \"JOB_STATE_RUNNING\",\n",
    "]\n",
    "\n",
    "while tuning_job.state.name in running_states:\n",
    "    print(\".\", end=\"\")\n",
    "    tuning_job = client.tunings.get(name=tuning_job.name)\n",
    "    time.sleep(10)\n",
    "print()"
   ]
  },
  {
   "cell_type": "code",
   "execution_count": 36,
   "metadata": {
    "id": "e1O1xCBS6spi",
    "tags": []
   },
   "outputs": [
    {
     "name": "stdout",
     "output_type": "stream",
     "text": [
      "Tuned model experiment projects/255877566607/locations/us-east1/metadataStores/default/contexts/tuning-experiment-20250716224106872845\n",
      "Tuned model endpoint resource name: projects/255877566607/locations/us-east1/endpoints/6163699457591345152\n"
     ]
    }
   ],
   "source": [
    "tuned_model = tuning_job.tuned_model.endpoint\n",
    "experiment_name = tuning_job.experiment\n",
    "\n",
    "print(\"Tuned model experiment\", experiment_name)\n",
    "print(\"Tuned model endpoint resource name:\", tuned_model)"
   ]
  },
  {
   "cell_type": "markdown",
   "metadata": {
    "id": "8DzlWWKpbGcu"
   },
   "source": [
    "### Step7 [a]: Tuning and evaluation metrics"
   ]
  },
  {
   "cell_type": "markdown",
   "metadata": {
    "id": "psRbCfzwWz_g"
   },
   "source": [
    "#### Model tuning metrics\n",
    "\n",
    "- `/train_total_loss`: Loss for the tuning dataset at a training step.\n",
    "- `/train_fraction_of_correct_next_step_preds`: The token accuracy at a training step. A single prediction consists of a sequence of tokens. This metric measures the accuracy of the predicted tokens when compared to the ground truth in the tuning dataset.\n",
    "- `/train_num_predictions`: Number of predicted tokens at a training step\n",
    "\n",
    "#### Model evaluation metrics:\n",
    "\n",
    "- `/eval_total_loss`: Loss for the evaluation dataset at an evaluation step.\n",
    "- `/eval_fraction_of_correct_next_step_preds`: The token accuracy at an evaluation step. A single prediction consists of a sequence of tokens. This metric measures the accuracy of the predicted tokens when compared to the ground truth in the evaluation dataset.\n",
    "- `/eval_num_predictions`: Number of predicted tokens at an evaluation step.\n",
    "\n",
    "The metrics visualizations are available after the model tuning job completes. If you don't specify a validation dataset when you create the tuning job, only the visualizations for the tuning metrics are available.\n"
   ]
  },
  {
   "cell_type": "code",
   "execution_count": 37,
   "metadata": {
    "id": "5J1LP3nCbNlg",
    "tags": []
   },
   "outputs": [],
   "source": [
    "# Locate Vertex AI Experiment and Vertex AI Experiment Run\n",
    "experiment = aiplatform.Experiment(experiment_name=experiment_name)\n",
    "filter_str = metadata_utils._make_filter_string(\n",
    "    schema_title=\"system.ExperimentRun\",\n",
    "    parent_contexts=[experiment.resource_name],\n",
    ")\n",
    "experiment_run = context.Context.list(filter_str)[0]"
   ]
  },
  {
   "cell_type": "code",
   "execution_count": 38,
   "metadata": {
    "id": "htBrcQY1bPyh",
    "tags": []
   },
   "outputs": [],
   "source": [
    "# Read data from Tensorboard\n",
    "tensorboard_run_name = f\"{experiment.get_backing_tensorboard_resource().resource_name}/experiments/{experiment.name}/runs/{experiment_run.name.replace(experiment.name, '')[1:]}\"\n",
    "tensorboard_run = aiplatform.TensorboardRun(tensorboard_run_name)\n",
    "metrics = tensorboard_run.read_time_series_data()"
   ]
  },
  {
   "cell_type": "code",
   "execution_count": 39,
   "metadata": {
    "id": "uRZ-UZXcbYj5",
    "tags": []
   },
   "outputs": [],
   "source": [
    "def get_metrics(metric: str = \"/train_total_loss\"):\n",
    "    \"\"\"\n",
    "    Get metrics from Tensorboard.\n",
    "\n",
    "    Args:\n",
    "      metric: metric name, eg. /train_total_loss or /eval_total_loss.\n",
    "    Returns:\n",
    "      steps: list of steps.\n",
    "      steps_loss: list of loss values.\n",
    "    \"\"\"\n",
    "    loss_values = metrics[metric].values\n",
    "    steps_loss = []\n",
    "    steps = []\n",
    "    for loss in loss_values:\n",
    "        steps_loss.append(loss.scalar.value)\n",
    "        steps.append(loss.step)\n",
    "    return steps, steps_loss"
   ]
  },
  {
   "cell_type": "code",
   "execution_count": 40,
   "metadata": {
    "id": "ImR4doLZblaH",
    "tags": []
   },
   "outputs": [],
   "source": [
    "# Get Train and Eval Loss\n",
    "train_loss = get_metrics(metric=\"/train_total_loss\")\n",
    "eval_loss = get_metrics(metric=\"/eval_total_loss\")"
   ]
  },
  {
   "cell_type": "markdown",
   "metadata": {
    "id": "NuN-m1Ikbn15"
   },
   "source": [
    "### Step7 [b]: Plot the metrics"
   ]
  },
  {
   "cell_type": "code",
   "execution_count": 41,
   "metadata": {
    "id": "1KWWkVR5jQkA",
    "tags": []
   },
   "outputs": [
    {
     "data": {
      "application/vnd.plotly.v1+json": {
       "config": {
        "plotlyServerURL": "https://plot.ly"
       },
       "data": [
        {
         "mode": "lines",
         "name": "Train Loss",
         "type": "scatter",
         "x": [
          1,
          2,
          3,
          4,
          5,
          6,
          7,
          8,
          9,
          10,
          11,
          12,
          13,
          14,
          15,
          16,
          17,
          18,
          19,
          20,
          21,
          22,
          23,
          24,
          25,
          26,
          27,
          28,
          29,
          30,
          31,
          32,
          33,
          34,
          35,
          36,
          37,
          38,
          39,
          40,
          41,
          42,
          43,
          44,
          45,
          46,
          47,
          48,
          49,
          50,
          51,
          52,
          53,
          54,
          55,
          56,
          57,
          58,
          59,
          60,
          61,
          62,
          63,
          64,
          65,
          66,
          67,
          68,
          69,
          70,
          71,
          72,
          73,
          74,
          75,
          76,
          77,
          78,
          79,
          80,
          81,
          82,
          83,
          84,
          85,
          86,
          87,
          88,
          89,
          90,
          91,
          92,
          93,
          94,
          95,
          96,
          97,
          98,
          99,
          100,
          101,
          102,
          103,
          104,
          105,
          106,
          107,
          108,
          109,
          110,
          111,
          112,
          113,
          114,
          115,
          116,
          117,
          118,
          119,
          120,
          121,
          122,
          123,
          124,
          125,
          126,
          127,
          128,
          129,
          130,
          131,
          132,
          133,
          134,
          135,
          136,
          137,
          138,
          139,
          140,
          141,
          142,
          143,
          144,
          145,
          146,
          147,
          148,
          149,
          150,
          151,
          152,
          153
         ],
         "xaxis": "x",
         "y": [
          2.8072242736816406,
          2.8922159671783447,
          3.061007022857666,
          2.834599494934082,
          2.819744110107422,
          2.8588199615478516,
          2.6540722846984863,
          2.489971160888672,
          2.3932244777679443,
          2.2987537384033203,
          1.9494695663452148,
          1.84434175491333,
          1.7920615673065186,
          1.7687976360321045,
          1.6286451816558838,
          1.5313150882720947,
          1.5399876832962036,
          1.5277022123336792,
          1.5152400732040405,
          1.4994713068008423,
          1.3805421590805054,
          1.4715232849121094,
          1.393739938735962,
          1.3626301288604736,
          1.5152838230133057,
          1.286029577255249,
          1.2773802280426025,
          1.4222747087478638,
          1.349588394165039,
          1.3070712089538574,
          1.3663169145584106,
          1.2958838939666748,
          1.244334101676941,
          1.257774829864502,
          1.3112176656723022,
          1.3208123445510864,
          1.289466142654419,
          1.3621768951416016,
          1.2032866477966309,
          1.2232919931411743,
          1.2153774499893188,
          1.2608768939971924,
          1.2880436182022095,
          1.2423092126846313,
          1.2980631589889526,
          1.2599540948867798,
          1.2086758613586426,
          1.17133629322052,
          1.2873896360397339,
          1.2149543762207031,
          1.1614758968353271,
          1.2246770858764648,
          1.223036527633667,
          1.2500003576278687,
          1.1956610679626465,
          1.1313328742980957,
          1.2264574766159058,
          1.1238653659820557,
          1.1881959438323975,
          1.2750275135040283,
          1.1683423519134521,
          1.1752729415893555,
          1.1579108238220215,
          1.1537076234817505,
          1.2001218795776367,
          1.1462249755859375,
          1.1339136362075806,
          1.110706090927124,
          1.1677918434143066,
          1.1863038539886475,
          1.0966143608093262,
          1.14347505569458,
          1.1191116571426392,
          1.1299490928649902,
          1.1030224561691284,
          1.1421698331832886,
          1.0881296396255493,
          1.1278575658798218,
          1.134331464767456,
          1.030339002609253,
          1.058766484260559,
          1.06956148147583,
          1.1122134923934937,
          1.1030813455581665,
          0.9744699001312256,
          1.0491654872894287,
          1.12965989112854,
          1.0541529655456543,
          0.9924920797348022,
          0.9957824945449829,
          1.0307563543319702,
          1.0814272165298462,
          1.0235049724578857,
          1.0525140762329102,
          0.9635717868804932,
          0.9818241596221924,
          0.9880192875862122,
          0.99941086769104,
          0.9810383915901184,
          0.9503980278968811,
          0.9726493954658508,
          0.9729382991790771,
          0.9163042306900024,
          0.9406158924102783,
          0.8851146697998047,
          0.9208274483680725,
          0.9325623512268066,
          0.9757193326950073,
          0.9061648845672607,
          0.8881862759590149,
          0.8868695497512817,
          0.9530218243598938,
          0.8571882843971252,
          0.8971315622329712,
          0.8797941207885742,
          0.8869096040725708,
          0.876721203327179,
          0.9014478921890259,
          0.7799181342124939,
          0.8314194679260254,
          0.8854895830154419,
          0.7947694063186646,
          0.8349359631538391,
          0.8134986758232117,
          0.812831699848175,
          0.8362193703651428,
          0.774618923664093,
          0.7862124443054199,
          0.7820716500282288,
          0.7331608533859253,
          0.7915884256362915,
          0.786461591720581,
          0.7404235005378723,
          0.758616030216217,
          0.759987473487854,
          0.7525182962417603,
          0.7228409647941589,
          0.711851179599762,
          0.70284503698349,
          0.7519267201423645,
          0.7170646786689758,
          0.6880001425743103,
          0.6788085699081421,
          0.6800944805145264,
          0.6795854568481445,
          0.6649015545845032,
          0.6842619180679321,
          0.6659280061721802,
          0.6544324159622192,
          0.6634367108345032,
          0.6379994750022888,
          0.6196328997612,
          0.633600652217865
         ],
         "yaxis": "y"
        },
        {
         "mode": "lines",
         "name": "Eval Loss",
         "type": "scatter",
         "x": [
          1,
          10,
          16,
          20,
          30,
          32,
          40,
          48,
          50,
          60,
          64,
          70,
          80,
          90,
          96,
          100,
          110,
          112,
          120,
          128,
          130,
          140,
          144,
          150,
          153
         ],
         "xaxis": "x2",
         "y": [
          3.119962692260742,
          1.982373833656311,
          1.5428975820541382,
          1.4162660837173462,
          1.3520305156707764,
          1.3350189924240112,
          1.2894304990768433,
          1.2779134511947632,
          1.278702735900879,
          1.28887140750885,
          1.2946547269821167,
          1.3027358055114746,
          1.3309242725372314,
          1.3531286716461182,
          1.4110735654830933,
          1.4248977899551392,
          1.4947396516799927,
          1.5003482103347778,
          1.565777063369751,
          1.6077133417129517,
          1.6570192575454712,
          1.7013089656829834,
          1.7826541662216187,
          1.8106600046157837,
          1.8620272874832153
         ],
         "yaxis": "y2"
        }
       ],
       "layout": {
        "annotations": [
         {
          "font": {
           "size": 16
          },
          "showarrow": false,
          "text": "Train Loss",
          "x": 0.225,
          "xanchor": "center",
          "xref": "paper",
          "y": 1,
          "yanchor": "bottom",
          "yref": "paper"
         },
         {
          "font": {
           "size": 16
          },
          "showarrow": false,
          "text": "Eval Loss",
          "x": 0.775,
          "xanchor": "center",
          "xref": "paper",
          "y": 1,
          "yanchor": "bottom",
          "yref": "paper"
         }
        ],
        "autosize": true,
        "template": {
         "data": {
          "bar": [
           {
            "error_x": {
             "color": "#2a3f5f"
            },
            "error_y": {
             "color": "#2a3f5f"
            },
            "marker": {
             "line": {
              "color": "#E5ECF6",
              "width": 0.5
             },
             "pattern": {
              "fillmode": "overlay",
              "size": 10,
              "solidity": 0.2
             }
            },
            "type": "bar"
           }
          ],
          "barpolar": [
           {
            "marker": {
             "line": {
              "color": "#E5ECF6",
              "width": 0.5
             },
             "pattern": {
              "fillmode": "overlay",
              "size": 10,
              "solidity": 0.2
             }
            },
            "type": "barpolar"
           }
          ],
          "carpet": [
           {
            "aaxis": {
             "endlinecolor": "#2a3f5f",
             "gridcolor": "white",
             "linecolor": "white",
             "minorgridcolor": "white",
             "startlinecolor": "#2a3f5f"
            },
            "baxis": {
             "endlinecolor": "#2a3f5f",
             "gridcolor": "white",
             "linecolor": "white",
             "minorgridcolor": "white",
             "startlinecolor": "#2a3f5f"
            },
            "type": "carpet"
           }
          ],
          "choropleth": [
           {
            "colorbar": {
             "outlinewidth": 0,
             "ticks": ""
            },
            "type": "choropleth"
           }
          ],
          "contour": [
           {
            "colorbar": {
             "outlinewidth": 0,
             "ticks": ""
            },
            "colorscale": [
             [
              0,
              "#0d0887"
             ],
             [
              0.1111111111111111,
              "#46039f"
             ],
             [
              0.2222222222222222,
              "#7201a8"
             ],
             [
              0.3333333333333333,
              "#9c179e"
             ],
             [
              0.4444444444444444,
              "#bd3786"
             ],
             [
              0.5555555555555556,
              "#d8576b"
             ],
             [
              0.6666666666666666,
              "#ed7953"
             ],
             [
              0.7777777777777778,
              "#fb9f3a"
             ],
             [
              0.8888888888888888,
              "#fdca26"
             ],
             [
              1,
              "#f0f921"
             ]
            ],
            "type": "contour"
           }
          ],
          "contourcarpet": [
           {
            "colorbar": {
             "outlinewidth": 0,
             "ticks": ""
            },
            "type": "contourcarpet"
           }
          ],
          "heatmap": [
           {
            "colorbar": {
             "outlinewidth": 0,
             "ticks": ""
            },
            "colorscale": [
             [
              0,
              "#0d0887"
             ],
             [
              0.1111111111111111,
              "#46039f"
             ],
             [
              0.2222222222222222,
              "#7201a8"
             ],
             [
              0.3333333333333333,
              "#9c179e"
             ],
             [
              0.4444444444444444,
              "#bd3786"
             ],
             [
              0.5555555555555556,
              "#d8576b"
             ],
             [
              0.6666666666666666,
              "#ed7953"
             ],
             [
              0.7777777777777778,
              "#fb9f3a"
             ],
             [
              0.8888888888888888,
              "#fdca26"
             ],
             [
              1,
              "#f0f921"
             ]
            ],
            "type": "heatmap"
           }
          ],
          "histogram": [
           {
            "marker": {
             "pattern": {
              "fillmode": "overlay",
              "size": 10,
              "solidity": 0.2
             }
            },
            "type": "histogram"
           }
          ],
          "histogram2d": [
           {
            "colorbar": {
             "outlinewidth": 0,
             "ticks": ""
            },
            "colorscale": [
             [
              0,
              "#0d0887"
             ],
             [
              0.1111111111111111,
              "#46039f"
             ],
             [
              0.2222222222222222,
              "#7201a8"
             ],
             [
              0.3333333333333333,
              "#9c179e"
             ],
             [
              0.4444444444444444,
              "#bd3786"
             ],
             [
              0.5555555555555556,
              "#d8576b"
             ],
             [
              0.6666666666666666,
              "#ed7953"
             ],
             [
              0.7777777777777778,
              "#fb9f3a"
             ],
             [
              0.8888888888888888,
              "#fdca26"
             ],
             [
              1,
              "#f0f921"
             ]
            ],
            "type": "histogram2d"
           }
          ],
          "histogram2dcontour": [
           {
            "colorbar": {
             "outlinewidth": 0,
             "ticks": ""
            },
            "colorscale": [
             [
              0,
              "#0d0887"
             ],
             [
              0.1111111111111111,
              "#46039f"
             ],
             [
              0.2222222222222222,
              "#7201a8"
             ],
             [
              0.3333333333333333,
              "#9c179e"
             ],
             [
              0.4444444444444444,
              "#bd3786"
             ],
             [
              0.5555555555555556,
              "#d8576b"
             ],
             [
              0.6666666666666666,
              "#ed7953"
             ],
             [
              0.7777777777777778,
              "#fb9f3a"
             ],
             [
              0.8888888888888888,
              "#fdca26"
             ],
             [
              1,
              "#f0f921"
             ]
            ],
            "type": "histogram2dcontour"
           }
          ],
          "mesh3d": [
           {
            "colorbar": {
             "outlinewidth": 0,
             "ticks": ""
            },
            "type": "mesh3d"
           }
          ],
          "parcoords": [
           {
            "line": {
             "colorbar": {
              "outlinewidth": 0,
              "ticks": ""
             }
            },
            "type": "parcoords"
           }
          ],
          "pie": [
           {
            "automargin": true,
            "type": "pie"
           }
          ],
          "scatter": [
           {
            "fillpattern": {
             "fillmode": "overlay",
             "size": 10,
             "solidity": 0.2
            },
            "type": "scatter"
           }
          ],
          "scatter3d": [
           {
            "line": {
             "colorbar": {
              "outlinewidth": 0,
              "ticks": ""
             }
            },
            "marker": {
             "colorbar": {
              "outlinewidth": 0,
              "ticks": ""
             }
            },
            "type": "scatter3d"
           }
          ],
          "scattercarpet": [
           {
            "marker": {
             "colorbar": {
              "outlinewidth": 0,
              "ticks": ""
             }
            },
            "type": "scattercarpet"
           }
          ],
          "scattergeo": [
           {
            "marker": {
             "colorbar": {
              "outlinewidth": 0,
              "ticks": ""
             }
            },
            "type": "scattergeo"
           }
          ],
          "scattergl": [
           {
            "marker": {
             "colorbar": {
              "outlinewidth": 0,
              "ticks": ""
             }
            },
            "type": "scattergl"
           }
          ],
          "scattermap": [
           {
            "marker": {
             "colorbar": {
              "outlinewidth": 0,
              "ticks": ""
             }
            },
            "type": "scattermap"
           }
          ],
          "scattermapbox": [
           {
            "marker": {
             "colorbar": {
              "outlinewidth": 0,
              "ticks": ""
             }
            },
            "type": "scattermapbox"
           }
          ],
          "scatterpolar": [
           {
            "marker": {
             "colorbar": {
              "outlinewidth": 0,
              "ticks": ""
             }
            },
            "type": "scatterpolar"
           }
          ],
          "scatterpolargl": [
           {
            "marker": {
             "colorbar": {
              "outlinewidth": 0,
              "ticks": ""
             }
            },
            "type": "scatterpolargl"
           }
          ],
          "scatterternary": [
           {
            "marker": {
             "colorbar": {
              "outlinewidth": 0,
              "ticks": ""
             }
            },
            "type": "scatterternary"
           }
          ],
          "surface": [
           {
            "colorbar": {
             "outlinewidth": 0,
             "ticks": ""
            },
            "colorscale": [
             [
              0,
              "#0d0887"
             ],
             [
              0.1111111111111111,
              "#46039f"
             ],
             [
              0.2222222222222222,
              "#7201a8"
             ],
             [
              0.3333333333333333,
              "#9c179e"
             ],
             [
              0.4444444444444444,
              "#bd3786"
             ],
             [
              0.5555555555555556,
              "#d8576b"
             ],
             [
              0.6666666666666666,
              "#ed7953"
             ],
             [
              0.7777777777777778,
              "#fb9f3a"
             ],
             [
              0.8888888888888888,
              "#fdca26"
             ],
             [
              1,
              "#f0f921"
             ]
            ],
            "type": "surface"
           }
          ],
          "table": [
           {
            "cells": {
             "fill": {
              "color": "#EBF0F8"
             },
             "line": {
              "color": "white"
             }
            },
            "header": {
             "fill": {
              "color": "#C8D4E3"
             },
             "line": {
              "color": "white"
             }
            },
            "type": "table"
           }
          ]
         },
         "layout": {
          "annotationdefaults": {
           "arrowcolor": "#2a3f5f",
           "arrowhead": 0,
           "arrowwidth": 1
          },
          "autotypenumbers": "strict",
          "coloraxis": {
           "colorbar": {
            "outlinewidth": 0,
            "ticks": ""
           }
          },
          "colorscale": {
           "diverging": [
            [
             0,
             "#8e0152"
            ],
            [
             0.1,
             "#c51b7d"
            ],
            [
             0.2,
             "#de77ae"
            ],
            [
             0.3,
             "#f1b6da"
            ],
            [
             0.4,
             "#fde0ef"
            ],
            [
             0.5,
             "#f7f7f7"
            ],
            [
             0.6,
             "#e6f5d0"
            ],
            [
             0.7,
             "#b8e186"
            ],
            [
             0.8,
             "#7fbc41"
            ],
            [
             0.9,
             "#4d9221"
            ],
            [
             1,
             "#276419"
            ]
           ],
           "sequential": [
            [
             0,
             "#0d0887"
            ],
            [
             0.1111111111111111,
             "#46039f"
            ],
            [
             0.2222222222222222,
             "#7201a8"
            ],
            [
             0.3333333333333333,
             "#9c179e"
            ],
            [
             0.4444444444444444,
             "#bd3786"
            ],
            [
             0.5555555555555556,
             "#d8576b"
            ],
            [
             0.6666666666666666,
             "#ed7953"
            ],
            [
             0.7777777777777778,
             "#fb9f3a"
            ],
            [
             0.8888888888888888,
             "#fdca26"
            ],
            [
             1,
             "#f0f921"
            ]
           ],
           "sequentialminus": [
            [
             0,
             "#0d0887"
            ],
            [
             0.1111111111111111,
             "#46039f"
            ],
            [
             0.2222222222222222,
             "#7201a8"
            ],
            [
             0.3333333333333333,
             "#9c179e"
            ],
            [
             0.4444444444444444,
             "#bd3786"
            ],
            [
             0.5555555555555556,
             "#d8576b"
            ],
            [
             0.6666666666666666,
             "#ed7953"
            ],
            [
             0.7777777777777778,
             "#fb9f3a"
            ],
            [
             0.8888888888888888,
             "#fdca26"
            ],
            [
             1,
             "#f0f921"
            ]
           ]
          },
          "colorway": [
           "#636efa",
           "#EF553B",
           "#00cc96",
           "#ab63fa",
           "#FFA15A",
           "#19d3f3",
           "#FF6692",
           "#B6E880",
           "#FF97FF",
           "#FECB52"
          ],
          "font": {
           "color": "#2a3f5f"
          },
          "geo": {
           "bgcolor": "white",
           "lakecolor": "white",
           "landcolor": "#E5ECF6",
           "showlakes": true,
           "showland": true,
           "subunitcolor": "white"
          },
          "hoverlabel": {
           "align": "left"
          },
          "hovermode": "closest",
          "mapbox": {
           "style": "light"
          },
          "paper_bgcolor": "white",
          "plot_bgcolor": "#E5ECF6",
          "polar": {
           "angularaxis": {
            "gridcolor": "white",
            "linecolor": "white",
            "ticks": ""
           },
           "bgcolor": "#E5ECF6",
           "radialaxis": {
            "gridcolor": "white",
            "linecolor": "white",
            "ticks": ""
           }
          },
          "scene": {
           "xaxis": {
            "backgroundcolor": "#E5ECF6",
            "gridcolor": "white",
            "gridwidth": 2,
            "linecolor": "white",
            "showbackground": true,
            "ticks": "",
            "zerolinecolor": "white"
           },
           "yaxis": {
            "backgroundcolor": "#E5ECF6",
            "gridcolor": "white",
            "gridwidth": 2,
            "linecolor": "white",
            "showbackground": true,
            "ticks": "",
            "zerolinecolor": "white"
           },
           "zaxis": {
            "backgroundcolor": "#E5ECF6",
            "gridcolor": "white",
            "gridwidth": 2,
            "linecolor": "white",
            "showbackground": true,
            "ticks": "",
            "zerolinecolor": "white"
           }
          },
          "shapedefaults": {
           "line": {
            "color": "#2a3f5f"
           }
          },
          "ternary": {
           "aaxis": {
            "gridcolor": "white",
            "linecolor": "white",
            "ticks": ""
           },
           "baxis": {
            "gridcolor": "white",
            "linecolor": "white",
            "ticks": ""
           },
           "bgcolor": "#E5ECF6",
           "caxis": {
            "gridcolor": "white",
            "linecolor": "white",
            "ticks": ""
           }
          },
          "title": {
           "x": 0.05
          },
          "xaxis": {
           "automargin": true,
           "gridcolor": "white",
           "linecolor": "white",
           "ticks": "",
           "title": {
            "standoff": 15
           },
           "zerolinecolor": "white",
           "zerolinewidth": 2
          },
          "yaxis": {
           "automargin": true,
           "gridcolor": "white",
           "linecolor": "white",
           "ticks": "",
           "title": {
            "standoff": 15
           },
           "zerolinecolor": "white",
           "zerolinewidth": 2
          }
         }
        },
        "title": {
         "text": "Train and Eval Loss"
        },
        "xaxis": {
         "anchor": "y",
         "autorange": true,
         "domain": [
          0,
          0.45
         ],
         "range": [
          1,
          153
         ],
         "title": {
          "text": "Steps"
         },
         "type": "linear"
        },
        "xaxis2": {
         "anchor": "y2",
         "autorange": true,
         "domain": [
          0.55,
          1
         ],
         "range": [
          1,
          153
         ],
         "title": {
          "text": "Steps"
         },
         "type": "linear"
        },
        "yaxis": {
         "anchor": "x",
         "autorange": true,
         "domain": [
          0,
          1
         ],
         "range": [
          0.4840010040336185,
          3.1966389185852475
         ],
         "title": {
          "text": "Loss"
         },
         "type": "linear"
        },
        "yaxis2": {
         "anchor": "x2",
         "autorange": true,
         "domain": [
          0,
          1
         ],
         "range": [
          1.1755773822466533,
          3.2222987612088523
         ],
         "title": {
          "text": "Loss"
         },
         "type": "linear"
        }
       }
      },
      "image/png": "[encoded data removed]"
     },
     "metadata": {},
     "output_type": "display_data"
    }
   ],
   "source": [
    "# Plot the train and eval loss metrics using Plotly python library\n",
    "\n",
    "fig = make_subplots(\n",
    "    rows=1, cols=2, shared_xaxes=True, subplot_titles=(\"Train Loss\", \"Eval Loss\")\n",
    ")\n",
    "\n",
    "# Add traces\n",
    "fig.add_trace(\n",
    "    go.Scatter(x=train_loss[0], y=train_loss[1], name=\"Train Loss\", mode=\"lines\"),\n",
    "    row=1,\n",
    "    col=1,\n",
    ")\n",
    "fig.add_trace(\n",
    "    go.Scatter(x=eval_loss[0], y=eval_loss[1], name=\"Eval Loss\", mode=\"lines\"),\n",
    "    row=1,\n",
    "    col=2,\n",
    ")\n",
    "\n",
    "# Add figure title\n",
    "fig.update_layout(title=\"Train and Eval Loss\", xaxis_title=\"Steps\", yaxis_title=\"Loss\")\n",
    "\n",
    "# Set x-axis title\n",
    "fig.update_xaxes(title_text=\"Steps\")\n",
    "\n",
    "# Set y-axes titles\n",
    "fig.update_yaxes(title_text=\"Loss\")\n",
    "\n",
    "# Show plot\n",
    "fig.show()"
   ]
  },
  {
   "cell_type": "markdown",
   "metadata": {
    "id": "KY-eiVk0FI-M"
   },
   "source": [
    "## Step8: Load the Tuned Model\n",
    "\n",
    " - Load the fine-tuned model using `GenerativeModel` class with the tuning job model endpoint name.\n",
    "\n",
    " - Test the tuned model with the following prompt"
   ]
  },
  {
   "cell_type": "code",
   "execution_count": null,
   "metadata": {
    "id": "GiJ831VMDQNy"
   },
   "outputs": [],
   "source": [
    "prompt"
   ]
  },
  {
   "cell_type": "code",
   "execution_count": 42,
   "metadata": {
    "id": "65SYYpaNT4QR",
    "tags": []
   },
   "outputs": [
    {
     "name": "stdout",
     "output_type": "stream",
     "text": [
      "***Testing***\n",
      "Squeeze lotion onto your forearms. Reach behind you and rub the lotion onto your back.\n"
     ]
    }
   ],
   "source": [
    "if True:\n",
    "    # Test with the loaded model.\n",
    "    print(\"***Testing***\")\n",
    "    print(\n",
    "        client.models.generate_content(\n",
    "            model=tuned_model, contents=prompt, config=config\n",
    "        ).text\n",
    "    )\n",
    "else:\n",
    "    print(\"State:\", tuning_job.state.name.state)\n",
    "    print(\"Error:\", tuning_job.state.name.error)"
   ]
  },
  {
   "cell_type": "markdown",
   "metadata": {
    "id": "d54ce2b88af3"
   },
   "source": [
    "- We can clearly see the difference between summary generated pre and post tuning, as tuned summary is more inline with the ground truth format (**Note**: Pre and Post outputs, might vary based on the set parameters.)\n",
    "\n",
    "  - *Pre*: `This article describes a method for applying lotion to your back using your forearms as applicators. By squeezing lotion onto your forearms and then reaching behind your back, you can use a windshield wiper motion to spread the lotion across your back. The method acknowledges potential limitations for those with shoulder pain or limited flexibility.`\n",
    "  - *Post*: `Squeeze a line of lotion on your forearm. Reach behind you and rub your back.`\n",
    "  - *Ground Truth*:` Squeeze a line of lotion onto the tops of both forearms and the backs of your hands. Place your arms behind your back. Move your arms in a windshield wiper motion.`"
   ]
  },
  {
   "cell_type": "markdown",
   "metadata": {
    "id": "oYsIpFakU4CC"
   },
   "source": [
    "## Step9: Evaluation post model tuning"
   ]
  },
  {
   "cell_type": "markdown",
   "metadata": {
    "id": "mwlCcKPZ62Of"
   },
   "source": [
    "<div class=\"alert alert-block alert-warning\">\n",
    "<b>⚠️ It will take ~5 mins for the evaluation on the provided batch. ⚠️</b>\n",
    "</div>"
   ]
  },
  {
   "cell_type": "code",
   "execution_count": 43,
   "metadata": {
    "id": "KrBk1amTU3r2",
    "tags": []
   },
   "outputs": [
    {
     "name": "stderr",
     "output_type": "stream",
     "text": [
      "100%|██████████| 100/100 [01:47<00:00,  1.07s/it]\n"
     ]
    }
   ],
   "source": [
    "# run evaluation\n",
    "evaluation_df_post_tuning = run_evaluation(tuned_model, corpus_batch)"
   ]
  },
  {
   "cell_type": "code",
   "execution_count": 44,
   "metadata": {
    "id": "ONnlEkSex-iO",
    "tags": []
   },
   "outputs": [
    {
     "data": {
      "text/html": [
       "<div>\n",
       "<style scoped>\n",
       "    .dataframe tbody tr th:only-of-type {\n",
       "        vertical-align: middle;\n",
       "    }\n",
       "\n",
       "    .dataframe tbody tr th {\n",
       "        vertical-align: top;\n",
       "    }\n",
       "\n",
       "    .dataframe thead th {\n",
       "        text-align: right;\n",
       "    }\n",
       "</style>\n",
       "<table border=\"1\" class=\"dataframe\">\n",
       "  <thead>\n",
       "    <tr style=\"text-align: right;\">\n",
       "      <th></th>\n",
       "      <th>document</th>\n",
       "      <th>summary</th>\n",
       "      <th>generated_summary</th>\n",
       "      <th>scores</th>\n",
       "      <th>rouge1_precision</th>\n",
       "      <th>rouge1_recall</th>\n",
       "      <th>rouge1_fmeasure</th>\n",
       "      <th>rouge2_precision</th>\n",
       "      <th>rouge2_recall</th>\n",
       "      <th>rouge2_fmeasure</th>\n",
       "      <th>rougeL_precision</th>\n",
       "      <th>rougeL_recall</th>\n",
       "      <th>rougeL_fmeasure</th>\n",
       "    </tr>\n",
       "  </thead>\n",
       "  <tbody>\n",
       "    <tr>\n",
       "      <th>0</th>\n",
       "      <td>Hold your arm out flat in front of you with yo...</td>\n",
       "      <td>Squeeze a line of lotion onto the tops of both...</td>\n",
       "      <td>Squeeze lotion onto your forearms. Reach behin...</td>\n",
       "      <td>{'rouge1': (0.6666666666666666, 0.322580645161...</td>\n",
       "      <td>0.666667</td>\n",
       "      <td>0.322581</td>\n",
       "      <td>0.434783</td>\n",
       "      <td>0.142857</td>\n",
       "      <td>0.066667</td>\n",
       "      <td>0.090909</td>\n",
       "      <td>0.533333</td>\n",
       "      <td>0.258065</td>\n",
       "      <td>0.347826</td>\n",
       "    </tr>\n",
       "    <tr>\n",
       "      <th>1</th>\n",
       "      <td>As you continue playing, surviving becomes pai...</td>\n",
       "      <td>Make a Crock Pot for better food. Create an Al...</td>\n",
       "      <td>Craft a Crock Pot. Create an Alchemy Engine. B...</td>\n",
       "      <td>{'rouge1': (0.9090909090909091, 0.555555555555...</td>\n",
       "      <td>0.909091</td>\n",
       "      <td>0.555556</td>\n",
       "      <td>0.689655</td>\n",
       "      <td>0.800000</td>\n",
       "      <td>0.470588</td>\n",
       "      <td>0.592593</td>\n",
       "      <td>0.909091</td>\n",
       "      <td>0.555556</td>\n",
       "      <td>0.689655</td>\n",
       "    </tr>\n",
       "    <tr>\n",
       "      <th>2</th>\n",
       "      <td>Go to https://www.4kdownload.com/products/prod...</td>\n",
       "      <td>Download the 4K Video Downloader setup file. I...</td>\n",
       "      <td>Download 4K Video Downloader. Install 4K Video...</td>\n",
       "      <td>{'rouge1': (0.8461538461538461, 0.559322033898...</td>\n",
       "      <td>0.846154</td>\n",
       "      <td>0.559322</td>\n",
       "      <td>0.673469</td>\n",
       "      <td>0.657895</td>\n",
       "      <td>0.431034</td>\n",
       "      <td>0.520833</td>\n",
       "      <td>0.794872</td>\n",
       "      <td>0.525424</td>\n",
       "      <td>0.632653</td>\n",
       "    </tr>\n",
       "    <tr>\n",
       "      <th>3</th>\n",
       "      <td>You should know that vaginoplasty can treat a ...</td>\n",
       "      <td>Consider the health of your bladder. Find a so...</td>\n",
       "      <td>Consider vaginoplasty for a cystocele. Think a...</td>\n",
       "      <td>{'rouge1': (0.3333333333333333, 0.428571428571...</td>\n",
       "      <td>0.333333</td>\n",
       "      <td>0.428571</td>\n",
       "      <td>0.375000</td>\n",
       "      <td>0.085714</td>\n",
       "      <td>0.111111</td>\n",
       "      <td>0.096774</td>\n",
       "      <td>0.194444</td>\n",
       "      <td>0.250000</td>\n",
       "      <td>0.218750</td>\n",
       "    </tr>\n",
       "    <tr>\n",
       "      <th>4</th>\n",
       "      <td>If you want to gather data on the frequency of...</td>\n",
       "      <td>Gather data to be graphed. Choose your range b...</td>\n",
       "      <td>Decide on your bins. Sort the data into bins a...</td>\n",
       "      <td>{'rouge1': (0.5454545454545454, 0.521739130434...</td>\n",
       "      <td>0.545455</td>\n",
       "      <td>0.521739</td>\n",
       "      <td>0.533333</td>\n",
       "      <td>0.190476</td>\n",
       "      <td>0.181818</td>\n",
       "      <td>0.186047</td>\n",
       "      <td>0.500000</td>\n",
       "      <td>0.478261</td>\n",
       "      <td>0.488889</td>\n",
       "    </tr>\n",
       "  </tbody>\n",
       "</table>\n",
       "</div>"
      ],
      "text/plain": [
       "                                            document  \\\n",
       "0  Hold your arm out flat in front of you with yo...   \n",
       "1  As you continue playing, surviving becomes pai...   \n",
       "2  Go to https://www.4kdownload.com/products/prod...   \n",
       "3  You should know that vaginoplasty can treat a ...   \n",
       "4  If you want to gather data on the frequency of...   \n",
       "\n",
       "                                             summary  \\\n",
       "0  Squeeze a line of lotion onto the tops of both...   \n",
       "1  Make a Crock Pot for better food. Create an Al...   \n",
       "2  Download the 4K Video Downloader setup file. I...   \n",
       "3  Consider the health of your bladder. Find a so...   \n",
       "4  Gather data to be graphed. Choose your range b...   \n",
       "\n",
       "                                   generated_summary  \\\n",
       "0  Squeeze lotion onto your forearms. Reach behin...   \n",
       "1  Craft a Crock Pot. Create an Alchemy Engine. B...   \n",
       "2  Download 4K Video Downloader. Install 4K Video...   \n",
       "3  Consider vaginoplasty for a cystocele. Think a...   \n",
       "4  Decide on your bins. Sort the data into bins a...   \n",
       "\n",
       "                                              scores  rouge1_precision  \\\n",
       "0  {'rouge1': (0.6666666666666666, 0.322580645161...          0.666667   \n",
       "1  {'rouge1': (0.9090909090909091, 0.555555555555...          0.909091   \n",
       "2  {'rouge1': (0.8461538461538461, 0.559322033898...          0.846154   \n",
       "3  {'rouge1': (0.3333333333333333, 0.428571428571...          0.333333   \n",
       "4  {'rouge1': (0.5454545454545454, 0.521739130434...          0.545455   \n",
       "\n",
       "   rouge1_recall  rouge1_fmeasure  rouge2_precision  rouge2_recall  \\\n",
       "0       0.322581         0.434783          0.142857       0.066667   \n",
       "1       0.555556         0.689655          0.800000       0.470588   \n",
       "2       0.559322         0.673469          0.657895       0.431034   \n",
       "3       0.428571         0.375000          0.085714       0.111111   \n",
       "4       0.521739         0.533333          0.190476       0.181818   \n",
       "\n",
       "   rouge2_fmeasure  rougeL_precision  rougeL_recall  rougeL_fmeasure  \n",
       "0         0.090909          0.533333       0.258065         0.347826  \n",
       "1         0.592593          0.909091       0.555556         0.689655  \n",
       "2         0.520833          0.794872       0.525424         0.632653  \n",
       "3         0.096774          0.194444       0.250000         0.218750  \n",
       "4         0.186047          0.500000       0.478261         0.488889  "
      ]
     },
     "execution_count": 44,
     "metadata": {},
     "output_type": "execute_result"
    }
   ],
   "source": [
    "evaluation_df_post_tuning.head()"
   ]
  },
  {
   "cell_type": "code",
   "execution_count": 45,
   "metadata": {
    "id": "xDJrlD8O0B4d",
    "tags": []
   },
   "outputs": [],
   "source": [
    "evaluation_df_post_tuning_stats = evaluation_df_post_tuning.dropna().describe()"
   ]
  },
  {
   "cell_type": "code",
   "execution_count": 46,
   "metadata": {
    "id": "c24-mE12y4Nm",
    "tags": []
   },
   "outputs": [
    {
     "data": {
      "text/html": [
       "<div>\n",
       "<style scoped>\n",
       "    .dataframe tbody tr th:only-of-type {\n",
       "        vertical-align: middle;\n",
       "    }\n",
       "\n",
       "    .dataframe tbody tr th {\n",
       "        vertical-align: top;\n",
       "    }\n",
       "\n",
       "    .dataframe thead th {\n",
       "        text-align: right;\n",
       "    }\n",
       "</style>\n",
       "<table border=\"1\" class=\"dataframe\">\n",
       "  <thead>\n",
       "    <tr style=\"text-align: right;\">\n",
       "      <th></th>\n",
       "      <th>rouge1_precision</th>\n",
       "      <th>rouge1_recall</th>\n",
       "      <th>rouge1_fmeasure</th>\n",
       "      <th>rouge2_precision</th>\n",
       "      <th>rouge2_recall</th>\n",
       "      <th>rouge2_fmeasure</th>\n",
       "      <th>rougeL_precision</th>\n",
       "      <th>rougeL_recall</th>\n",
       "      <th>rougeL_fmeasure</th>\n",
       "    </tr>\n",
       "  </thead>\n",
       "  <tbody>\n",
       "    <tr>\n",
       "      <th>count</th>\n",
       "      <td>100.000000</td>\n",
       "      <td>100.000000</td>\n",
       "      <td>100.000000</td>\n",
       "      <td>100.000000</td>\n",
       "      <td>100.000000</td>\n",
       "      <td>100.000000</td>\n",
       "      <td>100.000000</td>\n",
       "      <td>100.000000</td>\n",
       "      <td>100.000000</td>\n",
       "    </tr>\n",
       "    <tr>\n",
       "      <th>mean</th>\n",
       "      <td>0.493572</td>\n",
       "      <td>0.463539</td>\n",
       "      <td>0.462847</td>\n",
       "      <td>0.215076</td>\n",
       "      <td>0.200208</td>\n",
       "      <td>0.200577</td>\n",
       "      <td>0.401344</td>\n",
       "      <td>0.379147</td>\n",
       "      <td>0.377571</td>\n",
       "    </tr>\n",
       "    <tr>\n",
       "      <th>std</th>\n",
       "      <td>0.162872</td>\n",
       "      <td>0.159773</td>\n",
       "      <td>0.135201</td>\n",
       "      <td>0.153479</td>\n",
       "      <td>0.138466</td>\n",
       "      <td>0.135270</td>\n",
       "      <td>0.153247</td>\n",
       "      <td>0.154618</td>\n",
       "      <td>0.133809</td>\n",
       "    </tr>\n",
       "    <tr>\n",
       "      <th>min</th>\n",
       "      <td>0.000000</td>\n",
       "      <td>0.000000</td>\n",
       "      <td>0.000000</td>\n",
       "      <td>0.000000</td>\n",
       "      <td>0.000000</td>\n",
       "      <td>0.000000</td>\n",
       "      <td>0.000000</td>\n",
       "      <td>0.000000</td>\n",
       "      <td>0.000000</td>\n",
       "    </tr>\n",
       "    <tr>\n",
       "      <th>25%</th>\n",
       "      <td>0.392665</td>\n",
       "      <td>0.363636</td>\n",
       "      <td>0.374273</td>\n",
       "      <td>0.111111</td>\n",
       "      <td>0.095238</td>\n",
       "      <td>0.098268</td>\n",
       "      <td>0.313765</td>\n",
       "      <td>0.279672</td>\n",
       "      <td>0.285714</td>\n",
       "    </tr>\n",
       "    <tr>\n",
       "      <th>50%</th>\n",
       "      <td>0.466082</td>\n",
       "      <td>0.452273</td>\n",
       "      <td>0.458042</td>\n",
       "      <td>0.189655</td>\n",
       "      <td>0.181073</td>\n",
       "      <td>0.179798</td>\n",
       "      <td>0.400000</td>\n",
       "      <td>0.355042</td>\n",
       "      <td>0.372115</td>\n",
       "    </tr>\n",
       "    <tr>\n",
       "      <th>75%</th>\n",
       "      <td>0.609064</td>\n",
       "      <td>0.556497</td>\n",
       "      <td>0.555170</td>\n",
       "      <td>0.284801</td>\n",
       "      <td>0.260215</td>\n",
       "      <td>0.281429</td>\n",
       "      <td>0.500000</td>\n",
       "      <td>0.467780</td>\n",
       "      <td>0.461538</td>\n",
       "    </tr>\n",
       "    <tr>\n",
       "      <th>max</th>\n",
       "      <td>0.909091</td>\n",
       "      <td>0.863636</td>\n",
       "      <td>0.739726</td>\n",
       "      <td>0.800000</td>\n",
       "      <td>0.588235</td>\n",
       "      <td>0.592593</td>\n",
       "      <td>0.909091</td>\n",
       "      <td>0.772727</td>\n",
       "      <td>0.689655</td>\n",
       "    </tr>\n",
       "  </tbody>\n",
       "</table>\n",
       "</div>"
      ],
      "text/plain": [
       "       rouge1_precision  rouge1_recall  rouge1_fmeasure  rouge2_precision  \\\n",
       "count        100.000000     100.000000       100.000000        100.000000   \n",
       "mean           0.493572       0.463539         0.462847          0.215076   \n",
       "std            0.162872       0.159773         0.135201          0.153479   \n",
       "min            0.000000       0.000000         0.000000          0.000000   \n",
       "25%            0.392665       0.363636         0.374273          0.111111   \n",
       "50%            0.466082       0.452273         0.458042          0.189655   \n",
       "75%            0.609064       0.556497         0.555170          0.284801   \n",
       "max            0.909091       0.863636         0.739726          0.800000   \n",
       "\n",
       "       rouge2_recall  rouge2_fmeasure  rougeL_precision  rougeL_recall  \\\n",
       "count     100.000000       100.000000        100.000000     100.000000   \n",
       "mean        0.200208         0.200577          0.401344       0.379147   \n",
       "std         0.138466         0.135270          0.153247       0.154618   \n",
       "min         0.000000         0.000000          0.000000       0.000000   \n",
       "25%         0.095238         0.098268          0.313765       0.279672   \n",
       "50%         0.181073         0.179798          0.400000       0.355042   \n",
       "75%         0.260215         0.281429          0.500000       0.467780   \n",
       "max         0.588235         0.592593          0.909091       0.772727   \n",
       "\n",
       "       rougeL_fmeasure  \n",
       "count       100.000000  \n",
       "mean          0.377571  \n",
       "std           0.133809  \n",
       "min           0.000000  \n",
       "25%           0.285714  \n",
       "50%           0.372115  \n",
       "75%           0.461538  \n",
       "max           0.689655  "
      ]
     },
     "execution_count": 46,
     "metadata": {},
     "output_type": "execute_result"
    }
   ],
   "source": [
    "# Statistics of the evaluation dataframe post model tuning.\n",
    "evaluation_df_post_tuning_stats"
   ]
  },
  {
   "cell_type": "code",
   "execution_count": 47,
   "metadata": {
    "id": "9VU-8Ql2bqlo",
    "tags": []
   },
   "outputs": [
    {
     "name": "stdout",
     "output_type": "stream",
     "text": [
      "Mean rougeL_precision is 0.4013439839679089\n"
     ]
    }
   ],
   "source": [
    "print(\n",
    "    \"Mean rougeL_precision is\", evaluation_df_post_tuning_stats.rougeL_precision[\"mean\"]\n",
    ")"
   ]
  },
  {
   "cell_type": "markdown",
   "metadata": {
    "id": "4Q8hN7SE08-X"
   },
   "source": [
    "#### Improvement"
   ]
  },
  {
   "cell_type": "code",
   "execution_count": 48,
   "metadata": {
    "id": "j0ctGzdnznYO",
    "tags": []
   },
   "outputs": [
    {
     "name": "stdout",
     "output_type": "stream",
     "text": [
      "Model tuning has improved the rougeL_precision by 167.23% (result might differ based on each tuning iteration)\n"
     ]
    }
   ],
   "source": [
    "improvement = round(\n",
    "    (\n",
    "        (\n",
    "            evaluation_df_post_tuning_stats.rougeL_precision[\"mean\"]\n",
    "            - evaluation_df_stats.rougeL_precision[\"mean\"]\n",
    "        )\n",
    "        / evaluation_df_stats.rougeL_precision[\"mean\"]\n",
    "    )\n",
    "    * 100,\n",
    "    2,\n",
    ")\n",
    "print(\n",
    "    f\"Model tuning has improved the rougeL_precision by {improvement}% (result might differ based on each tuning iteration)\"\n",
    ")"
   ]
  },
  {
   "cell_type": "markdown",
   "metadata": {
    "id": "LQkpAMnpw-jH"
   },
   "source": [
    "## Conclusion"
   ]
  },
  {
   "cell_type": "markdown",
   "metadata": {
    "id": "Esra6YPgxBiV"
   },
   "source": [
    "Performance could be further improved:\n",
    "- By adding more training samples. In general, improve your training data quality and/or quantity towards getting a more diverse and comprehensive dataset for your task\n",
    "- By tuning the hyperparameters, such as epochs and learning rate multiplier\n",
    "  - To find the optimal number of epochs for your dataset, we recommend experimenting with different values. While increasing epochs can lead to better performance, it's important to be mindful of overfitting, especially with smaller datasets. If you see signs of overfitting, reducing the number of epochs can help mitigate the issue\n",
    "- You may try different prompt structures/formats and opt for the one with better performance"
   ]
  },
  {
   "cell_type": "markdown",
   "metadata": {
    "id": "3e6fd3649040"
   },
   "source": [
    "## Cleaning up"
   ]
  },
  {
   "cell_type": "markdown",
   "metadata": {
    "id": "5528064b2cdf"
   },
   "source": [
    "To clean up all Google Cloud resources used in this project, you can [delete the Google Cloud\n",
    "project](https://cloud.google.com/resource-manager/docs/creating-managing-projects#shutting_down_projects) you used for the tutorial.\n",
    "\n",
    "\n",
    "Otherwise, you can delete the individual resources you created in this tutorial.\n",
    "\n",
    "Refer to this [instructions](https://cloud.google.com/vertex-ai/docs/tutorials/image-classification-custom/cleanup#delete_resources) to delete the resources from console."
   ]
  },
  {
   "cell_type": "code",
   "execution_count": 49,
   "metadata": {
    "id": "c4dd0f5d2a21",
    "tags": []
   },
   "outputs": [
    {
     "name": "stdout",
     "output_type": "stream",
     "text": [
      "projects/255877566607/locations/us-east1/metadataStores/default/contexts/tuning-experiment-20250716224106872845\n",
      "Experiment run tuning-experiment-run-20250716224106872845 skipped backing tensorboard run deletion.\n",
      "To delete backing tensorboard run, execute the following:\n",
      "tensorboard_run_artifact = aiplatform.metadata.artifact.Artifact(artifact_name=f\"tuning-experiment-20250716224106872845-tuning-experiment-run-20250716224106872845-tb-run\")\n",
      "tensorboard_run_resource = aiplatform.TensorboardRun(tensorboard_run_artifact.metadata[\"resourceName\"])\n",
      "tensorboard_run_resource.delete()\n",
      "tensorboard_run_artifact.delete()\n",
      "Deleting Context : projects/255877566607/locations/us-east1/metadataStores/default/contexts/tuning-experiment-20250716224106872845-tuning-experiment-run-20250716224106872845\n",
      "Context deleted. . Resource name: projects/255877566607/locations/us-east1/metadataStores/default/contexts/tuning-experiment-20250716224106872845-tuning-experiment-run-20250716224106872845\n",
      "Deleting Context resource: projects/255877566607/locations/us-east1/metadataStores/default/contexts/tuning-experiment-20250716224106872845-tuning-experiment-run-20250716224106872845\n",
      "Delete Context backing LRO: projects/255877566607/locations/us-east1/metadataStores/default/contexts/tuning-experiment-20250716224106872845-tuning-experiment-run-20250716224106872845/operations/8051080298462445568\n",
      "Context resource projects/255877566607/locations/us-east1/metadataStores/default/contexts/tuning-experiment-20250716224106872845-tuning-experiment-run-20250716224106872845 deleted.\n",
      "Deleting Context : projects/255877566607/locations/us-east1/metadataStores/default/contexts/tuning-experiment-20250716224106872845\n",
      "Context deleted. . Resource name: projects/255877566607/locations/us-east1/metadataStores/default/contexts/tuning-experiment-20250716224106872845\n",
      "Deleting Context resource: projects/255877566607/locations/us-east1/metadataStores/default/contexts/tuning-experiment-20250716224106872845\n",
      "Delete Context backing LRO: projects/255877566607/locations/us-east1/metadataStores/default/contexts/tuning-experiment-20250716224106872845/operations/1109907372777668608\n",
      "Context resource projects/255877566607/locations/us-east1/metadataStores/default/contexts/tuning-experiment-20250716224106872845 deleted.\n",
      "******************************\n",
      "projects/255877566607/locations/us-east1/endpoints/6163699457591345152\n",
      "Undeploying Endpoint model: projects/255877566607/locations/us-east1/endpoints/6163699457591345152\n",
      "Undeploy Endpoint model backing LRO: projects/255877566607/locations/us-east1/endpoints/6163699457591345152/operations/9103796711360299008\n",
      "Endpoint model undeployed. Resource name: projects/255877566607/locations/us-east1/endpoints/6163699457591345152\n",
      "Deleting Endpoint : projects/255877566607/locations/us-east1/endpoints/6163699457591345152\n",
      "Endpoint deleted. . Resource name: projects/255877566607/locations/us-east1/endpoints/6163699457591345152\n",
      "Deleting Endpoint resource: projects/255877566607/locations/us-east1/endpoints/6163699457591345152\n",
      "Delete Endpoint backing LRO: projects/255877566607/locations/us-east1/operations/5721593391205056512\n",
      "Endpoint resource projects/255877566607/locations/us-east1/endpoints/6163699457591345152 deleted.\n",
      "******************************\n",
      "Removing gs://qwiklabs-gcp-01-59e4f9e0e409/train/sft_train_samples.jsonl#1752729428968939...\n",
      "Removing gs://qwiklabs-gcp-01-59e4f9e0e409/val/sft_val_samples.jsonl#1752729431259344...\n",
      "/ [2/2 objects] 100% Done                                                       \n",
      "Operation completed over 2 objects.                                              \n",
      "Removing gs://qwiklabs-gcp-01-59e4f9e0e409/...\n"
     ]
    }
   ],
   "source": [
    "# Delete Experiment.\n",
    "delete_experiments = True\n",
    "if delete_experiments:\n",
    "    experiments_list = aiplatform.Experiment.list()\n",
    "    for experiment in experiments_list:\n",
    "        if experiment.resource_name == experiment_name:\n",
    "            print(experiment.resource_name)\n",
    "            experiment.delete()\n",
    "            break\n",
    "\n",
    "print(\"***\" * 10)\n",
    "\n",
    "# Delete Endpoint.\n",
    "delete_endpoint = True\n",
    "# If force is set to True, all deployed models on this\n",
    "# Endpoint will be first undeployed.\n",
    "if delete_endpoint:\n",
    "    for endpoint in aiplatform.Endpoint.list():\n",
    "        if endpoint.resource_name == tuned_model:\n",
    "            print(endpoint.resource_name)\n",
    "            endpoint.delete(force=True)\n",
    "            break\n",
    "\n",
    "print(\"***\" * 10)\n",
    "\n",
    "# Delete Cloud Storage Bucket.\n",
    "delete_bucket = True\n",
    "if delete_bucket:\n",
    "    ! gsutil -m rm -r $BUCKET_URI"
   ]
  },
  {
   "cell_type": "code",
   "execution_count": null,
   "metadata": {},
   "outputs": [],
   "source": []
  }
 ],
 "metadata": {
  "colab": {
   "name": "sft_gemini_summarization.ipynb",
   "toc_visible": true
  },
  "environment": {
   "kernel": "conda-base-py",
   "name": "workbench-notebooks.m131",
   "type": "gcloud",
   "uri": "us-docker.pkg.dev/deeplearning-platform-release/gcr.io/workbench-notebooks:m131"
  },
  "kernelspec": {
   "display_name": "Python 3 (ipykernel) (Local)",
   "language": "python",
   "name": "conda-base-py"
  },
  "language_info": {
   "codemirror_mode": {
    "name": "ipython",
    "version": 3
   },
   "file_extension": ".py",
   "mimetype": "text/x-python",
   "name": "python",
   "nbconvert_exporter": "python",
   "pygments_lexer": "ipython3",
   "version": "3.10.18"
  }
 },
 "nbformat": 4,
 "nbformat_minor": 4
}
