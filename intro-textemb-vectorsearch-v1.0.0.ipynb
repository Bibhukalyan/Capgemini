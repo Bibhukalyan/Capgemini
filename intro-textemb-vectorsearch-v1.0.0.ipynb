{
 "cells": [
  {
   "cell_type": "code",
   "execution_count": null,
   "metadata": {
    "id": "c3_K0GGSTrhd"
   },
   "outputs": [],
   "source": [
    "# Copyright 2023 Google LLC\n",
    "#\n",
    "# Licensed under the Apache License, Version 2.0 (the \"License\");\n",
    "# you may not use this file except in compliance with the License.\n",
    "# You may obtain a copy of the License at\n",
    "#\n",
    "#     https://www.apache.org/licenses/LICENSE-2.0\n",
    "#\n",
    "# Unless required by applicable law or agreed to in writing, software\n",
    "# distributed under the License is distributed on an \"AS IS\" BASIS,\n",
    "# WITHOUT WARRANTIES OR CONDITIONS OF ANY KIND, either express or implied.\n",
    "# See the License for the specific language governing permissions and\n",
    "# limitations under the License."
   ]
  },
  {
   "cell_type": "markdown",
   "metadata": {
    "id": "7VQkf8sFTeDo"
   },
   "source": [
    "# Getting Started with Text Embeddings + Vertex AI Vector Search\n",
    "\n",
    "\n",
    "<table align=\"left\">\n",
    "  <td style=\"text-align: center\">\n",
    "    <a href=\"https://colab.research.google.com/github/GoogleCloudPlatform/generative-ai/blob/main/embeddings/intro-textemb-vectorsearch.ipynb\">\n",
    "      <img width=\"32px\" src=\"https://www.gstatic.com/pantheon/images/bigquery/welcome_page/colab-logo.svg\" alt=\"Google Colaboratory logo\"><br> Open in Colab\n",
    "    </a>\n",
    "  </td>\n",
    "  <td style=\"text-align: center\">\n",
    "    <a href=\"https://console.cloud.google.com/vertex-ai/colab/import/https:%2F%2Fraw.githubusercontent.com%2FGoogleCloudPlatform%2Fgenerative-ai%2Fmain%2Fembeddings%2Fintro-textemb-vectorsearch.ipynb\">\n",
    "      <img width=\"32px\" src=\"https://lh3.googleusercontent.com/JmcxdQi-qOpctIvWKgPtrzZdJJK-J3sWE1RsfjZNwshCFgE_9fULcNpuXYTilIR2hjwN\" alt=\"Google Cloud Colab Enterprise logo\"><br> Open in Colab Enterprise\n",
    "    </a>\n",
    "  </td>\n",
    "  <td style=\"text-align: center\">\n",
    "    <a href=\"https://console.cloud.google.com/vertex-ai/workbench/deploy-notebook?download_url=https://raw.githubusercontent.com/GoogleCloudPlatform/generative-ai/main/embeddings/intro-textemb-vectorsearch.ipynb\">\n",
    "      <img src=\"https://www.gstatic.com/images/branding/gcpiconscolors/vertexai/v1/32px.svg\" alt=\"Vertex AI logo\"><br> Open in Vertex AI Workbench\n",
    "    </a>\n",
    "  </td>\n",
    "  <td style=\"text-align: center\">\n",
    "    <a href=\"https://console.cloud.google.com/bigquery/import?url=https://github.com/GoogleCloudPlatform/generative-ai/blob/main/embeddings/intro-textemb-vectorsearch.ipynb\">\n",
    "      <img src=\"https://www.gstatic.com/images/branding/gcpiconscolors/bigquery/v1/32px.svg\" alt=\"BigQuery Studio logo\"><br> Open in BigQuery Studio\n",
    "    </a>\n",
    "  </td>\n",
    "  <td style=\"text-align: center\">\n",
    "    <a href=\"https://github.com/GoogleCloudPlatform/generative-ai/blob/main/embeddings/intro-textemb-vectorsearch.ipynb\">\n",
    "      <img width=\"32px\" src=\"https://upload.wikimedia.org/wikipedia/commons/9/91/Octicons-mark-github.svg\" alt=\"GitHub logo\"><br> View on GitHub\n",
    "    </a>\n",
    "  </td>\n",
    "</table>\n",
    "\n",
    "<div style=\"clear: both;\"></div>\n",
    "\n",
    "<b>Share to:</b>\n",
    "\n",
    "<a href=\"https://www.linkedin.com/sharing/share-offsite/?url=https%3A//github.com/GoogleCloudPlatform/generative-ai/blob/main/embeddings/intro-textemb-vectorsearch.ipynb\" target=\"_blank\">\n",
    "  <img width=\"20px\" src=\"https://upload.wikimedia.org/wikipedia/commons/8/81/LinkedIn_icon.svg\" alt=\"LinkedIn logo\">\n",
    "</a>\n",
    "\n",
    "<a href=\"https://bsky.app/intent/compose?text=https%3A//github.com/GoogleCloudPlatform/generative-ai/blob/main/embeddings/intro-textemb-vectorsearch.ipynb\" target=\"_blank\">\n",
    "  <img width=\"20px\" src=\"https://upload.wikimedia.org/wikipedia/commons/7/7a/Bluesky_Logo.svg\" alt=\"Bluesky logo\">\n",
    "</a>\n",
    "\n",
    "<a href=\"https://twitter.com/intent/tweet?url=https%3A//github.com/GoogleCloudPlatform/generative-ai/blob/main/embeddings/intro-textemb-vectorsearch.ipynb\" target=\"_blank\">\n",
    "  <img width=\"20px\" src=\"https://upload.wikimedia.org/wikipedia/commons/5/53/X_logo_2023_original.svg\" alt=\"X logo\">\n",
    "</a>\n",
    "\n",
    "<a href=\"https://reddit.com/submit?url=https%3A//github.com/GoogleCloudPlatform/generative-ai/blob/main/embeddings/intro-textemb-vectorsearch.ipynb\" target=\"_blank\">\n",
    "  <img width=\"20px\" src=\"https://redditinc.com/hubfs/Reddit%20Inc/Brand/Reddit_Logo.png\" alt=\"Reddit logo\">\n",
    "</a>\n",
    "\n",
    "<a href=\"https://www.facebook.com/sharer/sharer.php?u=https%3A//github.com/GoogleCloudPlatform/generative-ai/blob/main/embeddings/intro-textemb-vectorsearch.ipynb\" target=\"_blank\">\n",
    "  <img width=\"20px\" src=\"https://upload.wikimedia.org/wikipedia/commons/5/51/Facebook_f_logo_%282019%29.svg\" alt=\"Facebook logo\">\n",
    "</a>            "
   ]
  },
  {
   "cell_type": "markdown",
   "metadata": {
    "id": "4d742715e6de"
   },
   "source": [
    "| | |\n",
    "|-|-|\n",
    "|Author(s) | [Smitha Venkat](https://github.com/smitha-google), [Kaz Sato](https://github.com/kazunori279)|"
   ]
  },
  {
   "cell_type": "markdown",
   "metadata": {
    "id": "25a71983a324"
   },
   "source": [
    "## Introduction\n",
    "\n",
    "In this tutorial, you learn how to use Google Cloud AI tools to quickly bring the power of Large Language Models to enterprise systems.  \n",
    "\n",
    "This tutorial covers the following -\n",
    "\n",
    "*   What are embeddings - what business challenges do they help solve ?\n",
    "*   Understanding Text with Vertex AI Text Embeddings\n",
    "*   Find Embeddings fast with Vertex AI Vector Search\n",
    "*   Grounding LLM outputs with Vector Search\n",
    "\n",
    "This tutorial is based on [the blog post](https://cloud.google.com/blog/products/ai-machine-learning/how-to-use-grounding-for-your-llms-with-text-embeddings), combined with sample code.\n",
    "\n",
    "\n",
    "### Prerequisites\n",
    "\n",
    "This tutorial is designed for developers who has basic knowledge and experience with Python programming and machine learning.\n",
    "\n",
    "If you are not reading this tutorial in Qwiklab, then you need to have a Google Cloud project that is linked to a billing account to run this. Please go through [this document](https://cloud.google.com/vertex-ai/docs/start/cloud-environment) to create a project and setup a billing account for it.\n",
    "\n",
    "### Choose the runtime environment\n",
    "\n",
    "The notebook can be run on either Google Colab or [Vertex AI Workbench](https://cloud.google.com/vertex-ai-workbench).\n",
    "\n",
    "- To use Colab: Click [this link](https://colab.research.google.com/github/GoogleCloudPlatform/generative-ai/blob/main/embeddings/intro-textemb-vectorsearch.ipynb) to open the tutorial in Colab.\n",
    "\n",
    "- To use Workbench: If it is the first time to use Workbench in your Google Cloud project, open [the Workbench console](https://console.cloud.google.com/vertex-ai/workbench) and click ENABLE button to enable Notebooks API. Then click [this link](https://console.cloud.google.com/vertex-ai/workbench/deploy-notebook?download_url=https://raw.githubusercontent.com/GoogleCloudPlatform/generative-ai/main/embeddings/intro-textemb-vectorsearch.ipynb),  and select an existing notebook or create a new notebook.\n"
   ]
  },
  {
   "cell_type": "markdown",
   "metadata": {
    "id": "2pImjuenUIQz"
   },
   "source": [
    "### How much will this cost?\n",
    "\n",
    "In case you are using your own Cloud project, not a temporary project on Qwiklab, you need to spend roughly a few US dollars to finish this tutorial.\n",
    "\n",
    "The pricing of the Cloud services we will use in this tutorial are available in the following pages:\n",
    "\n",
    "- [Vertex AI Embeddings for Text](https://cloud.google.com/vertex-ai/pricing#generative_ai_models)\n",
    "- [Vertex AI Vector Search](https://cloud.google.com/vertex-ai/pricing#matchingengine)\n",
    "- [BigQuery](https://cloud.google.com/bigquery/pricing)\n",
    "- [Cloud Storage](https://cloud.google.com/storage/pricing)\n",
    "- [Vertex AI Workbench](https://cloud.google.com/vertex-ai/pricing#notebooks) if you use one\n",
    "\n",
    "You can use the [Pricing Calculator](https://cloud.google.com/products/calculator) to generate a cost estimate based on your projected usage. The following is an example of rough cost estimation with the calculator, assuming you will go through this tutorial a couple of time.\n",
    "\n",
    "<img src=\"https://storage.googleapis.com/github-repo/img/embeddings/vs-quickstart/pricing.png\" width=\"50%\"/>\n",
    "\n",
    "### **Warning: delete your objects after the tutorial**\n",
    "\n",
    "In case you are using your own Cloud project, please make sure to delete all the Indexes, Index Endpoints and Cloud Storage buckets (and the Workbench instance if you use one) after finishing this tutorial. Otherwise the remaining assets would incur unexpected costs.\n"
   ]
  },
  {
   "cell_type": "markdown",
   "metadata": {
    "id": "6Fu2OoUDTQ6w"
   },
   "source": [
    "# Bringing Gen AI and LLMs to production services\n",
    "\n",
    "Many people are now starting to think about how to bring Gen AI and LLMs to production services, and facing with several challenges.\n",
    "\n",
    "- \"How to integrate LLMs or AI chatbots with existing IT systems, databases and business data?\"\n",
    "- \"We have thousands of products. How can I let LLM memorize them all precisely?\"\n",
    "- \"How to handle the hallucination issues in AI chatbots to build a reliable service?\"\n",
    "\n",
    "Here is a quick solution: **grounding** with **embeddings** and **vector search**.\n",
    "\n",
    "What is grounding? What are embedding and vector search? In this tutorial, we will learn these crucial concepts to build reliable Gen AI services for enterprise use. But before we dive deeper, let's try the demo below."
   ]
  },
  {
   "cell_type": "markdown",
   "metadata": {
    "id": "ORqZYLgTm9pJ"
   },
   "source": [
    "![](https://storage.googleapis.com/gweb-cloudblog-publish/original_images/1._demo_animation.gif)\n",
    "\n",
    "**Exercise: Try the Stack Overflow semantic search demo:**\n",
    "\n",
    "This demo is available as a [public live demo](https://ai-demos.dev/). Select \"STACKOVERFLOW\" and enter any coding question as a query, so it runs a text search on **8 million** questions posted on [Stack Overflow](https://stackoverflow.com/). Try the text semantic search with some queries like 'How to shuffle rows in SQL?' or arbitrary programming questions.\n",
    "\n",
    "In this tutorial, we are going to see how to build a similar search experience - what is involved in building solutions like this using Vertex AI Embeddings API and Vector Search."
   ]
  },
  {
   "cell_type": "markdown",
   "metadata": {
    "id": "H1MAIOkCw35V"
   },
   "source": [
    "# What is Embeddings?\n",
    "\n",
    "With the rise of LLMs, why is it becoming important for IT engineers and ITDMs to understand how they work?\n",
    "\n",
    "In traditional IT systems, most data is organized as structured or tabular data, using simple keywords, labels, and categories in databases and search engines.\n",
    "\n",
    "![](https://storage.googleapis.com/github-repo/img/embeddings/textemb-vs-notebook/1.png)\n",
    "\n",
    "In contrast, AI-powered services arrange data into a simple data structure known as \"embeddings.\"\n",
    "\n",
    "![](https://storage.googleapis.com/github-repo/img/embeddings/textemb-vs-notebook/2.png)"
   ]
  },
  {
   "cell_type": "markdown",
   "metadata": {
    "id": "hJqjBmQsxz2Z"
   },
   "source": [
    "Once trained with specific content like text, images, or any content, AI creates a space called \"embedding space\", which is essentially a map of the content's meaning.\n",
    "\n",
    "![](https://storage.googleapis.com/github-repo/img/embeddings/textemb-vs-notebook/3.png)\n",
    "\n",
    "AI can identify the location of each content on the map, that's what embedding is.\n",
    "\n",
    "![](https://storage.googleapis.com/github-repo/img/embeddings/textemb-vs-notebook/4.png)\n",
    "\n",
    "Let's take an example where a text discusses movies, music, and actors, with a distribution of 10%, 2%, and 30%, respectively. In this case, the AI can create an embedding with three values: 0.1, 0.02, and 0.3, in 3 dimensional space.\n",
    "\n",
    "![](https://storage.googleapis.com/github-repo/img/embeddings/textemb-vs-notebook/5.png)\n",
    "\n",
    "AI can put content with similar meanings closely together in the space."
   ]
  },
  {
   "cell_type": "markdown",
   "metadata": {
    "id": "A5z7vyTyzk_4"
   },
   "source": [
    "This is how Google organizes data across various services like Google Search, YouTube, Play, and many others, to provide search results and recommendations with relevant content.\n",
    "\n",
    "Embeddings can also be used to represent different types of things in businesses, such as products, users, user activities, conversations, music & videos, signals from IoT sensors, and so on."
   ]
  },
  {
   "cell_type": "markdown",
   "metadata": {
    "id": "tpKVmyEe0ab9"
   },
   "source": [
    "AI and Embeddings are now playing a crucial role in creating a new way of human-computer interaction.\n",
    "\n",
    "![](https://storage.googleapis.com/github-repo/img/embeddings/textemb-vs-notebook/6.png)\n",
    "\n",
    "AI organizes data into embeddings, which represent what the user is looking for, the meaning of contents, or many other things you have in your business. This creates a new level of user experience that is becoming the new standard.\n",
    "\n",
    "To learn more about embeddings, [Foundational courses: Embeddings on Google Machine Learning Crush Course](https://developers.google.com/machine-learning/crash-course/embeddings/video-lecture) and [Meet AI's multitool: Vector embeddings by Dale Markowitz](https://cloud.google.com/blog/topics/developers-practitioners/meet-ais-multitool-vector-embeddings) are great materials.\n"
   ]
  },
  {
   "cell_type": "markdown",
   "metadata": {
    "id": "ovQpiL2GUEXa"
   },
   "source": [
    "# Vertex AI Embeddings for Text\n",
    "\n",
    "With the [Vertex AI Embeddings for Text](https://cloud.google.com/vertex-ai/docs/generative-ai/embeddings/get-text-embeddings), you can easily create a text embedding with LLM. The product is also available on [Vertex AI Model Garden](https://cloud.google.com/model-garden)\n",
    "\n",
    "![](https://storage.googleapis.com/github-repo/img/embeddings/textemb-vs-notebook/7.png)\n",
    "\n",
    "This API is designed to extract embeddings from texts. It can take text input up to 2048 input tokens, and outputs 768 dimensional text embeddings."
   ]
  },
  {
   "cell_type": "markdown",
   "metadata": {
    "id": "nwJHDPG7lU52"
   },
   "source": [
    "## LLM text embedding business use cases\n",
    "\n",
    "With the embedding API, you can apply the innovation of embeddings, combined with the LLM capability, to various text processing tasks, such as:\n",
    "\n",
    "**LLM-enabled Semantic Search**: text embeddings can be used to represent both the meaning and intent of a user's query and documents in the embedding space. Documents that have similar meaning to the user's query intent will be found fast with vector search technology. The model is capable of generating text embeddings that capture the subtle nuances of each sentence and paragraphs in the document.\n",
    "\n",
    "**LLM-enabled Text Classification**: LLM text embeddings can be used for text classification with a deep understanding of different contexts without any training or fine-tuning (so-called zero-shot learning). This wasn't possible with the past language models without task-specific training.\n",
    "\n",
    "**LLM-enabled Recommendation**: The text embedding can be used for recommendation systems as a strong feature for training recommendation models such as Two-Tower model. The model learns the relationship between the query and candidate embeddings, resulting in next-gen user experience with semantic product recommendation.\n",
    "\n",
    "LLM-enabled Clustering, Anomaly Detection, Sentiment Analysis, and more, can be also handled with the LLM-level deep semantics understanding.\n"
   ]
  },
  {
   "cell_type": "markdown",
   "metadata": {
    "id": "ga5A7koYlvlZ"
   },
   "source": [
    "## Sorting 8 million texts at \"librarian-level\" precision\n",
    "\n",
    "Vertex AI Embeddings for Text has an embedding space with 768 dimensions. As explained earlier, the space represents a huge map of a wide variety of texts in the world, organized by their meanings. With each input text, the model can find a location (embedding) in the map.\n",
    "\n",
    "By visualizing the embedding space, you can actually observe how the model sorts the texts at the \"librarian-level\" precision.\n",
    "\n",
    "**Exercise: Try the Nomic AI Atlas**\n",
    "\n",
    "[Nomic AI](http://nomic.ai/) provides a platform called Atlas for storing, visualizing and interacting with embedding spaces with high scalability and in a smooth UI, and they worked with Google for visualizing the embedding space of the 8 million Stack Overflow questions. You can try exploring around the space, zooming in and out to each data point on your browser on this page, courtesy of Nomic AI.\n",
    "\n",
    "The embedding space represents a huge map of texts, organized by their meanings\n",
    "With each input text, the model can find a location (embedding) in the map\n",
    "Like a librarian reading through millions of texts, sorting them with millions of nano-categories\n",
    "\n",
    "Try exploring it [here](https://atlas.nomic.ai/map/edaff028-12b5-42a0-8e8b-6430c9b8222b/bcb42818-3581-4fb5-ac30-9883d01f98ec). Zoom into a few categories, point each dots, and see how the LLM is sorting similar questions close together in the space.\n",
    "\n",
    "![](https://storage.googleapis.com/gweb-cloudblog-publish/images/4._Nomic_AI_Atlas.max-2200x2200.png)\n",
    "\n",
    "### The librarian-level semantic understanding\n",
    "\n",
    "Here are the examples of the librarian-level semantic understanding by Embeddings API with Stack Overflow questions.\n",
    "\n",
    "![](https://storage.googleapis.com/gweb-cloudblog-publish/images/5._semantic_understanding.max-2200x2200.png)\n",
    "\n",
    "For example, the model thinks the question \"Does moving the request line to a header frame require an app change?\" is similar to the question \"Does an application developed on HTTP1x require modifications to run on HTTP2?\". That is because The model knows both questions talk about what's the change required to support the HTTP2 header frame.\n",
    "\n",
    "Note that this demo didn't require any training or fine-tuning with computer programming specific datasets. This is the innovative part of the zero-shot learning capability of the LLM. It can be applied to a wide variety of industries, including finance, healthcare, retail, manufacturing, construction, media, and more, for deep semantic search on the industry-focused business documents without spending time and cost for collecting industry specific datasets and training models."
   ]
  },
  {
   "cell_type": "markdown",
   "metadata": {
    "id": "-iOWOKnIvYxf"
   },
   "source": [
    "# Text Embeddings in Action\n",
    "\n",
    "Lets try using Text Embeddings in action with actual sample code."
   ]
  },
  {
   "cell_type": "markdown",
   "metadata": {
    "id": "AtXnXhF8U-8R"
   },
   "source": [
    "## Setup\n",
    "\n",
    "Before get started with the Vertex AI services, we need to setup the following.\n",
    "\n",
    "* Install Python SDK\n",
    "* Environment variables\n",
    "* Authentication (Colab only)\n",
    "* Enable APIs\n",
    "* Set IAM permissions"
   ]
  },
  {
   "cell_type": "markdown",
   "metadata": {
    "id": "UjnvWl6FLUlF"
   },
   "source": [
    "### Install Python SDK\n",
    "\n",
    "Vertex AI, Cloud Storage and BigQuery APIs can be accessed with multiple ways including REST API and Python SDK. In this tutorial we will use the SDK."
   ]
  },
  {
   "cell_type": "code",
   "execution_count": 1,
   "metadata": {
    "id": "FZgLGALt_al7",
    "tags": []
   },
   "outputs": [
    {
     "name": "stdout",
     "output_type": "stream",
     "text": [
      "Requirement already satisfied: google-cloud-aiplatform in /opt/conda/lib/python3.10/site-packages (1.102.0)\n",
      "Collecting google-cloud-aiplatform\n",
      "  Downloading google_cloud_aiplatform-1.103.0-py2.py3-none-any.whl.metadata (38 kB)\n",
      "Requirement already satisfied: google-cloud-storage in /opt/conda/lib/python3.10/site-packages (2.19.0)\n",
      "Collecting google-cloud-storage\n",
      "  Downloading google_cloud_storage-3.2.0-py3-none-any.whl.metadata (13 kB)\n",
      "Requirement already satisfied: google-cloud-bigquery[pandas] in /opt/conda/lib/python3.10/site-packages (3.34.0)\n",
      "Collecting google-cloud-bigquery[pandas]\n",
      "  Downloading google_cloud_bigquery-3.35.0-py3-none-any.whl.metadata (8.0 kB)\n",
      "Requirement already satisfied: google-api-core!=2.0.*,!=2.1.*,!=2.2.*,!=2.3.*,!=2.4.*,!=2.5.*,!=2.6.*,!=2.7.*,<3.0.0,>=1.34.1 in /opt/conda/lib/python3.10/site-packages (from google-api-core[grpc]!=2.0.*,!=2.1.*,!=2.2.*,!=2.3.*,!=2.4.*,!=2.5.*,!=2.6.*,!=2.7.*,<3.0.0,>=1.34.1->google-cloud-aiplatform) (2.25.1)\n",
      "Requirement already satisfied: google-auth<3.0.0,>=2.14.1 in /opt/conda/lib/python3.10/site-packages (from google-cloud-aiplatform) (2.40.3)\n",
      "Requirement already satisfied: proto-plus<2.0.0,>=1.22.3 in /opt/conda/lib/python3.10/site-packages (from google-cloud-aiplatform) (1.26.1)\n",
      "Requirement already satisfied: protobuf!=4.21.0,!=4.21.1,!=4.21.2,!=4.21.3,!=4.21.4,!=4.21.5,<7.0.0,>=3.20.2 in /opt/conda/lib/python3.10/site-packages (from google-cloud-aiplatform) (3.20.3)\n",
      "Requirement already satisfied: packaging>=14.3 in /opt/conda/lib/python3.10/site-packages (from google-cloud-aiplatform) (25.0)\n",
      "Requirement already satisfied: google-cloud-resource-manager<3.0.0,>=1.3.3 in /opt/conda/lib/python3.10/site-packages (from google-cloud-aiplatform) (1.14.2)\n",
      "Requirement already satisfied: shapely<3.0.0 in /opt/conda/lib/python3.10/site-packages (from google-cloud-aiplatform) (2.1.1)\n",
      "Requirement already satisfied: google-genai<2.0.0,>=1.0.0 in /opt/conda/lib/python3.10/site-packages (from google-cloud-aiplatform) (1.24.0)\n",
      "Requirement already satisfied: pydantic<3 in /opt/conda/lib/python3.10/site-packages (from google-cloud-aiplatform) (2.11.7)\n",
      "Requirement already satisfied: typing_extensions in /opt/conda/lib/python3.10/site-packages (from google-cloud-aiplatform) (4.14.1)\n",
      "Requirement already satisfied: docstring_parser<1 in /opt/conda/lib/python3.10/site-packages (from google-cloud-aiplatform) (0.16)\n",
      "Requirement already satisfied: google-cloud-core<3.0dev,>=2.3.0 in /opt/conda/lib/python3.10/site-packages (from google-cloud-storage) (2.4.3)\n",
      "Requirement already satisfied: google-resumable-media>=2.7.2 in /opt/conda/lib/python3.10/site-packages (from google-cloud-storage) (2.7.2)\n",
      "Requirement already satisfied: requests<3.0.0dev,>=2.18.0 in /opt/conda/lib/python3.10/site-packages (from google-cloud-storage) (2.32.4)\n",
      "Requirement already satisfied: google-crc32c<2.0dev,>=1.0 in /opt/conda/lib/python3.10/site-packages (from google-cloud-storage) (1.7.1)\n",
      "Requirement already satisfied: googleapis-common-protos<2.0.0,>=1.56.2 in /opt/conda/lib/python3.10/site-packages (from google-api-core!=2.0.*,!=2.1.*,!=2.2.*,!=2.3.*,!=2.4.*,!=2.5.*,!=2.6.*,!=2.7.*,<3.0.0,>=1.34.1->google-api-core[grpc]!=2.0.*,!=2.1.*,!=2.2.*,!=2.3.*,!=2.4.*,!=2.5.*,!=2.6.*,!=2.7.*,<3.0.0,>=1.34.1->google-cloud-aiplatform) (1.70.0)\n",
      "Requirement already satisfied: grpcio<2.0.0,>=1.33.2 in /opt/conda/lib/python3.10/site-packages (from google-api-core[grpc]!=2.0.*,!=2.1.*,!=2.2.*,!=2.3.*,!=2.4.*,!=2.5.*,!=2.6.*,!=2.7.*,<3.0.0,>=1.34.1->google-cloud-aiplatform) (1.73.1)\n",
      "Requirement already satisfied: grpcio-status<2.0.0,>=1.33.2 in /opt/conda/lib/python3.10/site-packages (from google-api-core[grpc]!=2.0.*,!=2.1.*,!=2.2.*,!=2.3.*,!=2.4.*,!=2.5.*,!=2.6.*,!=2.7.*,<3.0.0,>=1.34.1->google-cloud-aiplatform) (1.48.2)\n",
      "Requirement already satisfied: cachetools<6.0,>=2.0.0 in /opt/conda/lib/python3.10/site-packages (from google-auth<3.0.0,>=2.14.1->google-cloud-aiplatform) (5.5.2)\n",
      "Requirement already satisfied: pyasn1-modules>=0.2.1 in /opt/conda/lib/python3.10/site-packages (from google-auth<3.0.0,>=2.14.1->google-cloud-aiplatform) (0.4.2)\n",
      "Requirement already satisfied: rsa<5,>=3.1.4 in /opt/conda/lib/python3.10/site-packages (from google-auth<3.0.0,>=2.14.1->google-cloud-aiplatform) (4.9.1)\n",
      "Requirement already satisfied: python-dateutil<3.0.0,>=2.8.2 in /opt/conda/lib/python3.10/site-packages (from google-cloud-bigquery[pandas]) (2.9.0.post0)\n",
      "Requirement already satisfied: grpc-google-iam-v1<1.0.0,>=0.14.0 in /opt/conda/lib/python3.10/site-packages (from google-cloud-resource-manager<3.0.0,>=1.3.3->google-cloud-aiplatform) (0.14.2)\n",
      "Requirement already satisfied: anyio<5.0.0,>=4.8.0 in /opt/conda/lib/python3.10/site-packages (from google-genai<2.0.0,>=1.0.0->google-cloud-aiplatform) (4.9.0)\n",
      "Requirement already satisfied: httpx<1.0.0,>=0.28.1 in /opt/conda/lib/python3.10/site-packages (from google-genai<2.0.0,>=1.0.0->google-cloud-aiplatform) (0.28.1)\n",
      "Requirement already satisfied: tenacity<9.0.0,>=8.2.3 in /opt/conda/lib/python3.10/site-packages (from google-genai<2.0.0,>=1.0.0->google-cloud-aiplatform) (8.5.0)\n",
      "Requirement already satisfied: websockets<15.1.0,>=13.0.0 in /opt/conda/lib/python3.10/site-packages (from google-genai<2.0.0,>=1.0.0->google-cloud-aiplatform) (15.0.1)\n",
      "Requirement already satisfied: exceptiongroup>=1.0.2 in /opt/conda/lib/python3.10/site-packages (from anyio<5.0.0,>=4.8.0->google-genai<2.0.0,>=1.0.0->google-cloud-aiplatform) (1.3.0)\n",
      "Requirement already satisfied: idna>=2.8 in /opt/conda/lib/python3.10/site-packages (from anyio<5.0.0,>=4.8.0->google-genai<2.0.0,>=1.0.0->google-cloud-aiplatform) (3.10)\n",
      "Requirement already satisfied: sniffio>=1.1 in /opt/conda/lib/python3.10/site-packages (from anyio<5.0.0,>=4.8.0->google-genai<2.0.0,>=1.0.0->google-cloud-aiplatform) (1.3.1)\n",
      "Requirement already satisfied: certifi in /opt/conda/lib/python3.10/site-packages (from httpx<1.0.0,>=0.28.1->google-genai<2.0.0,>=1.0.0->google-cloud-aiplatform) (2025.6.15)\n",
      "Requirement already satisfied: httpcore==1.* in /opt/conda/lib/python3.10/site-packages (from httpx<1.0.0,>=0.28.1->google-genai<2.0.0,>=1.0.0->google-cloud-aiplatform) (1.0.9)\n",
      "Requirement already satisfied: h11>=0.16 in /opt/conda/lib/python3.10/site-packages (from httpcore==1.*->httpx<1.0.0,>=0.28.1->google-genai<2.0.0,>=1.0.0->google-cloud-aiplatform) (0.16.0)\n",
      "Requirement already satisfied: annotated-types>=0.6.0 in /opt/conda/lib/python3.10/site-packages (from pydantic<3->google-cloud-aiplatform) (0.7.0)\n",
      "Requirement already satisfied: pydantic-core==2.33.2 in /opt/conda/lib/python3.10/site-packages (from pydantic<3->google-cloud-aiplatform) (2.33.2)\n",
      "Requirement already satisfied: typing-inspection>=0.4.0 in /opt/conda/lib/python3.10/site-packages (from pydantic<3->google-cloud-aiplatform) (0.4.1)\n",
      "Requirement already satisfied: six>=1.5 in /opt/conda/lib/python3.10/site-packages (from python-dateutil<3.0.0,>=2.8.2->google-cloud-bigquery[pandas]) (1.17.0)\n",
      "Requirement already satisfied: charset_normalizer<4,>=2 in /opt/conda/lib/python3.10/site-packages (from requests<3.0.0dev,>=2.18.0->google-cloud-storage) (3.4.2)\n",
      "Requirement already satisfied: urllib3<3,>=1.21.1 in /opt/conda/lib/python3.10/site-packages (from requests<3.0.0dev,>=2.18.0->google-cloud-storage) (1.26.20)\n",
      "Requirement already satisfied: pyasn1>=0.1.3 in /opt/conda/lib/python3.10/site-packages (from rsa<5,>=3.1.4->google-auth<3.0.0,>=2.14.1->google-cloud-aiplatform) (0.6.1)\n",
      "Requirement already satisfied: numpy>=1.21 in /opt/conda/lib/python3.10/site-packages (from shapely<3.0.0->google-cloud-aiplatform) (2.1.3)\n",
      "Requirement already satisfied: pandas>=1.3.0 in /opt/conda/lib/python3.10/site-packages (from google-cloud-bigquery[pandas]) (2.3.1)\n",
      "Requirement already satisfied: pandas-gbq>=0.26.1 in /opt/conda/lib/python3.10/site-packages (from google-cloud-bigquery[pandas]) (0.29.1)\n",
      "Requirement already satisfied: pyarrow>=3.0.0 in /opt/conda/lib/python3.10/site-packages (from google-cloud-bigquery[pandas]) (20.0.0)\n",
      "Requirement already satisfied: db-dtypes<2.0.0,>=1.0.4 in /opt/conda/lib/python3.10/site-packages (from google-cloud-bigquery[pandas]) (1.4.3)\n",
      "Requirement already satisfied: pytz>=2020.1 in /opt/conda/lib/python3.10/site-packages (from pandas>=1.3.0->google-cloud-bigquery[pandas]) (2025.2)\n",
      "Requirement already satisfied: tzdata>=2022.7 in /opt/conda/lib/python3.10/site-packages (from pandas>=1.3.0->google-cloud-bigquery[pandas]) (2025.2)\n",
      "Requirement already satisfied: setuptools in /opt/conda/lib/python3.10/site-packages (from pandas-gbq>=0.26.1->google-cloud-bigquery[pandas]) (80.1.0)\n",
      "Requirement already satisfied: pydata-google-auth>=1.5.0 in /opt/conda/lib/python3.10/site-packages (from pandas-gbq>=0.26.1->google-cloud-bigquery[pandas]) (1.9.1)\n",
      "Requirement already satisfied: google-auth-oauthlib>=0.7.0 in /opt/conda/lib/python3.10/site-packages (from pandas-gbq>=0.26.1->google-cloud-bigquery[pandas]) (1.2.2)\n",
      "Requirement already satisfied: requests-oauthlib>=0.7.0 in /opt/conda/lib/python3.10/site-packages (from google-auth-oauthlib>=0.7.0->pandas-gbq>=0.26.1->google-cloud-bigquery[pandas]) (2.0.0)\n",
      "Requirement already satisfied: oauthlib>=3.0.0 in /opt/conda/lib/python3.10/site-packages (from requests-oauthlib>=0.7.0->google-auth-oauthlib>=0.7.0->pandas-gbq>=0.26.1->google-cloud-bigquery[pandas]) (3.3.1)\n",
      "Downloading google_cloud_aiplatform-1.103.0-py2.py3-none-any.whl (7.9 MB)\n",
      "\u001b[2K   \u001b[90m━━━━━━━━━━━━━━━━━━━━━━━━━━━━━━━━━━━━━━━━\u001b[0m \u001b[32m7.9/7.9 MB\u001b[0m \u001b[31m15.2 MB/s\u001b[0m eta \u001b[36m0:00:00\u001b[0ma \u001b[36m0:00:01\u001b[0m\n",
      "\u001b[?25hDownloading google_cloud_bigquery-3.35.0-py3-none-any.whl (256 kB)\n",
      "Installing collected packages: google-cloud-bigquery, google-cloud-aiplatform\n",
      "\u001b[2K   \u001b[91m━━━━━━━━━━━━━━━━━━━━\u001b[0m\u001b[90m╺\u001b[0m\u001b[90m━━━━━━━━━━━━━━━━━━━\u001b[0m \u001b[32m1/2\u001b[0m [google-cloud-aiplatform]\u001b[33m  WARNING: The script tb-gcp-uploader is installed in '/home/jupyter/.local/bin' which is not on PATH.\n",
      "  Consider adding this directory to PATH or, if you prefer to suppress this warning, use --no-warn-script-location.\u001b[0m\u001b[33m\n",
      "\u001b[2K   \u001b[90m━━━━━━━━━━━━━━━━━━━━━━━━━━━━━━━━━━━━━━━━\u001b[0m \u001b[32m2/2\u001b[0m [google-cloud-aiplatform]-cloud-aiplatform]\n",
      "\u001b[1A\u001b[2KSuccessfully installed google-cloud-aiplatform-1.103.0 google-cloud-bigquery-3.35.0\n",
      "Note: you may need to restart the kernel to use updated packages.\n"
     ]
    }
   ],
   "source": [
    "%pip install --upgrade --user google-cloud-aiplatform google-cloud-storage 'google-cloud-bigquery[pandas]'"
   ]
  },
  {
   "cell_type": "markdown",
   "metadata": {
    "id": "R5Xep4W9lq-Z"
   },
   "source": [
    "### Restart current runtime\n",
    "\n",
    "To use the newly installed packages in this Jupyter runtime, you must restart the runtime. You can do this by running the cell below, which will restart the current kernel."
   ]
  },
  {
   "cell_type": "code",
   "execution_count": 2,
   "metadata": {
    "id": "XRvKdaPDTznN",
    "tags": []
   },
   "outputs": [
    {
     "data": {
      "text/plain": [
       "{'status': 'ok', 'restart': True}"
      ]
     },
     "execution_count": 2,
     "metadata": {},
     "output_type": "execute_result"
    }
   ],
   "source": [
    "# Restart kernel after installs so that your environment can access the new packages\n",
    "import IPython\n",
    "\n",
    "app = IPython.Application.instance()\n",
    "app.kernel.do_shutdown(True)"
   ]
  },
  {
   "cell_type": "markdown",
   "metadata": {
    "id": "SbmM4z7FOBpM"
   },
   "source": [
    "<div class=\"alert alert-block alert-warning\">\n",
    "<b>⚠️ The kernel is going to restart. Please wait until it is finished before continuing to the next step. ⚠️</b>\n",
    "</div>\n"
   ]
  },
  {
   "cell_type": "markdown",
   "metadata": {
    "id": "nCoTvkOJoh76"
   },
   "source": [
    "### Environment variables\n",
    "\n",
    "Sets environment variables. If asked, please replace the following `[your-project-id]` with your project ID and run it."
   ]
  },
  {
   "cell_type": "code",
   "execution_count": 1,
   "metadata": {
    "id": "fkmvFRrj3nQI",
    "tags": []
   },
   "outputs": [],
   "source": [
    "# get project ID\n",
    "PROJECT_ID = ! gcloud config get project\n",
    "PROJECT_ID = PROJECT_ID[0]\n",
    "LOCATION = \"us-east4\"\n",
    "if PROJECT_ID == \"(unset)\":\n",
    "    print(f\"Please set the project ID manually below\")"
   ]
  },
  {
   "cell_type": "code",
   "execution_count": 2,
   "metadata": {
    "id": "69XJ95rNoYG9",
    "tags": []
   },
   "outputs": [],
   "source": [
    "# define project information\n",
    "if PROJECT_ID == \"(unset)\":\n",
    "    PROJECT_ID = \"[your-project-id]\"  # @param {type:\"string\"}\n",
    "\n",
    "# generate an unique id for this session\n",
    "from datetime import datetime\n",
    "\n",
    "UID = datetime.now().strftime(\"%m%d%H%M\")"
   ]
  },
  {
   "cell_type": "markdown",
   "metadata": {
    "id": "ph7mDSMRVTIZ"
   },
   "source": [
    "### Authentication (Colab only)\n",
    "\n",
    "If you are running this notebook on Colab, you will need to run the following cell authentication. This step is not required if you are using Vertex AI Workbench as it is pre-authenticated."
   ]
  },
  {
   "cell_type": "code",
   "execution_count": 3,
   "metadata": {
    "id": "5jQkFtlimNXR",
    "tags": []
   },
   "outputs": [],
   "source": [
    "import sys\n",
    "\n",
    "# if it's Colab runtime, authenticate the user with Google Cloud\n",
    "if \"google.colab\" in sys.modules:\n",
    "    from google.colab import auth\n",
    "\n",
    "    auth.authenticate_user()"
   ]
  },
  {
   "cell_type": "markdown",
   "metadata": {
    "id": "jUPbl4IFLmC2"
   },
   "source": [
    "### Enable APIs\n",
    "\n",
    "Run the following to enable APIs for Compute Engine, Vertex AI, Cloud Storage and BigQuery with this Google Cloud project."
   ]
  },
  {
   "cell_type": "code",
   "execution_count": 4,
   "metadata": {
    "id": "qGf0qMMQNond",
    "tags": []
   },
   "outputs": [
    {
     "name": "stdout",
     "output_type": "stream",
     "text": [
      "Operation \"operations/acat.p2-395938983897-483f8325-a1ec-444a-a4cd-6d7f0d258f5f\" finished successfully.\n"
     ]
    }
   ],
   "source": [
    "! gcloud services enable compute.googleapis.com aiplatform.googleapis.com storage.googleapis.com bigquery.googleapis.com --project {PROJECT_ID}"
   ]
  },
  {
   "cell_type": "markdown",
   "metadata": {
    "id": "8cF8rkN3Lnhq"
   },
   "source": [
    "### Set IAM permissions\n",
    "\n",
    "Also, we need to add access permissions to the default service account for using those services.\n",
    "\n",
    "- Go to [the IAM page](https://console.cloud.google.com/iam-admin/) in the Console\n",
    "- Look for the principal for default compute service account. It should look like: `<project-number>-compute@developer.gserviceaccount.com`\n",
    "- Click the edit button at right and click `ADD ANOTHER ROLE` to add `Vertex AI User`, `BigQuery User` and `Storage Admin` to the account.\n",
    "\n",
    "This will look like this:\n",
    "\n",
    "![](https://storage.googleapis.com/github-repo/img/embeddings/vs-quickstart/iam-setting.png)"
   ]
  },
  {
   "cell_type": "markdown",
   "metadata": {
    "id": "mahCxLXHMIls"
   },
   "source": [
    "## Getting Started with Vertex AI Embeddings for Text\n",
    "\n",
    "Now it's ready to get started with embeddings!"
   ]
  },
  {
   "cell_type": "markdown",
   "metadata": {
    "id": "rq07_-o0VoZD"
   },
   "source": [
    "### Data Preparation\n",
    "\n",
    "We will be using [the Stack Overflow public dataset](https://console.cloud.google.com/marketplace/product/stack-exchange/stack-overflow) hosted on BigQuery table `bigquery-public-data.stackoverflow.posts_questions`. This is a very big dataset with 23 million rows that doesn't fit into the memory. We are going to limit it to 1000 rows for this tutorial."
   ]
  },
  {
   "cell_type": "code",
   "execution_count": 5,
   "metadata": {
    "id": "snrzPsEQDH4S",
    "tags": []
   },
   "outputs": [
    {
     "data": {
      "text/html": [
       "<div>\n",
       "<style scoped>\n",
       "    .dataframe tbody tr th:only-of-type {\n",
       "        vertical-align: middle;\n",
       "    }\n",
       "\n",
       "    .dataframe tbody tr th {\n",
       "        vertical-align: top;\n",
       "    }\n",
       "\n",
       "    .dataframe thead th {\n",
       "        text-align: right;\n",
       "    }\n",
       "</style>\n",
       "<table border=\"1\" class=\"dataframe\">\n",
       "  <thead>\n",
       "    <tr style=\"text-align: right;\">\n",
       "      <th></th>\n",
       "      <th>id</th>\n",
       "      <th>title</th>\n",
       "    </tr>\n",
       "  </thead>\n",
       "  <tbody>\n",
       "    <tr>\n",
       "      <th>0</th>\n",
       "      <td>73607722</td>\n",
       "      <td>{{#item.0}} checks appearing on the stack</td>\n",
       "    </tr>\n",
       "    <tr>\n",
       "      <th>1</th>\n",
       "      <td>73842276</td>\n",
       "      <td>How to for_each and then count them in Rust?</td>\n",
       "    </tr>\n",
       "    <tr>\n",
       "      <th>2</th>\n",
       "      <td>73541211</td>\n",
       "      <td>When trying to write points3D from COLMAP docu...</td>\n",
       "    </tr>\n",
       "    <tr>\n",
       "      <th>3</th>\n",
       "      <td>73563705</td>\n",
       "      <td>accessing AWS ELB from iframe getting Mixed Co...</td>\n",
       "    </tr>\n",
       "    <tr>\n",
       "      <th>4</th>\n",
       "      <td>73640065</td>\n",
       "      <td>Android Studio:- The Music is changing after a...</td>\n",
       "    </tr>\n",
       "  </tbody>\n",
       "</table>\n",
       "</div>"
      ],
      "text/plain": [
       "         id                                              title\n",
       "0  73607722          {{#item.0}} checks appearing on the stack\n",
       "1  73842276       How to for_each and then count them in Rust?\n",
       "2  73541211  When trying to write points3D from COLMAP docu...\n",
       "3  73563705  accessing AWS ELB from iframe getting Mixed Co...\n",
       "4  73640065  Android Studio:- The Music is changing after a..."
      ]
     },
     "execution_count": 5,
     "metadata": {},
     "output_type": "execute_result"
    }
   ],
   "source": [
    "# load the BQ Table into a Pandas DataFrame\n",
    "from google.cloud import bigquery\n",
    "\n",
    "QUESTIONS_SIZE = 1000\n",
    "\n",
    "bq_client = bigquery.Client(project=PROJECT_ID)\n",
    "QUERY_TEMPLATE = \"\"\"\n",
    "        SELECT distinct q.id, q.title\n",
    "        FROM (SELECT * FROM `bigquery-public-data.stackoverflow.posts_questions`\n",
    "        where Score > 0 ORDER BY View_Count desc) AS q\n",
    "        LIMIT {limit} ;\n",
    "        \"\"\"\n",
    "query = QUERY_TEMPLATE.format(limit=QUESTIONS_SIZE)\n",
    "query_job = bq_client.query(query)\n",
    "rows = query_job.result()\n",
    "df = rows.to_dataframe()\n",
    "\n",
    "# examine the data\n",
    "df.head()"
   ]
  },
  {
   "cell_type": "markdown",
   "metadata": {
    "id": "j6022U1FWzpb"
   },
   "source": [
    "### Call the API to generate embeddings\n",
    "\n",
    "With the Stack Overflow dataset, we will use the `title` column (the question title) and generate embedding for it with Embeddings for Text API. The API is available under the [vertexai](https://cloud.google.com/python/docs/reference/aiplatform/latest/vertexai) package of the SDK.\n",
    "\n",
    "You may see some warning messages from the TensorFlow library but you can ignore them."
   ]
  },
  {
   "cell_type": "code",
   "execution_count": 6,
   "metadata": {
    "id": "pY8M4DqO8wGx",
    "tags": []
   },
   "outputs": [],
   "source": [
    "# init the vertexai package\n",
    "import vertexai\n",
    "\n",
    "vertexai.init(project=PROJECT_ID, location=LOCATION)"
   ]
  },
  {
   "cell_type": "markdown",
   "metadata": {
    "id": "jrG82n-y-EC5"
   },
   "source": [
    "From the package, import [TextEmbeddingModel](https://cloud.google.com/python/docs/reference/aiplatform/latest/vertexai.language_models.TextEmbeddingModel) and get a model."
   ]
  },
  {
   "cell_type": "code",
   "execution_count": 7,
   "metadata": {
    "id": "YVLHjSeOGoTu",
    "tags": []
   },
   "outputs": [
    {
     "name": "stderr",
     "output_type": "stream",
     "text": [
      "/home/jupyter/.local/lib/python3.10/site-packages/vertexai/_model_garden/_model_garden_models.py:278: UserWarning: This feature is deprecated as of June 24, 2025 and will be removed on June 24, 2026. For details, see https://cloud.google.com/vertex-ai/generative-ai/docs/deprecations/genai-vertexai-sdk.\n",
      "  warning_logs.show_deprecation_warning()\n"
     ]
    }
   ],
   "source": [
    "# Load the text embeddings model\n",
    "from vertexai.language_models import TextEmbeddingModel\n",
    "\n",
    "model = TextEmbeddingModel.from_pretrained(\"text-embedding-004\")"
   ]
  },
  {
   "cell_type": "markdown",
   "metadata": {
    "id": "FqdVsgZDb_hc"
   },
   "source": [
    "In this tutorial we will use `text-embedding-004` model for getting text embeddings. Please take a look at [Supported models](https://cloud.google.com/vertex-ai/docs/generative-ai/embeddings/get-text-embeddings#supported_models) on the doc to see the list of supported models.\n",
    "\n",
    "Once you get the model, you can call its [get_embeddings](https://cloud.google.com/python/docs/reference/aiplatform/latest/vertexai.language_models.TextEmbeddingModel#vertexai_language_models_TextEmbeddingModel_get_embeddings) function to get embeddings. You can pass up to 5 texts at once in a call. But there is a caveat. By default, the text embeddings API has a \"request per minute\" quota set to 60 for new Cloud projects and 600 for projects with usage history (see [Quotas and limits](https://cloud.google.com/vertex-ai/docs/quotas#request_quotas) to check the latest quota value for `base_model:textembedding-gecko`). So, rather than using the function directly, you may want to define a wrapper like below to limit under 10 calls per second, and pass 5 texts each time."
   ]
  },
  {
   "cell_type": "code",
   "execution_count": 8,
   "metadata": {
    "id": "8HUb9u_P2VWW",
    "tags": []
   },
   "outputs": [],
   "source": [
    "import time\n",
    "\n",
    "import tqdm  # to show a progress bar\n",
    "\n",
    "# get embeddings for a list of texts\n",
    "BATCH_SIZE = 5\n",
    "\n",
    "\n",
    "def get_embeddings_wrapper(texts):\n",
    "    embs = []\n",
    "    for i in tqdm.tqdm(range(0, len(texts), BATCH_SIZE)):\n",
    "        time.sleep(1)  # to avoid the quota error\n",
    "        result = model.get_embeddings(texts[i : i + BATCH_SIZE])\n",
    "        embs = embs + [e.values for e in result]\n",
    "    return embs"
   ]
  },
  {
   "cell_type": "markdown",
   "metadata": {
    "id": "aK4eTSPfcEuh"
   },
   "source": [
    "The following code will get embedding for the question titles and add them as a new column `embedding` to the DataFrame. This will take a few minutes."
   ]
  },
  {
   "cell_type": "code",
   "execution_count": 9,
   "metadata": {
    "id": "FcqPvu4PluN1",
    "tags": []
   },
   "outputs": [
    {
     "name": "stderr",
     "output_type": "stream",
     "text": [
      "100%|██████████| 200/200 [03:47<00:00,  1.14s/it]\n"
     ]
    },
    {
     "data": {
      "text/html": [
       "<div>\n",
       "<style scoped>\n",
       "    .dataframe tbody tr th:only-of-type {\n",
       "        vertical-align: middle;\n",
       "    }\n",
       "\n",
       "    .dataframe tbody tr th {\n",
       "        vertical-align: top;\n",
       "    }\n",
       "\n",
       "    .dataframe thead th {\n",
       "        text-align: right;\n",
       "    }\n",
       "</style>\n",
       "<table border=\"1\" class=\"dataframe\">\n",
       "  <thead>\n",
       "    <tr style=\"text-align: right;\">\n",
       "      <th></th>\n",
       "      <th>id</th>\n",
       "      <th>title</th>\n",
       "      <th>embedding</th>\n",
       "    </tr>\n",
       "  </thead>\n",
       "  <tbody>\n",
       "    <tr>\n",
       "      <th>0</th>\n",
       "      <td>73607722</td>\n",
       "      <td>{{#item.0}} checks appearing on the stack</td>\n",
       "      <td>[0.06053321808576584, -0.0023219664581120014, ...</td>\n",
       "    </tr>\n",
       "    <tr>\n",
       "      <th>1</th>\n",
       "      <td>73842276</td>\n",
       "      <td>How to for_each and then count them in Rust?</td>\n",
       "      <td>[0.058578167110681534, 0.022356826812028885, -...</td>\n",
       "    </tr>\n",
       "    <tr>\n",
       "      <th>2</th>\n",
       "      <td>73541211</td>\n",
       "      <td>When trying to write points3D from COLMAP docu...</td>\n",
       "      <td>[0.011789035052061081, -0.010991251096129417, ...</td>\n",
       "    </tr>\n",
       "    <tr>\n",
       "      <th>3</th>\n",
       "      <td>73563705</td>\n",
       "      <td>accessing AWS ELB from iframe getting Mixed Co...</td>\n",
       "      <td>[0.014551134780049324, -0.04299119487404823, -...</td>\n",
       "    </tr>\n",
       "    <tr>\n",
       "      <th>4</th>\n",
       "      <td>73640065</td>\n",
       "      <td>Android Studio:- The Music is changing after a...</td>\n",
       "      <td>[0.00821442436426878, -0.005262169521301985, -...</td>\n",
       "    </tr>\n",
       "  </tbody>\n",
       "</table>\n",
       "</div>"
      ],
      "text/plain": [
       "         id                                              title  \\\n",
       "0  73607722          {{#item.0}} checks appearing on the stack   \n",
       "1  73842276       How to for_each and then count them in Rust?   \n",
       "2  73541211  When trying to write points3D from COLMAP docu...   \n",
       "3  73563705  accessing AWS ELB from iframe getting Mixed Co...   \n",
       "4  73640065  Android Studio:- The Music is changing after a...   \n",
       "\n",
       "                                           embedding  \n",
       "0  [0.06053321808576584, -0.0023219664581120014, ...  \n",
       "1  [0.058578167110681534, 0.022356826812028885, -...  \n",
       "2  [0.011789035052061081, -0.010991251096129417, ...  \n",
       "3  [0.014551134780049324, -0.04299119487404823, -...  \n",
       "4  [0.00821442436426878, -0.005262169521301985, -...  "
      ]
     },
     "execution_count": 9,
     "metadata": {},
     "output_type": "execute_result"
    }
   ],
   "source": [
    "# get embeddings for the question titles and add them as \"embedding\" column\n",
    "df = df.assign(embedding=get_embeddings_wrapper(list(df.title)))\n",
    "df.head()"
   ]
  },
  {
   "cell_type": "markdown",
   "metadata": {
    "id": "nB53SiJjVN6e"
   },
   "source": [
    "## Look at the embedding similarities\n",
    "\n",
    "Let's see how these embeddings are organized in the embedding space with their meanings by quickly calculating the similarities between them and sorting them.\n",
    "\n",
    "As embeddings are vectors, you can calculate similarity between two embeddings by using one of the popular metrics like the followings:\n",
    "\n",
    "![](https://storage.googleapis.com/github-repo/img/embeddings/textemb-vs-notebook/8.png)\n",
    "\n",
    "Which metric should we use? Usually it depends on how each model is trained. In case of the model `text-embedding-004`, we need to use inner product (dot product).\n",
    "\n",
    "In the following code, it picks up one question randomly and uses the numpy `np.dot` function to calculate the similarities between the question and other questions."
   ]
  },
  {
   "cell_type": "code",
   "execution_count": 10,
   "metadata": {
    "id": "lKs6jSu7NiM6",
    "tags": []
   },
   "outputs": [
    {
     "data": {
      "text/plain": [
       "array([0.28063566, 0.19035092, 0.25563388, 0.45918843, 0.24963911])"
      ]
     },
     "execution_count": 10,
     "metadata": {},
     "output_type": "execute_result"
    }
   ],
   "source": [
    "import random\n",
    "\n",
    "import numpy as np\n",
    "\n",
    "# pick one of them as a key question\n",
    "key = random.randint(0, len(df))\n",
    "\n",
    "# calc dot product between the key and other questions\n",
    "embs = np.array(df.embedding.to_list())\n",
    "similarities = np.dot(embs[key], embs.T)\n",
    "\n",
    "# print similarities for the first 5 questions\n",
    "similarities[:5]"
   ]
  },
  {
   "cell_type": "markdown",
   "metadata": {
    "id": "srM04lJBQp4w"
   },
   "source": [
    "Finally, sort the questions with the similarities and print the list."
   ]
  },
  {
   "cell_type": "code",
   "execution_count": 11,
   "metadata": {
    "id": "lTUVvj9FQlab",
    "tags": []
   },
   "outputs": [
    {
     "name": "stdout",
     "output_type": "stream",
     "text": [
      "Key question: apiplatform mercure start not work : https://caddy \"SSL certificate problem\"\n",
      "\n",
      "1.0000 apiplatform mercure start not work : https://caddy \"SSL certificate problem\"\n",
      "0.5088 what's wrong with my nginx reverse proxy configuration?\n",
      "0.5060 aws ec2 with nodejs app curl error 7 failed to connect to host port 5000\n",
      "0.5013 Hostname/IP does not match certificate's altnames: Host: www.metaverseswapping.com. is not in the cert's altnames: DNS:metaverseswapping.com\n",
      "0.4895 connect() failed (111: Connection refused) while connecting to upstream) NGINX, Gunicorn when running Flask App\n",
      "0.4889 Using KOR Connect to hide API-Key, sends Error \"Request failed with status code 401\" when using API, what is wrong?\n",
      "0.4851 Aws EC2 : Can we use aws certificate for generateServiceProviderMetadata method saml\n",
      "0.4849 Unable to connect to PhpMyAdmin on Azure App Service\n",
      "0.4826 Using a client certificate in nginx subrequest with lua\n",
      "0.4779 Unable to create a Connection with Jira - JiraRestClient\n",
      "0.4704 Invalid request URL - Notion client for python\n",
      "0.4683 Get the curl command for each api endpoint defined in swagger.yaml file\n",
      "0.4623 TypeError: 'application/json' is not a valid JavaScript MIME type\n",
      "0.4592 accessing AWS ELB from iframe getting Mixed Content\n",
      "0.4589 python requests not able to get the bearer token\n",
      "0.4555 Not able to connect to sybase DB over TLS 1.2 using jConnect JDBC driver\n",
      "0.4521 Swagger giving Duplicate key class parameter error in Spring Boot for same Endpoints\n",
      "0.4500 dev_appserver.py BadArgumentError: app must not be empty\n",
      "0.4491 Azure SignalR on .Net Core Web API and Angular 12 facing 401 Unauthorized Error\n",
      "0.4488 Hosting Angular 11 with SSR in IIS and error Error: Cannot find module\n"
     ]
    }
   ],
   "source": [
    "# print the question\n",
    "print(f\"Key question: {df.title[key]}\\n\")\n",
    "\n",
    "# sort and print the questions by similarities\n",
    "sorted_questions = sorted(\n",
    "    zip(df.title, similarities), key=lambda x: x[1], reverse=True\n",
    ")[:20]\n",
    "for i, (question, similarity) in enumerate(sorted_questions):\n",
    "    print(f\"{similarity:.4f} {question}\")"
   ]
  },
  {
   "cell_type": "markdown",
   "metadata": {
    "id": "S75SQzAg1wHV"
   },
   "source": [
    "# Find embeddings fast with Vertex AI Vector Search\n",
    "\n",
    "As we have explained above, you can find similar embeddings by calculating the distance or similarity between the embeddings.\n",
    "\n",
    "But this isn't easy when you have millions or billions of embeddings. For example, if you have 1 million embeddings with 768 dimensions, you need to repeat the distance calculations for 1 million x 768 times. This would take some seconds - too slow."
   ]
  },
  {
   "cell_type": "markdown",
   "metadata": {
    "id": "0sjhTy-a47YH"
   },
   "source": [
    "So the researchers have been studying a technique called [Approximate Nearest Neighbor (ANN)](https://en.wikipedia.org/wiki/Nearest_neighbor_search) for faster search. ANN uses \"vector quantization\" for separating the space into multiple spaces with a tree structure. This is similar to the index in relational databases for improving the query performance, enabling very fast and scalable search with billions of embeddings.\n",
    "\n",
    "With the rise of LLMs, the ANN is getting popular quite rapidly, known as the Vector Search technology.\n",
    "\n",
    "![](https://storage.googleapis.com/gweb-cloudblog-publish/images/7._ANN.1143068821171228.max-2200x2200.png)\n",
    "\n",
    "In 2020, Google Research published a new ANN algorithm called [ScaNN](https://ai.googleblog.com/2020/07/announcing-scann-efficient-vector.html). It is considered one of the best ANN algorithms in the industry, also the most important foundation for search and recommendation in major Google services such as Google Search, YouTube and many others.\n"
   ]
  },
  {
   "cell_type": "markdown",
   "metadata": {
    "id": "xVOL8BgM2isz"
   },
   "source": [
    "## What is Vertex AI Vector Search?\n",
    "\n",
    "Google Cloud developers can take the full advantage of Google's vector search technology with [Vertex AI Vector Search](https://cloud.google.com/vertex-ai/docs/vector-search/overview) (previously called Matching Engine). With this fully managed service, developers can just add the embeddings to its index and issue a search query with a key embedding for the blazingly fast vector search. In the case of the Stack Overflow demo, Vector Search can find relevant questions from 8 million embeddings in tens of milliseconds.\n",
    "\n",
    "![](https://storage.googleapis.com/github-repo/img/embeddings/textemb-vs-notebook/9.png)\n",
    "\n",
    "With Vector Search, you don't need to spend much time and money building your own vector search service from scratch or using open source tools if your goal is high scalability, availability and maintainability for production systems."
   ]
  },
  {
   "cell_type": "markdown",
   "metadata": {
    "id": "uBt8tjidSzyU"
   },
   "source": [
    "## Get Started with Vector Search\n",
    "\n",
    "When you already have the embeddings, then getting started with Vector Search is pretty easy. In this section, we will follow the steps below.\n",
    "\n",
    "### Setting up Vector Search\n",
    "- Save the embeddings in JSON files on Cloud Storage\n",
    "- Build an Index\n",
    "- Create an Index Endpoint\n",
    "- Deploy the Index to the endpoint\n",
    "\n",
    "### Use Vector Search\n",
    "\n",
    "- Query with the endpoint\n",
    "\n",
    "### **Tip for Colab users**\n",
    "\n",
    "If you use Colab for this tutorial, you may lose your runtime while you are waiting for the Index building and deployment in the later sections as it takes tens of minutes. In that case, run the following sections again with the new instance to recover the runtime: [Install Python SDK, Environment variables and Authentication](https://colab.research.google.com/drive/1xJhLFEyPqW0qvKiERD6aYgeTHa6_U50N?resourcekey=0-2qUkxckCjt6W03AsqvZHhw#scrollTo=AtXnXhF8U-8R&line=9&uniqifier=1).\n",
    "\n",
    "Then, use the [Utilities](https://colab.research.google.com/drive/1xJhLFEyPqW0qvKiERD6aYgeTHa6_U50N?resourcekey=0-2qUkxckCjt6W03AsqvZHhw#scrollTo=BE1tELsH-u8N&line=1&uniqifier=1) to recover the Index and Index Endpoint and continue with the rest."
   ]
  },
  {
   "cell_type": "markdown",
   "metadata": {
    "id": "6pu1a3zjfQ0D"
   },
   "source": [
    "### Save the embeddings in a JSON file\n",
    "To load the embeddings to Vector Search, we need to save them in JSON files with JSONL format. See more information in the docs at [Input data format and structure](https://cloud.google.com/vertex-ai/docs/matching-engine/match-eng-setup/format-structure#data-file-formats).\n",
    "\n",
    "First, export the `id` and `embedding` columns from the DataFrame in JSONL format, and save it."
   ]
  },
  {
   "cell_type": "code",
   "execution_count": 12,
   "metadata": {
    "id": "GzZ30d4j_uLU",
    "tags": []
   },
   "outputs": [
    {
     "name": "stdout",
     "output_type": "stream",
     "text": [
      "{\"id\":73607722,\"embedding\":[0.0605332181,-0.0023219665,-0.0445142649,0.0269319974,0.0259574708,0.0266632494,0.0784834251,0.0248659253,0.0217525493,0.0294676088,-0.0009198302,0.0257236175,-0.0252302047,0.0362271294,-0.0261273254,-0.0260155275,0.0617164411,-0.0283037871,-0.0044369265,-0.0197408479,-0.0631191209,0.0084462212,-0.0020222943,0.039667055,-0.0006737927,-0.0357912667,0.0481317975,-0.0106980205,-0.0535726361,-0.0202678759,0.0249687061,0.0277115311,-0.0081773009,-0.0296471566,0.0293612368,0.0117131155,-0.08393085,0.061763946,0.0264083128,-0.0092363451,-0.0394654535,0.0530721061,0.0326441415,-0.0218343772,0.0257816203,0.0186641254,0.0431991629,-0.0206880849,-0.0189506672,0.0294222757,0.0484100208,-0.037829984,-0.0293186028,0.0200674683,-0.0542809181,-0.0322178677,0.0088478364,0.0232095476,0.0042992374,-0.0215105675,0.0329913571,0.0224194974,-0.030733414,-0.0748923868,-0.0111338133,0.0251387786,-0.0340222232,-0.0001367792,-0.0507072881,0.0408366546,-0.0624383353,0.0531646498,-0.0348987728,-0.0549891219,0.0271735638,-0.0008974898,-0.0077291331,0.0525325127,0.0096306605,0.0382408351,0.0110668438,0.0091052186,0.0279518347,0.0132223591,0.0620215759,0.0517297499,0.0166200027,-0.0089762211,0.0049332515,-0.0039837225,0.0565704852,-0.0082309395,0.0330212303,0.0250880178,0.0847525075,-0.0506851971,-0.0675679743,-0.0557738952,0.0410923995,0.0358232036,-0.0425617769,0.004957791,-0.0227641277,-0.0751542002,0.0132236071,-0.011337637,-0.0675896108,0.0167081039,-0.0826293007,0.007023551,0.0156436302,-0.0258581601,0.0207303893,-0.008992834,-0.0507087745,-0.0483360961,0.0513402745,0.0283134654,-0.0195131693,-0.0192987621,0.0403537713,0.0245734081,-0.0393676534,-0.0254160017,0.034136463,0.003178749,-0.0579591095,0.0197916739,-0.0254129227,-0.0117126619,-0.0112467706,-0.0459853262,-0.0142147858,0.0162388403,-0.0247965008,-0.0273611937,-0.064003177,-0.0397069678,-0.018031273,0.0971946344,-0.00658926,-0.0216205083,-0.0841322318,-0.0067293323,0.0014629591,-0.026946675,0.0171791017,0.081047453,0.0318687856,-0.0247948933,-0.058598686,-0.0125301313,0.0173016842,0.0335716382,-0.0387198329,-0.0267571062,0.012927169,-0.0195162222,0.0565513596,0.0104286699,-0.012274934,-0.0677410737,0.0232959893,-0.0078386432,-0.0104382979,-0.0451282896,-0.0517873242,-0.0293741431,0.0441878885,0.0378221907,-0.0298271049,-0.0309304651,0.0278757382,0.0003830078,0.0188546497,0.0109467059,0.0338363238,-0.0553146973,-0.0220479257,-0.0185669325,0.0370985195,0.0455510467,0.005926698,-0.0235946812,0.0234301016,0.0387241095,0.0210581627,-0.007541527,0.075951755,0.0715220049,0.0276474115,0.0433504134,0.0033953441,0.074283421,0.0207199603,0.031770952,0.0284966324,-0.0252210256,0.0083082998,-0.0764593184,0.0371772014,-0.0024852108,-0.0030730453,0.0143336607,-0.0421958566,-0.0176212247,-0.0555910878,-0.0281669069,0.0090665873,-0.0075489297,-0.0136097828,-0.021674443,-0.0203524828,-0.0357821882,0.0398286022,-0.0058202846,0.0485566556,0.0013066931,0.0228086617,-0.0128009496,-0.0178619437,0.0672687367,0.028380692,0.0465193987,0.0124343764,0.0065518566,-0.0479819439,-0.0020487967,0.0368380956,-0.0292055551,0.0098936129,0.0375760868,-0.0116769085,-0.0097405026,-0.0377367996,0.014616169,0.0101189595,-0.1158927828,-0.0526634455,0.0570045747,-0.0094513036,0.0264523681,-0.020857567,-0.0001200742,0.047267545,-0.0391213074,0.0863284022,-0.0361295566,0.0191052519,-0.0521230213,-0.0066906908,-0.0271602459,-0.039309673,-0.0213883352,-0.0369100086,0.0180273447,0.0910367593,-0.0407167487,0.0116659328,0.0116703771,0.0262462273,-0.0452729613,0.0515353158,-0.0600251444,0.0102383783,-0.0054089422,0.0256477185,-0.0104833469,0.015118462,-0.0178662464,0.0207668506,-0.0196020044,-0.0267128851,-0.0247200299,-0.0344594307,0.0231346358,-0.0263053682,0.0097589465,-0.0064653913,-0.0097128171,0.0293674972,-0.0379356854,0.0813423768,0.0059547964,-0.0331603959,-0.0107947467,0.0068426547,0.055638589,-0.0548916571,0.0156180328,0.0722307935,0.0367377102,0.0165947452,0.0284155291,0.0258131754,0.050115969,0.0481375568,-0.0061449436,0.0391773544,-0.067407988,0.0763637573,-0.0004550322,0.0199827347,0.0045672031,0.0467374101,-0.0095220618,0.0191273578,-0.0339702293,-0.0274902023,-0.0399101786,-0.0033902128,-0.0253628138,-0.0006947091,-0.0413744487,-0.0332793817,0.016119346,-0.1747791022,-0.0255686361,-0.0482818559,0.0375180393,0.0032101581,0.0192715973,-0.0517475605,-0.0348845422,-0.0137015469,0.0152477911,0.0160356648,0.0285838246,-0.0061112344,0.0037582803,0.0574894287,0.0061167325,-0.0129924966,-0.0098476755,0.0162963849,0.070727177,-0.0342450179,0.008501594,0.0414504372,0.073980622,0.0374550968,0.035307087,0.0307841636,0.0358329639,-0.0259525757,0.0010314696,0.0004758216,0.0072850385,0.0116516044,0.0407664813,0.0148485862,-0.0225491971,0.0412373357,0.0007512717,-0.0353585444,0.0243729781,0.0266167391,-0.0183337331,0.0157833751,-0.0001469416,-0.0223506317,-0.0052817729,-0.027565226,0.0312953368,-0.0039236257,-0.011022863,0.0149439909,0.0196814295,-0.0015247525,-0.0210749116,-0.0437498838,-0.0270685311,-0.0682771653,0.0320362076,0.0076956959,-0.0263123233,-0.0391593426,0.0191678945,0.0131672369,-0.0454938076,0.0184415784,-0.037914101,-0.0466600992,-0.0139228655,0.0212039445,0.0423991084,-0.0095054833,0.0675516278,-0.0355961546,-0.0602243431,-0.0320280567,0.0780409351,0.0131503902,0.0684749186,-0.0214009378,0.0521564595,-0.0159036592,0.1149339378,0.0408470407,0.074618578,-0.0539306179,-0.0298436508,0.0519750714,-0.0119723761,-0.0309328344,0.0158999395,0.1007027924,-0.0271380953,-0.0121761151,0.0100327125,0.0310558155,0.0205564816,-0.0219021253,-0.0183974039,-0.0000247083,-0.0094142035,-0.0020201709,0.0120183975,-0.008462674,0.0210618209,0.024675101,0.0031979319,0.0014414137,-0.006238136,0.0307350904,-0.0352246836,0.0234262012,0.0030962557,0.0290491767,-0.0387770124,-0.0312621929,0.019587107,-0.0528720282,0.0081451759,0.036356777,-0.0392858684,0.0442489833,-0.0102367532,-0.0089752609,0.022334788,0.0177929159,0.0480080992,0.0928253457,0.0134220971,-0.0110018952,0.0053454461,0.0231603608,0.0192365702,0.0341685414,-0.0552934036,0.0090822307,0.0122858975,-0.0009555464,-0.0522997603,-0.0701440647,-0.0056252074,0.0073394589,0.0336116403,-0.0253091361,0.0107591022,-0.0409277342,0.0096733626,0.0002028528,0.0066790041,-0.0046984553,-0.0196899045,-0.0258854795,-0.0153986616,-0.0328140855,-0.0271360073,0.0430361144,-0.0063988152,0.0072520967,0.007874446,0.0178960357,0.024522556,-0.0143519323,0.0465193242,-0.0240057856,0.0108303791,0.0123897679,0.023136517,-0.0372405909,0.0012840285,0.0272068121,-0.0684544072,-0.0643749237,0.0318163261,0.0161961839,0.0139660528,0.0198116861,0.0921545103,-0.0312240366,-0.0262432713,-0.0253608208,-0.0113551319,0.0233458076,0.0172060262,0.032157883,0.0293180458,0.0607555434,0.038001731,0.035565082,0.0011907069,-0.0351961143,-0.0165019073,-0.0078299614,-0.0111449333,0.0856732652,0.0101122474,0.0783182085,0.0312852375,-0.0274119619,-0.0070981239,0.0187979545,0.0066992952,-0.0586648285,0.0329405926,0.0024531877,-0.0034574501,-0.0129600829,-0.0186983123,0.0568405017,-0.0367986523,-0.0249657147,-0.0189465284,-0.0064036776,-0.0092769554,0.0041178139,0.0024070472,-0.0296342913,0.0730608925,-0.0306529496,-0.011169266,0.034205012,0.074767448,0.0358167365,-0.0433669873,0.0422118381,-0.0323813073,-0.043682985,0.0048678801,0.002056746,-0.0226675384,0.0111694094,-0.0145360036,0.008583677,-0.0113304555,-0.0518407747,0.0565516166,0.0226719454,-0.0135567412,-0.0726393759,-0.0018647842,0.0107068317,-0.0056358292,0.034590032,-0.0232362561,0.0187693592,0.0347321555,0.0262605865,-0.0377979316,-0.0289299749,-0.0398050547,-0.0123754954,-0.0270048548,-0.0127926273,0.0890325457,0.0462066084,-0.0190489013,-0.0060369554,-0.005515561,0.0552491434,-0.0059791435,-0.0008449111,0.0294327401,-0.0211102962,0.030522285,0.0131051298,-0.0183781981,0.0146623459,0.0336476117,0.099834919,0.0762064308,-0.0313237049,0.021989841,0.0006481146,-0.0409905203,-0.0376103744,0.0064156158,0.0228438433,0.0384773985,0.0523491688,-0.0192165412,0.0371600762,0.0030973977,0.0182012152,-0.0273882337,0.0260348935,0.058044102,0.0134414099,-0.0040493999,0.0126428343,0.0028806922,0.0146820145,-0.0542149022,-0.0211576037,-0.1106617749,0.0349108428,0.0162821766,0.0367334634,0.0140086142,0.0046273782,-0.0464669913,-0.0588047281,0.0182817616,-0.0429781154,-0.0042423275,0.0131894946,0.0441008657,0.0024983501,-0.0072435108,-0.0073597673,-0.0433598757,0.0159043595,0.0020956015,-0.0048881634,-0.0220352672,0.0134686939,0.0343750119,-0.0487010628,0.0781108662,0.0440415218,-0.0083103701,-0.0119543485,-0.0122574046,0.0236879047,-0.0145851476,-0.0246704053,-0.0080146482,0.0309137646,0.0873625502,0.076913625,0.0266982466,-0.0682822838,-0.0157996081,0.0317910127,0.0069509558,0.0016737195,0.0234858356,-0.0036188292,0.0267532021,0.0113566676,0.0116608171,-0.0200531054,0.0099605238,0.0083617689,0.0298480876,0.0475540571,0.0061947624,-0.0168379489,-0.0687665716,-0.0467779562,0.059574455,-0.0340934433,-0.010060939,-0.0232081227,-0.0195295718,0.001119838,0.0059677921,0.0439610854,-0.041410502,0.0436235964,0.0216346849,-0.0228569303,-0.0100590009,0.0139950207,0.0599903166,0.0043084389,0.0463423952,0.0046886904,0.0136775551,0.0126930624,0.0220153704,-0.0247674733,-0.0036462385,0.0326596424,-0.0326173343,0.0311570838,-0.021868797,-0.000876366,0.0024129627,-0.0003818925,0.0158711709,-0.0547253117,0.0591916963,-0.0329835899,0.0043654265,-0.0632664114,-0.0663516223,-0.0004791496,0.0238061845,0.027966816,0.0112854186,0.0268298443,-0.0021444024,0.0163034145,0.019770246,0.004538042,-0.0024330092,-0.0246244073,-0.0161288157,0.0803074688,0.0219923239,0.0093071302,-0.0287696291,0.078163527,-0.0127993533,0.0066720368,0.0156522449,0.0549946763,-0.0440199189,0.0225048158,0.0099383397,-0.0174980517,-0.052368246,-0.0445255823,0.0297833588,-0.0079223774,0.0408656076,0.0082173236,0.0195041541,-0.0355753265,0.0066098138,0.0114238011,0.0029889238,0.0770156011,-0.0331340618,-0.0164920352,0.0298585817,0.0068870992,-0.0362957083,-0.0157892425,0.00585275,0.0289024133,0.0069634933,-0.0361286551,-0.0472091101,-0.0430514403,-0.0630789325,-0.1179424524,-0.0446251594,-0.0044796839,0.0294801649,-0.0051167426,-0.0427739657,0.0405353159,-0.0001466149,0.0641620085,0.0031270501,-0.0222431403,0.0264137443,-0.0069607734,0.02090602,-0.0097132288,-0.00374453,0.0049687866,-0.0254906267]}\n",
      "{\"id\":73842276,\"embedding\":[0.0585781671,0.0223568268,-0.0313321352,-0.0327186808,-0.0004820507,0.0497061387,0.0419064425,0.0250349585,-0.0199872106,0.0016654676,0.0118423868,0.0133153321,0.0351723731,-0.0398121551,0.0241070986,-0.0618656799,0.0064720018,0.0030851802,0.0246943086,-0.025475312,0.0313360319,-0.0360640027,-0.0276198536,-0.0497771762,-0.0199282989,-0.008066386,0.0171877891,-0.0068868217,0.0150361685,-0.0272021461,0.0969198868,0.0068844063,0.0276304986,0.0060112122,0.0106780753,0.0356012806,0.0035293032,0.0262243971,0.0322295204,-0.0329115205,-0.0020569626,0.0013908275,0.0054315161,0.0340464003,0.0005801308,-0.0567554608,0.025687702,0.0342215747,-0.016929727,-0.0181563832,0.0201555453,0.0113999695,-0.0241565071,-0.0176826026,-0.0852089301,0.0050452054,0.0237624981,0.0113689043,0.0056135082,0.0032131113,-0.0040817666,-0.0382052734,-0.035543818,-0.0730305165,0.0015347536,0.0087827202,0.0178457871,0.0392679274,-0.0888424516,0.0364357233,-0.0095863799,0.0406403914,-0.0538477339,0.0197743829,-0.0140028019,0.0083351955,-0.0443287902,0.0423248969,-0.0398789607,0.0413791388,-0.0044836388,0.0185750332,0.0691336542,0.0108815115,-0.0219910983,-0.044938121,-0.0276482161,0.007380608,-0.0125170294,-0.008400647,0.1079620719,0.0014416835,-0.0045246771,-0.0158846602,0.010255821,-0.0239963643,-0.0424050763,-0.0312766731,0.0709910318,-0.0058924616,-0.06345772,-0.0226173382,-0.0393530764,-0.0485994332,0.0137719624,-0.0377297327,-0.0266287662,-0.0209678598,-0.0253167711,0.026050454,-0.0127867106,-0.0101355463,0.0284422673,-0.0177893508,-0.0088970149,-0.0212371461,-0.0290533602,0.0156514421,-0.0191103853,-0.0725743398,0.0329493247,0.0140308011,-0.011473937,0.0770414546,-0.0029248837,0.0682261512,-0.0013933259,-0.0475713424,0.0217220839,-0.0027533595,0.0017996812,0.0026333341,0.0267445166,-0.0085065756,0.0597353913,-0.0289714709,-0.0201909021,-0.0097478637,0.0244490039,0.016073525,0.0285154358,-0.0396228284,-0.0843872651,0.0207966883,0.0329159088,-0.0516985245,0.048949603,0.0681385174,0.0170348883,0.006864721,-0.0553769954,-0.034709096,0.0103653353,0.0392304733,-0.0399148576,-0.024845941,0.0570320636,0.0339106508,0.0453381017,-0.0518540889,0.0043371185,-0.094784297,-0.0490396656,0.0683309585,-0.001165577,-0.0402506068,-0.009458459,0.015839668,0.0225411467,0.0030311267,0.0351330191,0.0203439388,0.0087414775,-0.0406740047,0.0507537238,0.0181169249,-0.0273039993,-0.0224305354,0.0238922685,-0.0047605215,0.0532194898,0.0170266274,-0.0222748257,-0.0056602228,0.0126497438,0.005810481,0.0377536267,0.0558303148,0.0297822915,0.0595037341,-0.0713703781,-0.0303846896,0.0180296768,0.0191962998,-0.0069895899,0.0101506524,0.0576983951,0.0352656469,-0.0375307798,-0.091379784,0.052480679,-0.0399155691,-0.0491221733,-0.0677468479,-0.0393122286,-0.0218344443,0.033685986,0.0395664871,-0.0194441956,0.0410715342,0.0038143306,-0.0041669914,0.0160511862,-0.023046298,-0.008227936,0.0123939095,0.0163569693,-0.0273333304,0.109350577,0.0703011826,0.0348871686,0.0206442755,-0.0106505267,0.0183600336,0.0174321607,-0.0824207515,-0.0350220688,0.0276574809,0.025361022,-0.0365783423,-0.0077472911,-0.020983424,0.0315559395,0.0525716506,-0.021666022,-0.0232299753,0.0342199542,-0.0536661521,-0.0324779004,-0.0053017042,-0.0011328376,-0.0350352302,-0.0460063964,-0.0074997782,0.0398123227,-0.0162668116,0.0892031044,-0.0500115454,0.072047241,-0.0019046075,-0.0349081233,-0.057733655,-0.0411401056,0.049748566,-0.0280792955,0.0379343741,0.000597113,-0.0133747915,0.0388962328,0.0191390887,0.0330857374,-0.0596197024,-0.0212928951,-0.0491694883,-0.0769741535,-0.0447626561,-0.0283731706,-0.0274040736,0.0427135192,-0.0407495648,0.0108831534,-0.0186960455,-0.0078748921,0.023516342,-0.0208142195,0.0099083576,-0.0082738688,-0.0010516839,0.0110778501,-0.0189598687,0.0290570613,-0.0253651589,0.1113490239,-0.0002923411,0.058222428,-0.0240022466,-0.0105223535,0.0370640419,-0.0327719077,-0.0026905609,-0.0186435096,0.0364843942,-0.0683995262,-0.0563835129,0.0503283925,0.0279604811,0.0036132941,-0.0065660044,0.0156975798,-0.0218786746,0.018826263,-0.0180985592,0.0074123009,0.0709411353,-0.0048721544,-0.0000003664,-0.0326737426,-0.0216700491,0.0236004964,-0.0039466931,0.0246410165,0.022624746,-0.0156831779,-0.029346209,-0.0434147976,-0.0028635303,-0.102326028,-0.0407033376,-0.0352678858,0.0071922583,-0.0119180614,0.0023587453,-0.0911364406,-0.010614167,-0.0009860171,-0.0089168176,0.0383535065,-0.0280966908,-0.0120713357,0.0392931961,-0.0055648852,0.0333792232,-0.0651584566,-0.0283663329,0.0263720378,0.0644127354,0.0084252022,0.0386090055,0.0007862131,0.0723985583,0.0451861285,0.0386098996,0.0012113956,0.0395402312,-0.0050811619,0.0036632526,0.0109865265,0.0224934872,0.0376683399,-0.0672927722,-0.0383765101,-0.0504031852,-0.0258116089,0.0029935564,-0.0079799211,-0.021304341,0.0207665768,-0.0162168313,-0.0569861941,0.0167617518,0.0067248149,0.0226275139,0.0372105315,0.0171953086,0.0178934429,0.0181714054,0.0080646565,0.062382739,-0.0474934131,-0.0290417969,0.04643704,0.0458209775,0.0346348658,0.0668647587,0.0171901193,-0.0499050096,-0.0420077108,0.0119128022,0.0368662588,-0.0153796105,0.0090649882,0.0118782781,0.0126990415,0.0214150771,0.0120963296,-0.0058517386,-0.0193060394,0.0137101887,-0.0597751699,0.02982256,-0.0590755679,0.019051712,0.0469113402,0.0562213771,-0.0087180566,0.0685873926,0.0004853776,0.0111901117,-0.0024210815,0.0406951271,0.0387785248,-0.0658392832,0.0123587344,-0.0078765349,0.0300791487,-0.0656296983,0.12965554,0.0244315658,0.025412295,-0.0353997163,0.0364209041,-0.0485766046,-0.0274604745,0.0081093647,0.0087796217,-0.0053880666,-0.0334966481,-0.0113898227,0.0079118265,0.0248971544,0.0489663817,-0.0080718016,0.0432474129,-0.024856247,0.0108775357,-0.0481960848,-0.0001320231,-0.0304431356,0.0109734405,-0.0281219706,0.0944972858,0.0079162009,-0.037621133,0.049506925,0.0154963275,0.0205895621,0.0429837853,-0.0207639858,0.0283662546,0.0323319845,-0.0030532996,-0.002696383,0.040423397,0.0582161322,-0.0377941243,0.1192228422,0.0293541905,-0.0249984153,0.0003799152,-0.0091130976,-0.0120271379,0.0194906164,0.018191101,-0.0411200523,-0.0569818281,-0.0262053851,-0.0168242287,-0.0028009841,0.0221010149,-0.034675356,0.0074864766,-0.0120997187,0.061083965,-0.0536779799,0.0452452973,0.0006260764,-0.0539766662,0.010382046,0.0215341803,0.0318774469,-0.0034722756,-0.0004091668,-0.0152173899,0.0347861834,-0.0167875346,-0.0017232586,0.0360153578,0.0038549888,-0.0136437593,0.0043082898,-0.0159202311,0.0182448663,0.0042497315,0.0625092462,0.0277269501,0.0003474309,-0.0185840279,0.0307917874,0.0395367108,-0.0616496764,-0.001710103,-0.0082180882,-0.1098175943,-0.0797837377,-0.0035272136,0.0038050273,0.0053723906,-0.0063829687,0.0197896957,0.0488220342,0.0790999532,0.0596881844,0.0215316098,-0.027290225,-0.0906130373,-0.0428884774,0.0467371643,0.0262941383,-0.0081235291,-0.0504556261,-0.01823055,0.0031419054,0.0104302196,-0.0095794434,0.0317068696,0.0275761839,-0.046157036,0.0211072676,-0.0160005353,-0.0111721931,-0.0516856797,-0.0161732361,0.0859888196,0.0320062116,-0.0144816888,0.0364419222,-0.0229508877,0.0342846327,0.0215584338,0.0165631305,-0.0254049171,0.0271925423,0.0349150412,0.0072612283,0.0359809808,-0.0223947018,-0.0372699872,-0.0168495774,-0.0111235231,0.0048946314,0.02426829,0.0299471188,0.0208076984,0.0198909454,0.0670470744,-0.0062960992,0.0235970225,-0.0033932745,-0.0397175141,-0.0157210547,-0.0138372388,0.0139661189,-0.0105541945,-0.0731848553,-0.012230224,-0.0756349713,0.0124881649,-0.0003675715,0.0285670292,0.020775795,0.0250916202,-0.0441537946,0.0543127693,-0.012853222,0.0240760148,-0.0716186613,-0.0535044633,0.0497944392,-0.0475176349,-0.0079127653,0.0209492631,-0.0122359535,0.0289170388,-0.013007083,-0.0342870802,-0.0235149823,-0.0459736474,0.0285519715,0.00477478,-0.0356502421,-0.0349889845,0.011058473,0.0430451147,-0.0024291836,-0.0666001067,0.0272307005,0.0546192676,-0.0260596704,-0.0260486528,-0.0562113151,-0.0230544154,0.0536845736,-0.0283797272,-0.0018392884,0.0112461802,0.056711752,-0.0079210531,0.0578190684,0.0136988163,0.0268511046,0.0172084961,-0.0245175287,0.0179845896,-0.0209000334,-0.0867047012,-0.0667450055,0.0148587814,-0.0354655646,0.0275397878,0.0557431057,-0.0253309365,-0.0066057611,-0.0008424735,0.0251144562,-0.0451665819,-0.0259839334,-0.0051902905,-0.0781560019,0.0413050689,0.0319393612,0.0343415141,0.0448284931,0.0165215954,-0.0026945474,0.0088435523,-0.0182747059,0.0575743541,0.0636235699,0.0312045198,0.0364970714,-0.0450094081,0.0194928534,0.0409436114,0.0131690288,0.0117776012,-0.0257310234,-0.0099265752,0.0137936277,0.0113745965,0.0006404931,-0.021229526,0.0759912133,0.008241199,-0.0078680124,-0.0695424378,0.0194557738,-0.0282539185,-0.0213740412,0.0281156451,0.0276334211,0.0151724899,0.055262357,0.0373317748,0.0625569671,0.0085049793,-0.0165199526,-0.054545369,-0.0246624518,0.0525206327,-0.0073376424,-0.0047509158,-0.0226046313,-0.0643006042,-0.0464227684,0.0035301647,0.0280283168,-0.0428155661,0.0078951009,0.0283526666,-0.0070508476,0.0241673235,0.0415262394,-0.0262399577,0.0364116505,-0.0232534092,-0.042586267,-0.0189343449,0.0133532919,0.0109045887,0.0300316121,0.011157617,-0.0448745713,0.0501106828,-0.0134562301,0.0427452177,0.0345212296,0.0398925878,-0.0700929165,-0.0193171818,0.0173704755,-0.0020127825,-0.0107949562,-0.0667927563,0.0070251417,-0.0103293834,-0.0139919156,-0.0152750285,0.0323863328,0.0088216709,-0.0272826701,0.0289212503,-0.009761842,-0.0338926464,-0.0023994255,0.0140232826,0.0061210706,0.0115803396,0.0122397877,-0.0407941379,0.0174535941,-0.0171075612,0.0147864101,0.0338547416,-0.0246596634,0.019638177,0.0120705822,0.0179389808,0.058228489,0.0534192882,0.0061447145,0.020299701,-0.0463102087,0.0322195552,-0.0115024401,0.0122086713,0.0242852774,0.0123716732,-0.0055932086,-0.0618534163,0.0249177888,-0.0096695507,-0.0222903378,-0.0173143242,-0.0608048812,0.0228013117,0.0021575128,-0.0126309935,-0.0112417191,0.0017058826,-0.0103154331,0.0236901529,-0.0499978773,-0.0282548182,0.0275292601,0.0080693942,0.0851952583,-0.0234997254,-0.0493731052,-0.0122027053,-0.0149782654,-0.0474433787,0.0085998299,0.0243524462,-0.0126405964,0.0893818438,0.0205618832,0.0369705893,-0.0334719755,0.0315059498,-0.0035974772,-0.0311739277,0.005572225,-0.0299050957,0.0020083478,-0.0156264175,0.0227147546,0.0699112862,0.0255854763]}\n",
      "{\"id\":73541211,\"embedding\":[0.0117890351,-0.0109912511,-0.1197086945,-0.0122603476,0.0414442979,0.027938284,0.0697663948,0.0475835279,0.0246656127,0.0581315346,0.0007419127,0.0346150175,0.0122796036,0.0051150788,0.0134373391,-0.0044320822,0.0099620959,-0.0212944131,-0.040134538,0.0171820894,-0.0106886383,-0.0291813798,-0.0023883758,-0.0054837996,0.0030581523,0.003684157,0.0699280724,-0.0249897204,-0.0305373985,-0.0327672064,0.0132943634,-0.0194367208,-0.0004289876,-0.0018193086,-0.0278822258,-0.0042967405,-0.0123177236,0.0619339384,0.0235475861,-0.0429464914,-0.0529631451,0.0183742885,0.0054538338,0.0132531822,0.018055059,0.0188500248,-0.0103758536,0.0317047164,-0.1189858839,0.0470938459,0.0252702348,0.0410314538,-0.0179299749,0.0118875699,-0.09521164,-0.0361259505,0.0102582043,-0.0443035774,0.0406234339,-0.0381035209,-0.0218784455,-0.0400080569,0.0500844605,0.0182961281,-0.0099155707,0.0059170029,0.040650662,-0.0201332998,-0.1077526137,0.0193749759,0.0140805738,-0.0044707321,-0.0368853398,-0.0632748231,0.0035261763,-0.0233692881,-0.0005172826,0.0203914493,0.0029826236,0.0734392032,0.0373963863,-0.0024702023,0.0744189471,0.0245130472,-0.0016393517,0.022724906,0.0282814987,-0.0220143758,0.025168512,-0.0611800142,0.0377469361,0.0044721868,0.0056159445,-0.0391856693,0.0374454372,0.0082436763,-0.0485186428,-0.08338321,-0.0030901178,-0.0169924032,-0.0233187601,0.0319747142,0.0209312979,-0.0419027992,-0.0313494802,0.091949515,0.0190800093,-0.0956689492,-0.0382285379,-0.0650192276,-0.0029804707,0.0583837815,-0.019431375,-0.0194819476,-0.053620033,0.0248675421,0.0461199582,-0.0311127175,-0.0623084493,-0.0334506333,-0.0428710841,0.0589653961,0.0281162914,0.0325886123,0.0877231956,0.0006814694,0.0286421105,-0.0414086506,0.0061526778,-0.0071848864,0.0657038689,-0.0404359214,0.0198777113,-0.0309233032,0.0246951804,-0.0189244356,0.0425125808,0.1008292511,0.016887648,0.0473878793,-0.0024182932,-0.0269890092,-0.0844235048,0.0044691414,0.0180060547,0.016845163,0.0067703109,0.0888207704,-0.03041148,0.0342105925,0.0367916562,-0.011142021,0.0325182341,0.0254099574,-0.0526258014,0.007781019,0.0365436561,-0.0430154912,0.0313203335,-0.0376000069,0.0930250436,0.0089523317,-0.0310525708,0.0595095865,-0.0658459887,-0.0051612426,0.0195730813,-0.026510803,-0.0455321185,0.0545490347,-0.0162648577,-0.0054650572,0.0253538955,0.0468419455,0.060425438,0.0483628213,-0.0381195471,0.0125945229,0.0338008404,0.0011392607,0.0303687919,-0.0381157398,-0.0151076578,-0.0663560778,0.0081011597,0.0315492786,-0.0282553378,0.0102201691,0.0583596602,-0.0081314351,0.0048869243,-0.024204351,-0.0068914923,-0.0241580568,-0.0022353714,-0.0533673093,0.0518136844,-0.0264914967,-0.0057173437,-0.0839255154,0.0393019058,-0.0059199031,-0.0063874628,-0.0644946173,-0.0018506206,0.0301565882,-0.0172963943,-0.040390823,0.0335476771,0.0838981718,-0.0600245222,-0.0155906659,0.0421300977,0.0226557702,-0.0138309514,0.0069439048,0.0701433644,-0.0346388929,-0.0057030972,0.0519957356,0.0133065656,0.0421190336,-0.0500900261,-0.0136725185,-0.0003376478,0.0073198257,-0.0277402289,-0.0238855779,-0.0806598663,-0.0230623782,-0.012802396,0.0231482498,0.0024567982,-0.0315797739,-0.0066665192,0.0153190475,0.0267153829,-0.001925319,-0.0492298044,0.0133172069,0.0210801177,0.0157224573,0.0072411872,0.0516468808,0.0381713845,0.0219958946,0.0203665849,-0.0174507629,-0.018098563,-0.0494238175,-0.0100097097,-0.0322572254,-0.00714768,0.020279659,-0.0069142124,-0.0613210313,0.0233778115,-0.0967369452,-0.0144671919,0.0933110192,-0.0216570497,0.0121812206,-0.025046844,-0.0515174903,-0.0528667197,-0.0564512052,-0.0284608286,-0.0633222833,0.0379425324,0.0218946915,0.0362210609,-0.0353798009,-0.0568704233,-0.0469810553,-0.0424605161,0.0208267625,0.0052481485,-0.014665165,0.0187996682,-0.084502466,-0.0104393233,0.0117128855,-0.0268773288,-0.0490072072,0.0056745787,-0.0358194858,-0.0664381832,0.0090203071,-0.0064995415,-0.0279916357,0.0415081047,0.0257133674,-0.0249165855,-0.0213770736,0.0294607636,0.0210047197,0.0585976504,0.0540432073,0.0099701034,-0.0256536435,0.0187685229,0.0026548826,-0.0419129767,0.0367769897,-0.0037401759,0.0059735766,0.0325437039,-0.0317488052,0.0071864058,-0.0553870723,-0.0128744254,-0.0321870819,-0.0147214606,-0.0776367709,-0.0285243299,0.0391063839,-0.0401646607,-0.0208652355,0.0167352241,-0.0060839239,-0.0310147554,-0.038424924,-0.004876636,-0.0208664164,0.0250460468,-0.0115179745,0.0277355816,-0.0165613499,0.0205638837,-0.0492818467,0.0684994161,-0.0092370557,0.0015803023,-0.0540417843,-0.0251530614,-0.0083282124,-0.024758013,0.0277351085,0.0462517701,-0.0068097226,0.0204864368,-0.0022081574,0.0348414928,-0.0313872173,0.007272284,-0.0283544902,0.0218647998,0.0259187743,-0.0258920938,0.0127469907,0.0813144147,0.0684619397,0.0099473363,0.0089518484,0.0222635269,0.0664466098,0.0098544089,-0.032156121,0.0031711364,-0.0186599996,-0.0076790201,-0.0439977646,0.010133598,0.0046734721,0.0135165043,-0.0273209382,0.0133510511,-0.0340856388,-0.0311715789,-0.0272085797,0.0033934508,0.0113004604,-0.0012848226,-0.0071543497,0.0054963762,0.0043156729,-0.0676367804,-0.0184299424,0.0272957813,-0.042820625,0.0069283745,0.0264785178,-0.0201283339,-0.0283193029,-0.0045446861,0.0578578748,-0.0659353659,0.0670824721,0.0115314797,-0.0399242043,-0.008537245,0.0224449541,-0.0359918177,-0.027298985,-0.0244364385,0.0591845438,-0.0182091035,-0.0446238033,0.0320989043,0.0198111646,-0.0259063467,-0.0629451424,0.0005522083,-0.0584737137,0.0138097806,-0.0187285449,0.0338622145,0.0080236737,0.010546647,0.0866848677,0.0305056404,-0.0154036246,0.0089741321,0.0345353708,0.0520714819,0.0115826782,-0.0341273621,-0.041545935,0.0330313966,-0.0146366507,0.0022711102,0.024751151,-0.0093532754,-0.0095936954,-0.054434143,-0.043029204,0.0003788217,-0.0322358795,-0.0027906338,0.0229137968,0.0105296038,0.051621642,0.0150351869,0.0161731634,0.0034205881,0.0086885104,-0.0010996391,-0.0317347199,-0.0041978541,0.0435255878,-0.0033532276,0.0114724087,0.0513234697,0.0303910188,-0.0160358865,0.0480840653,0.0008452562,0.0122378608,0.0166287031,0.0250727441,0.0469926,0.0088777635,0.035933055,-0.0336943157,0.0084447199,-0.0057731192,0.0707064196,0.0195388198,-0.0339952894,0.0036454834,0.0153734339,-0.0085934838,0.0258730706,0.0134744486,0.0179393627,-0.0120067764,-0.0055837329,-0.017337475,-0.0225722026,-0.0366401374,0.0216799974,-0.0182681642,0.0155992601,-0.0078545799,-0.035124857,0.0236561317,0.0369996652,0.0240854789,0.0040537878,-0.0146721182,-0.0138205066,0.0276027415,0.0053816363,0.0098659322,0.0162869524,-0.0569744445,-0.033276774,-0.0104638999,-0.0392704308,0.0197876487,-0.053479109,0.0044556856,-0.0237554274,0.0069440659,-0.0280899704,0.0174707305,-0.0261118636,-0.0672050864,0.0059749684,0.1035067663,-0.0087801246,-0.0129385479,-0.0670425668,-0.0867990106,-0.0294167846,-0.0074992082,-0.0328793973,0.023178542,0.0063422555,0.0107109202,-0.0496272855,-0.0229615737,0.0221095365,0.0145997498,-0.037383914,-0.0146725429,0.0071876072,0.0720539168,-0.0016774109,0.0239958987,-0.0458023809,-0.011324089,0.0143577773,0.0019578792,0.00071421,-0.064487122,-0.0246262513,-0.006683215,0.0355466716,0.0231400821,0.0011173319,0.0564888082,0.0027092283,-0.0021736787,0.0172545519,0.0843139216,-0.0203529354,0.0263381302,0.0014382255,0.000979215,0.011933744,0.0391488262,-0.0038525364,0.0199030507,0.0817093849,0.0098446496,0.0140153393,0.0222028531,0.0096506821,0.0521297418,-0.022992976,-0.0551330633,0.0370235555,-0.0167396162,-0.0383739769,-0.071199894,-0.0066359467,0.0097487532,0.0241441261,-0.0215381254,0.0665348247,-0.0045822756,-0.0481370315,-0.0013492142,0.0180951618,0.0134227034,0.0019321808,0.0089348163,-0.0028000376,0.0024940511,-0.0341381207,-0.0221038237,0.050586652,-0.008329669,-0.0214322265,0.0229543205,-0.0288097505,-0.014018896,-0.0189719647,-0.0031015358,-0.0540715903,-0.0067401179,0.0389223099,-0.0127201583,-0.0106093762,0.0238518734,0.0078539131,-0.0164010078,-0.0070672086,0.0447521545,-0.0389386602,0.1043930724,-0.0357041284,-0.045613762,-0.0166385062,-0.0600498989,-0.0675609559,0.0209878292,0.0506386496,0.0043755015,-0.0283778775,-0.0151858386,0.006810667,-0.0087416107,-0.0114366896,-0.0174035057,-0.0024047415,-0.0365711898,-0.0572823584,-0.0218514595,0.0099596083,0.0434570238,-0.0125311678,0.0312242061,-0.0450471006,0.0386219397,-0.0017444392,-0.0251069125,-0.0749558657,0.0401476026,0.0169901475,0.0606975853,-0.08128272,0.0304521266,-0.0210270211,-0.0289453175,-0.06393224,-0.0256967191,0.0488077998,0.0230186284,0.0311271492,0.0704634413,0.0758540779,-0.0225822851,0.0197574943,0.0033317266,0.0264671929,-0.0175554082,0.0881380811,-0.0346301571,0.0164383929,0.0009900491,0.0452625565,-0.0442453809,-0.0440369621,0.0661934167,0.026765354,-0.0359757021,0.0392721407,0.027167134,-0.0084483866,0.0485033467,-0.009736021,0.0254450124,-0.0320575647,-0.0057462966,-0.0441571809,-0.0159659032,-0.0049673342,-0.0407100953,0.0085087437,-0.0354989357,-0.0309756622,-0.0223538671,0.0081446087,0.0703598633,-0.0496560819,-0.0507801287,-0.0653759167,-0.0221767016,-0.0401647054,0.0196196642,0.0196668077,0.0452043898,0.0068215416,0.0054780575,-0.008946728,0.0192871783,-0.0289975516,-0.0184664242,0.0296031423,-0.0553829111,0.0379414968,-0.0291765016,0.0253473185,-0.0321996957,-0.0154861566,-0.0538971871,-0.0446662419,-0.021869719,0.0004839699,-0.0222786367,-0.0232393481,-0.017507609,-0.0533282459,0.0152643267,0.0377557091,-0.01518982,-0.0102993296,-0.0220554788,0.0227321051,-0.0033736834,-0.0009517553,-0.0164174139,0.0203377735,0.0102405371,0.0114967125,0.0298834499,-0.0413956493,-0.0244813245,-0.0332219452,-0.0242143013,-0.0247224644,0.0774741024,-0.0190660506,0.0629449561,0.0754271597,0.0608050488,0.0167659614,0.0178372823,0.0334935188,-0.0350935385,0.0494078919,-0.0083638094,0.0357769392,-0.0105537409,-0.0595701709,0.0194666535,-0.0453132093,0.0060836282,0.0147113204,0.0030207313,0.0237281173,0.0252389945,-0.0105246473,-0.0311044771,-0.0074071805,0.0078632114,-0.0066404003,0.0044262628,0.027668396,-0.0240455158,-0.016587995,-0.0581904911,-0.0085134888,0.0875921622,0.0455034412,-0.0093106134,-0.0528981239,-0.0560235977,-0.0669806227,0.0065896111,0.0277208295,0.0275523793,0.0001959205,-0.0163607486,0.0199897457,-0.0220743213,-0.003917079,0.0093597854,-0.0050565754,0.0391695611,-0.0023770512,0.0013808591,-0.0412674844,-0.0028636714,0.0962588936,0.0084820874]}\n"
     ]
    }
   ],
   "source": [
    "# save id and embedding as a json file\n",
    "jsonl_string = df[[\"id\", \"embedding\"]].to_json(orient=\"records\", lines=True)\n",
    "with open(\"questions.json\", \"w\") as f:\n",
    "    f.write(jsonl_string)\n",
    "\n",
    "# show the first few lines of the json file\n",
    "! head -n 3 questions.json"
   ]
  },
  {
   "cell_type": "markdown",
   "metadata": {
    "id": "-WTNJ3FAQl_W"
   },
   "source": [
    "Then, create a new Cloud Storage bucket and copy the file to it."
   ]
  },
  {
   "cell_type": "code",
   "execution_count": 13,
   "metadata": {
    "id": "CzwDWJfzAk3n",
    "tags": []
   },
   "outputs": [
    {
     "name": "stdout",
     "output_type": "stream",
     "text": [
      "Creating gs://qwiklabs-gcp-04-e958e6705db6-embvs-tutorial-07160823/...\n",
      "Copying file://questions.json [Content-Type=application/json]...\n",
      "/ [1 files][  9.8 MiB/  9.8 MiB]                                                \n",
      "Operation completed over 1 objects/9.8 MiB.                                      \n"
     ]
    }
   ],
   "source": [
    "BUCKET_URI = f\"gs://{PROJECT_ID}-embvs-tutorial-{UID}\"\n",
    "! gsutil mb -l $LOCATION -p {PROJECT_ID} {BUCKET_URI}\n",
    "! gsutil cp questions.json {BUCKET_URI}"
   ]
  },
  {
   "cell_type": "markdown",
   "metadata": {
    "id": "xxdbjKw1XDxl"
   },
   "source": [
    "### Create an Index\n",
    "\n",
    "Now it's ready to load the embeddings to Vector Search. Its APIs are available under the [aiplatform](https://cloud.google.com/python/docs/reference/aiplatform/latest/google.cloud.aiplatform) package of the SDK."
   ]
  },
  {
   "cell_type": "code",
   "execution_count": 14,
   "metadata": {
    "id": "8unyr9KagAoI",
    "tags": []
   },
   "outputs": [],
   "source": [
    "# init the aiplatform package\n",
    "from google.cloud import aiplatform\n",
    "\n",
    "aiplatform.init(project=PROJECT_ID, location=LOCATION)"
   ]
  },
  {
   "cell_type": "markdown",
   "metadata": {
    "id": "xpMUXqWQ75uu"
   },
   "source": [
    "Create an [MatchingEngineIndex](https://cloud.google.com/python/docs/reference/aiplatform/latest/google.cloud.aiplatform.MatchingEngineIndex) with its `create_tree_ah_index` function (Matching Engine is the previous name of Vector Search)."
   ]
  },
  {
   "cell_type": "code",
   "execution_count": 16,
   "metadata": {
    "tags": []
   },
   "outputs": [
    {
     "data": {
      "text/plain": [
       "'us-east4'"
      ]
     },
     "execution_count": 16,
     "metadata": {},
     "output_type": "execute_result"
    }
   ],
   "source": [
    "LOCATION"
   ]
  },
  {
   "cell_type": "code",
   "execution_count": 15,
   "metadata": {
    "id": "kKDw5VXMkXb3",
    "tags": []
   },
   "outputs": [
    {
     "name": "stdout",
     "output_type": "stream",
     "text": [
      "Creating MatchingEngineIndex\n",
      "Create MatchingEngineIndex backing LRO: projects/395938983897/locations/us-east4/indexes/7061811341484359680/operations/1543720372711456768\n",
      "MatchingEngineIndex created. Resource name: projects/395938983897/locations/us-east4/indexes/7061811341484359680\n",
      "To use this MatchingEngineIndex in another session:\n",
      "index = aiplatform.MatchingEngineIndex('projects/395938983897/locations/us-east4/indexes/7061811341484359680')\n"
     ]
    }
   ],
   "source": [
    "# create index\n",
    "my_index = aiplatform.MatchingEngineIndex.create_tree_ah_index(\n",
    "    display_name=f\"embvs-tutorial-index-{UID}\",\n",
    "    contents_delta_uri=BUCKET_URI,\n",
    "    dimensions=768,\n",
    "    approximate_neighbors_count=20,\n",
    "    distance_measure_type=\"DOT_PRODUCT_DISTANCE\",\n",
    ")"
   ]
  },
  {
   "cell_type": "markdown",
   "metadata": {
    "id": "2rFam_w9U0dI"
   },
   "source": [
    "By calling the `create_tree_ah_index` function, it starts building an Index. This will take under a few minutes if the dataset is small, otherwise about 50 minutes or more depending on the size of the dataset. You can check status of the index creation on [the Vector Search Console > INDEXES tab](https://console.cloud.google.com/vertex-ai/matching-engine/indexes).\n",
    "\n",
    "![](https://storage.googleapis.com/github-repo/img/embeddings/vs-quickstart/creating-index.png)\n",
    "\n",
    "#### The parameters for creating index\n",
    "\n",
    "- `contents_delta_uri`: The URI of Cloud Storage directory where you stored the embedding JSON files\n",
    "- `dimensions`: Dimension size of each embedding. In this case, it is 768 as we are using the embeddings from the Text Embeddings API.\n",
    "- `approximate_neighbors_count`: how many similar items we want to retrieve in typical cases\n",
    "- `distance_measure_type`: what metrics to measure distance/similarity between embeddings. In this case it's `DOT_PRODUCT_DISTANCE`\n",
    "\n",
    "See [the document](https://cloud.google.com/vertex-ai/docs/vector-search/create-manage-index) for more details on creating Index and the parameters.\n",
    "\n",
    "#### Batch Update or Streaming Update?\n",
    "There are two types of index: Index for *Batch Update* (used in this tutorial) and Index for *Streaming Updates*. The Batch Update index can be updated with a batch process whereas the Streaming Update index can be updated in real-time. The latter one is more suited for use cases where you want to add or update each embeddings in the index more often, and crucial to serve with the latest embeddings, such as e-commerce product search.\n"
   ]
  },
  {
   "cell_type": "markdown",
   "metadata": {
    "id": "VLOAMF50XMI8"
   },
   "source": [
    "### Create Index Endpoint and deploy the Index\n",
    "\n",
    "To use the Index, you need to create an [Index Endpoint](https://cloud.google.com/vertex-ai/docs/vector-search/deploy-index-public). It works as a server instance accepting query requests for your Index."
   ]
  },
  {
   "cell_type": "code",
   "execution_count": 17,
   "metadata": {
    "id": "h6IzyufWCjU1",
    "tags": []
   },
   "outputs": [
    {
     "name": "stdout",
     "output_type": "stream",
     "text": [
      "Creating MatchingEngineIndexEndpoint\n",
      "Create MatchingEngineIndexEndpoint backing LRO: projects/395938983897/locations/us-east4/indexEndpoints/8621077159345127424/operations/2041368131535896576\n",
      "MatchingEngineIndexEndpoint created. Resource name: projects/395938983897/locations/us-east4/indexEndpoints/8621077159345127424\n",
      "To use this MatchingEngineIndexEndpoint in another session:\n",
      "index_endpoint = aiplatform.MatchingEngineIndexEndpoint('projects/395938983897/locations/us-east4/indexEndpoints/8621077159345127424')\n"
     ]
    }
   ],
   "source": [
    "# create IndexEndpoint\n",
    "my_index_endpoint = aiplatform.MatchingEngineIndexEndpoint.create(\n",
    "    display_name=f\"embvs-tutorial-index-endpoint-{UID}\",\n",
    "    public_endpoint_enabled=True,\n",
    ")"
   ]
  },
  {
   "cell_type": "markdown",
   "metadata": {
    "id": "11e3e1a3a9e9"
   },
   "source": [
    "This tutorial utilizes a [Public Endpoint](https://cloud.google.com/vertex-ai/docs/vector-search/setup/setup#choose-endpoint) and does not support [Virtual Private Cloud (VPC)](https://cloud.google.com/vpc/docs/private-services-access). Unless you have a specific requirement for VPC, we recommend using a Public Endpoint. Despite the term \"public\" in its name, it does not imply open access to the public internet. Rather, it functions like other endpoints in Vertex AI services, which are secured by default through IAM. Without explicit IAM permissions, as we have previously established, no one can access the endpoint."
   ]
  },
  {
   "cell_type": "markdown",
   "metadata": {
    "id": "8n33iO1T5hFO"
   },
   "source": [
    "With the Index Endpoint, deploy the Index by specifying an unique deployed index ID."
   ]
  },
  {
   "cell_type": "code",
   "execution_count": 18,
   "metadata": {
    "id": "FcBHLifGwAWq",
    "tags": []
   },
   "outputs": [],
   "source": [
    "DEPLOYED_INDEX_ID = f\"embvs_tutorial_deployed_{UID}\""
   ]
  },
  {
   "cell_type": "code",
   "execution_count": 19,
   "metadata": {
    "id": "1jUoGhY5TPFP",
    "tags": []
   },
   "outputs": [
    {
     "name": "stdout",
     "output_type": "stream",
     "text": [
      "Deploying index MatchingEngineIndexEndpoint index_endpoint: projects/395938983897/locations/us-east4/indexEndpoints/8621077159345127424\n",
      "Deploy index MatchingEngineIndexEndpoint index_endpoint backing LRO: projects/395938983897/locations/us-east4/indexEndpoints/8621077159345127424/operations/6485858013797154816\n",
      "MatchingEngineIndexEndpoint index_endpoint Deployed index. Resource name: projects/395938983897/locations/us-east4/indexEndpoints/8621077159345127424\n"
     ]
    },
    {
     "data": {
      "text/plain": [
       "<google.cloud.aiplatform.matching_engine.matching_engine_index_endpoint.MatchingEngineIndexEndpoint object at 0x7f14b7277190> \n",
       "resource name: projects/395938983897/locations/us-east4/indexEndpoints/8621077159345127424"
      ]
     },
     "execution_count": 19,
     "metadata": {},
     "output_type": "execute_result"
    }
   ],
   "source": [
    "# deploy the Index to the Index Endpoint\n",
    "my_index_endpoint.deploy_index(index=my_index, deployed_index_id=DEPLOYED_INDEX_ID)"
   ]
  },
  {
   "cell_type": "markdown",
   "metadata": {
    "id": "xu9ZmWcpXQ55"
   },
   "source": [
    "If it is the first time to deploy an Index to an Index Endpoint, it will take around 25 minutes to automatically build and initiate the backend for it. After the first deployment, it will finish in seconds. To see the status of the index deployment, open [the Vector Search Console > INDEX ENDPOINTS tab](https://console.cloud.google.com/vertex-ai/matching-engine/index-endpoints) and click the Index Endpoint.\n",
    "\n",
    "<img src=\"https://storage.googleapis.com/github-repo/img/embeddings/vs-quickstart/deploying-index.png\" width=\"70%\">"
   ]
  },
  {
   "cell_type": "markdown",
   "metadata": {
    "id": "oTi4PjjbXV-O"
   },
   "source": [
    "### Run Query\n",
    "\n",
    "Finally it's ready to use Vector Search. In the following code, it creates an embedding for a test question, and find similar question with the Vector Search."
   ]
  },
  {
   "cell_type": "code",
   "execution_count": 20,
   "metadata": {
    "id": "FhNuRQqUWdfe",
    "tags": []
   },
   "outputs": [
    {
     "name": "stderr",
     "output_type": "stream",
     "text": [
      "100%|██████████| 1/1 [00:01<00:00,  1.14s/it]\n"
     ]
    }
   ],
   "source": [
    "test_embeddings = get_embeddings_wrapper([\"How to read JSON with Python?\"])"
   ]
  },
  {
   "cell_type": "code",
   "execution_count": 21,
   "metadata": {
    "id": "Q01DGMBPXAg-",
    "tags": []
   },
   "outputs": [
    {
     "name": "stdout",
     "output_type": "stream",
     "text": [
      "0.7272 Convert json column into standard pandas dataframe\n",
      "0.6188 Parse json to custom format\n",
      "0.6179 Retreiving multiple data from json without knowing data type?\n",
      "0.5855 Get data from a web page using soup\n",
      "0.5675 Using KQL and externaldata() operator to pull infromation from json file\n",
      "0.5646 TypeError: 'application/json' is not a valid JavaScript MIME type\n",
      "0.5618 Unpack string column with multiple dictionaries in PySpark\n",
      "0.5617 Connect to a database located on phpmyadmin from python\n",
      "0.5591 Print each row from input file to output file in python\n",
      "0.5499 How can I convert a string \"True\" to boolean. Python\n",
      "0.5479 Doubly Linked List: TypeError: Converting circular structure to JSON\n",
      "0.5445 Cannot fetch a file from javascript file in QWebEngineView in python\n",
      "0.5424 Reading data from QVD using python and databricks\n",
      "0.5419 python requests not able to get the bearer token\n",
      "0.5391 How to send params through axios get request and receive them in flask?\n",
      "0.5278 Convert Key and Value in Dictionary Column as Different Columns Pandas\n",
      "0.5261 Python Search function in .csv using lists\n",
      "0.5249 Python: order of dictionary initialization\n",
      "0.5240 FabricJS convert json to png\n",
      "0.5237 Python Regex - Matching tokens in different lines of a file\n"
     ]
    }
   ],
   "source": [
    "# Test query\n",
    "response = my_index_endpoint.find_neighbors(\n",
    "    deployed_index_id=DEPLOYED_INDEX_ID,\n",
    "    queries=test_embeddings,\n",
    "    num_neighbors=20,\n",
    ")\n",
    "\n",
    "# show the result\n",
    "import numpy as np\n",
    "\n",
    "for idx, neighbor in enumerate(response[0]):\n",
    "    id = np.int64(neighbor.id)\n",
    "    similar = df.query(\"id == @id\", engine=\"python\")\n",
    "    print(f\"{neighbor.distance:.4f} {similar.title.values[0]}\")"
   ]
  },
  {
   "cell_type": "markdown",
   "metadata": {
    "id": "tPDOL9caoYZ9"
   },
   "source": [
    "The `find_neighbors` function only takes milliseconds to fetch the similar items even when you have billions of items on the Index, thanks to the ScaNN algorithm. Vector Search also supports [autoscaling](https://cloud.google.com/vertex-ai/docs/vector-search/deploy-index-public#autoscaling) which can automatically resize the number of nodes based on the demands of your workloads."
   ]
  },
  {
   "cell_type": "markdown",
   "metadata": {
    "id": "DDt4D6FDyc66"
   },
   "source": [
    "# IMPORTANT: Cleaning Up\n",
    "\n",
    "In case you are using your own Cloud project, not a temporary project on Qwiklab, please make sure to delete all the Indexes, Index Endpoints and Cloud Storage buckets after finishing this tutorial. Otherwise the remaining objects would **incur unexpected costs**.\n",
    "\n",
    "If you used Workbench, you may also need to delete the Notebooks from [the console](https://console.cloud.google.com/vertex-ai/workbench)."
   ]
  },
  {
   "cell_type": "code",
   "execution_count": 22,
   "metadata": {
    "id": "MEsKVzguyxNx",
    "tags": []
   },
   "outputs": [
    {
     "name": "stdin",
     "output_type": "stream",
     "text": [
      "Press Enter to delete Index Endpoint, Index and Cloud Storage bucket: \n"
     ]
    },
    {
     "name": "stdout",
     "output_type": "stream",
     "text": [
      "Undeploying MatchingEngineIndexEndpoint index_endpoint: projects/395938983897/locations/us-east4/indexEndpoints/8621077159345127424\n",
      "Undeploy MatchingEngineIndexEndpoint index_endpoint backing LRO: projects/395938983897/locations/us-east4/indexEndpoints/8621077159345127424/operations/3475764612853399552\n",
      "MatchingEngineIndexEndpoint index_endpoint undeployed. Resource name: projects/395938983897/locations/us-east4/indexEndpoints/8621077159345127424\n",
      "Deleting MatchingEngineIndexEndpoint : projects/395938983897/locations/us-east4/indexEndpoints/8621077159345127424\n",
      "MatchingEngineIndexEndpoint deleted. . Resource name: projects/395938983897/locations/us-east4/indexEndpoints/8621077159345127424\n",
      "Deleting MatchingEngineIndexEndpoint resource: projects/395938983897/locations/us-east4/indexEndpoints/8621077159345127424\n",
      "Delete MatchingEngineIndexEndpoint backing LRO: projects/395938983897/locations/us-east4/indexEndpoints/8621077159345127424/operations/1971562337311653888\n",
      "MatchingEngineIndexEndpoint resource projects/395938983897/locations/us-east4/indexEndpoints/8621077159345127424 deleted.\n",
      "Deleting MatchingEngineIndex : projects/395938983897/locations/us-east4/indexes/7061811341484359680\n",
      "MatchingEngineIndex deleted. . Resource name: projects/395938983897/locations/us-east4/indexes/7061811341484359680\n",
      "Deleting MatchingEngineIndex resource: projects/395938983897/locations/us-east4/indexes/7061811341484359680\n",
      "Delete MatchingEngineIndex backing LRO: projects/395938983897/locations/us-east4/indexes/7061811341484359680/operations/7350549142252290048\n",
      "MatchingEngineIndex resource projects/395938983897/locations/us-east4/indexes/7061811341484359680 deleted.\n",
      "Removing gs://qwiklabs-gcp-04-e958e6705db6-embvs-tutorial-07160823/questions.json#1752655005648935...\n",
      "/ [1 objects]                                                                   \n",
      "Operation completed over 1 objects.                                              \n",
      "Removing gs://qwiklabs-gcp-04-e958e6705db6-embvs-tutorial-07160823/...\n"
     ]
    }
   ],
   "source": [
    "# wait for a confirmation\n",
    "input(\"Press Enter to delete Index Endpoint, Index and Cloud Storage bucket:\")\n",
    "\n",
    "# delete Index Endpoint\n",
    "my_index_endpoint.undeploy_all()\n",
    "my_index_endpoint.delete(force=True)\n",
    "\n",
    "# delete Index\n",
    "my_index.delete()\n",
    "\n",
    "# delete Cloud Storage bucket\n",
    "! gsutil rm -r {BUCKET_URI}"
   ]
  },
  {
   "cell_type": "markdown",
   "metadata": {
    "id": "b8k26QOF3Ys7"
   },
   "source": [
    "# Summary\n",
    "\n",
    "## Grounding LLM outputs with Vertex AI Vector Search\n",
    "\n",
    "As we have seen, by combining the Embeddings API and Vector Search, you can use the embeddings to \"ground\" LLM outputs to real business data with low latency.\n",
    "\n",
    "For example, if an user asks a question, Embeddings API can convert it to an embedding, and issue a query on Vector Search to find similar embeddings in its index. Those embeddings represent the actual business data in the databases. As we are just retrieving the business data and not generating any artificial texts, there is no risk of having hallucinations in the result.\n",
    "\n",
    "![](https://storage.googleapis.com/gweb-cloudblog-publish/original_images/10._grounding.png)\n",
    "\n",
    "### The difference between the questions and answers\n",
    "\n",
    "In this tutorial, we have used the Stack Overflow dataset. There is a reason why we had to use it; As the dataset has many pairs of **questions and answers**, so you can just find questions similar to your question to find answers to it.\n",
    "\n",
    "In many business use cases, the semantics (meaning) of questions and answers are different. Also, there could be cases where you would want to add variety of recommended or personalized items to the results, like product search on e-commerce sites.\n",
    "\n",
    "In these cases, the simple semantics search don't work well. It's more like a recommendation system problem where you may want to train a model (e.g. Two-Tower model) to learn the relationship between the question embedding space and answer embedding space. Also, many production systems adds reranking phase after the semantic search to achieve higher search quality. Please see [Scaling deep retrieval with TensorFlow Recommenders and Vertex AI Matching Engine](https://cloud.google.com/blog/products/ai-machine-learning/scaling-deep-retrieval-tensorflow-two-towers-architecture) to learn more.\n",
    "\n",
    "### Hybrid of semantic + keyword search\n",
    "\n",
    "Another typical challenge you will face in production system is to support keyword search combined with the semantic search. For example, for e-commerce product search, you may want to let users find product by entering its product name or model number. As LLM doesn't memorize those product names or model numbers, semantic search can't handle those \"usual\" search functionalities.\n",
    "\n",
    "[Vertex AI Search](https://cloud.google.com/blog/products/ai-machine-learning/vertex-ai-search-and-conversation-is-now-generally-available) is another product you may consider for those requirements. While Vector Search provides a simple semantic search capability only, Search provides a integrated search solution that combines semantic search, keyword search, reranking and filtering, available as an out-of-the-box tool.\n",
    "\n",
    "### What about Retrieval Augmented Generation (RAG)?\n",
    "\n",
    "In this tutorial, we have looked at the simple combination of LLM embeddings and vector search. From this starting point, you may also extend the design to [Retrieval Augmented Generation (RAG)](https://www.google.com/search?q=Retrieval+Augmented+Generation+(RAG)&oq=Retrieval+Augmented+Generation+(RAG)).\n",
    "\n",
    "RAG is a popular architecture pattern of implementing grounding with LLM with text chat UI. The idea is to have the LLM text chat UI as a frontend for the document retrieval with vector search and summarization of the result.\n",
    "\n",
    "![](https://storage.googleapis.com/gweb-cloudblog-publish/images/Figure-7-Ask_Your_Documents_Flow.max-529x434.png)\n",
    "\n",
    "There are some pros and cons between the two solutions.\n",
    "\n",
    "| | Embeddings + vector search | RAG |\n",
    "|---|---|---|\n",
    "| Design | simple | complex |\n",
    "| UI | Text search UI | Text chat UI |\n",
    "| Summarization of result | No | Yes |\n",
    "| Multi-turn (Context aware) | No | Yes |\n",
    "| Latency | milliseconds | seconds |\n",
    "| Cost | lower | higher |\n",
    "| Hallucinations | No risk | Some risk |\n",
    "\n",
    "The Embedding + vector search pattern we have looked at with this tutorial provides simple, fast and low cost semantic search functionality with the LLM intelligence. RAG adds context-aware text chat experience and result summarization to it. While RAG provides the more \"Gen AI-ish\" experience, it also adds a risk of hallucination and higher cost and time for the text generation.\n",
    "\n",
    "To learn more about how to build a RAG solution, you may look at [Building Generative AI applications made easy with Vertex AI PaLM API and LangChain](https://cloud.google.com/blog/products/ai-machine-learning/generative-ai-applications-with-vertex-ai-palm-2-models-and-langchain).\n",
    "\n",
    "## Resources\n",
    "\n",
    "To learn more, please check out the following resources:\n",
    "\n",
    "### Documentations\n",
    "\n",
    "[Vertex AI Embeddings for Text API documentation\n",
    "](https://cloud.google.com/vertex-ai/docs/generative-ai/embeddings/get-text-embeddings)\n",
    "\n",
    "[Vector Search documentation](https://cloud.google.com/vertex-ai/docs/matching-engine/overview)\n",
    "\n",
    "### Vector Search blog posts\n",
    "\n",
    "[Vertex Matching Engine: Blazing fast and massively scalable nearest neighbor search](https://cloud.google.com/blog/products/ai-machine-learning/vertex-matching-engine-blazing-fast-and-massively-scalable-nearest-neighbor-search)\n",
    "\n",
    "[Find anything blazingly fast with Google's vector search technology](https://cloud.google.com/blog/topics/developers-practitioners/find-anything-blazingly-fast-googles-vector-search-technology)\n",
    "\n",
    "[Enabling real-time AI with Streaming Ingestion in Vertex AI](https://cloud.google.com/blog/products/ai-machine-learning/real-time-ai-with-google-cloud-vertex-ai)\n",
    "\n",
    "[Mercari leverages Google's vector search technology to create a new marketplace](https://cloud.google.com/blog/topics/developers-practitioners/mercari-leverages-googles-vector-search-technology-create-new-marketplace)\n",
    "\n",
    "[Recommending news articles using Vertex AI Matching Engine](https://cloud.google.com/blog/products/ai-machine-learning/recommending-articles-using-vertex-ai-matching-engine)\n",
    "\n",
    "[What is Multimodal Search: \"LLMs with vision\" change businesses](https://cloud.google.com/blog/products/ai-machine-learning/multimodal-generative-ai-search)"
   ]
  },
  {
   "cell_type": "markdown",
   "metadata": {
    "id": "BE1tELsH-u8N"
   },
   "source": [
    "# Utilities\n",
    "\n",
    "Sometimes it takes tens of minutes to create or deploy Indexes and you would lose connection with the Colab runtime. In that case, instead of creating or deploying new Index again, you can check [the Vector Search Console](https://console.cloud.google.com/vertex-ai/matching-engine/index-endpoints) and get the existing ones to continue."
   ]
  },
  {
   "cell_type": "markdown",
   "metadata": {
    "id": "wF_pkdpJ-yaq"
   },
   "source": [
    "## Get an existing Index\n",
    "\n",
    "To get an Index object that already exists, replace the following `[your-index-id]` with the index ID and run the cell. You can check the ID on [the Vector Search Console > INDEXES tab](https://console.cloud.google.com/vertex-ai/matching-engine/indexes)."
   ]
  },
  {
   "cell_type": "code",
   "execution_count": null,
   "metadata": {
    "id": "mEBkZZt_-0jG"
   },
   "outputs": [],
   "source": [
    "my_index_id = \"[your-index-id]\"  # @param {type:\"string\"}\n",
    "my_index = aiplatform.MatchingEngineIndex(my_index_id)"
   ]
  },
  {
   "cell_type": "markdown",
   "metadata": {
    "id": "_vlgzkyw-3CI"
   },
   "source": [
    "## Get an existing Index Endpoint\n",
    "\n",
    "To get an Index Endpoint object that already exists, replace the following `[your-index-endpoint-id]` with the Index Endpoint ID and run the cell. You can check the ID on [the Vector Search Console > INDEX ENDPOINTS tab](https://console.cloud.google.com/vertex-ai/matching-engine/index-endpoints)."
   ]
  },
  {
   "cell_type": "code",
   "execution_count": null,
   "metadata": {
    "id": "E0OFnirF-6Rk"
   },
   "outputs": [],
   "source": [
    "my_index_endpoint_id = \"[your-index-endpoint-id]\"  # @param {type:\"string\"}\n",
    "my_index_endpoint = aiplatform.MatchingEngineIndexEndpoint(my_index_endpoint_id)"
   ]
  }
 ],
 "metadata": {
  "colab": {
   "name": "intro-textemb-vectorsearch.ipynb",
   "toc_visible": true
  },
  "environment": {
   "kernel": "conda-base-py",
   "name": "workbench-notebooks.m131",
   "type": "gcloud",
   "uri": "us-docker.pkg.dev/deeplearning-platform-release/gcr.io/workbench-notebooks:m131"
  },
  "kernelspec": {
   "display_name": "Python 3 (ipykernel) (Local) (Local)",
   "language": "python",
   "name": "conda-base-py"
  },
  "language_info": {
   "codemirror_mode": {
    "name": "ipython",
    "version": 3
   },
   "file_extension": ".py",
   "mimetype": "text/x-python",
   "name": "python",
   "nbconvert_exporter": "python",
   "pygments_lexer": "ipython3",
   "version": "3.10.18"
  }
 },
 "nbformat": 4,
 "nbformat_minor": 4
}
